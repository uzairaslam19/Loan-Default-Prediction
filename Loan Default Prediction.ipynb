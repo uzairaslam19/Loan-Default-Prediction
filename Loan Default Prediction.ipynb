{
 "cells": [
  {
   "cell_type": "markdown",
   "metadata": {},
   "source": [
    "# Technical Assessment\n",
    "\n",
    "## Center for Applied Data Science"
   ]
  },
  {
   "cell_type": "markdown",
   "metadata": {},
   "source": [
    "### Question 1:- Construct a SQL database to store the source data, showing the complete build process in your notebook.\n",
    "#### Creating SQL Database and Loading the data into it"
   ]
  },
  {
   "cell_type": "markdown",
   "metadata": {},
   "source": [
    "As per the intructions i'm using Sqlite3 to create and store a database and store in all the data. \n",
    "    \"For Creating a Database, i will be using Sqlite3 library within python, where i will create the database and inject the data in tables directly from csv's"
   ]
  },
  {
   "cell_type": "markdown",
   "metadata": {},
   "source": [
    "##### Importing the libraries"
   ]
  },
  {
   "cell_type": "code",
   "execution_count": 1,
   "metadata": {},
   "outputs": [],
   "source": [
    "import sqlite3, csv"
   ]
  },
  {
   "cell_type": "markdown",
   "metadata": {},
   "source": [
    "###### Creating the Database using .connect() function. The database is called cads2 and is stored in the Current Directory"
   ]
  },
  {
   "cell_type": "code",
   "execution_count": 2,
   "metadata": {},
   "outputs": [],
   "source": [
    "conn= sqlite3.connect('cads2.db')  #if no database is found, it creates a new database with cads name\n",
    "c= conn.cursor() #creating a cursor for our database"
   ]
  },
  {
   "cell_type": "markdown",
   "metadata": {},
   "source": [
    "##### Now It's time to create tables within our Database and inject data to them"
   ]
  },
  {
   "cell_type": "markdown",
   "metadata": {},
   "source": [
    "First i created the District table, Since the datatypes were not given in the data dictionary i assumed them myself|||| Setting A1 as Primary Key\n",
    "### District Table"
   ]
  },
  {
   "cell_type": "code",
   "execution_count": 3,
   "metadata": {},
   "outputs": [
    {
     "data": {
      "text/plain": [
       "'c.execute(\"\"\"CREATE TABLE district ( \\n            A1 INTEGER PRIMARY KEY,A2 TEXT, A3 TEXT, A4 INTEGER, A5 INTEGER, A6 INTEGER, A7 INTEGER, A8 INTEGER,\\n                    A9 INTEGER, A10 REAL, A11 INTEGER, A12 REAL, A13 REAL, A14 INTEGER, A15 INTEGER, A16 INTEGER); \"\"\")'"
      ]
     },
     "execution_count": 3,
     "metadata": {},
     "output_type": "execute_result"
    }
   ],
   "source": [
    "'''c.execute(\"\"\"CREATE TABLE district ( \n",
    "            A1 INTEGER PRIMARY KEY,A2 TEXT, A3 TEXT, A4 INTEGER, A5 INTEGER, A6 INTEGER, A7 INTEGER, A8 INTEGER,\n",
    "                    A9 INTEGER, A10 REAL, A11 INTEGER, A12 REAL, A13 REAL, A14 INTEGER, A15 INTEGER, A16 INTEGER); \"\"\")'''"
   ]
  },
  {
   "cell_type": "code",
   "execution_count": 4,
   "metadata": {},
   "outputs": [],
   "source": [
    "with open('district.csv','r') as fin: # Reading  Csv \n",
    "        # Here the first line is taken as Headers, and since the csv's provided by cads had delimeter as semicolon, i set it as parameter\\n\",\n",
    "        dr = csv.DictReader(fin, delimiter= ';') # comma is default delimiter, so i set it to semicolon\n",
    "        to_db = [(i['A1'], i['A2'],i['A3'],i['A4'],i['A5'],i['A6'],i['A7'],i['A8'],i['A9'],i['A10'],i['A11'],i['A12'],i['A13'],i['A14'],i['A15'],i['A16']) for i in dr]"
   ]
  },
  {
   "cell_type": "markdown",
   "metadata": {},
   "source": [
    "Once the Data has been read from CSV, I used Execute many command to insert the row into the table"
   ]
  },
  {
   "cell_type": "code",
   "execution_count": 5,
   "metadata": {},
   "outputs": [],
   "source": [
    "#c.executemany(\"INSERT INTO district (A1,A2,A3,A4,A5,A6,A7,A8,A9,A10,A11,A12,A13,A14,A15,A16) VALUES (?,?,?,?,?,?,?,?,?,?,?,?,?,?,?,?);\", to_db)"
   ]
  },
  {
   "cell_type": "markdown",
   "metadata": {},
   "source": [
    "As a sannity check lets see whether the data was injected correctly to the table"
   ]
  },
  {
   "cell_type": "code",
   "execution_count": 6,
   "metadata": {},
   "outputs": [],
   "source": [
    "#c.execute(\"DROP TABLE IF EXISTS district\")"
   ]
  },
  {
   "cell_type": "code",
   "execution_count": 7,
   "metadata": {},
   "outputs": [],
   "source": [
    "c.execute('SELECT A1,A2,A3,A4,A5,A6,A7,A8,A9,A10,A11,A12,A13,A14,A15,A16 FROM district LIMIT 10')\n",
    "Data = c.fetchall()"
   ]
  },
  {
   "cell_type": "code",
   "execution_count": 8,
   "metadata": {},
   "outputs": [
    {
     "name": "stdout",
     "output_type": "stream",
     "text": [
      "A1 A2             A3              A4      A5 A6 A7 A8 A9 A10   A11   A12  A13  A14 A15   A16  \n",
      " 1 Hl.m. Praha    Prague          1204953  0  0  0  1  1 100.0 12541 0.29 0.43 167 85677 99107\n",
      " 2 Benesov        central Bohemia   88884 80 26  6  2  5  46.7  8507 1.67 1.85 132  2159  2674\n",
      " 3 Beroun         central Bohemia   75232 55 26  4  1  5  41.7  8980 1.95 2.21 111  2824  2813\n",
      " 4 Kladno         central Bohemia  149893 63 29  6  2  6  67.4  9753 4.64 5.05 109  5244  5892\n",
      " 5 Kolin          central Bohemia   95616 65 30  4  1  6  51.4  9307 3.85 4.43 118  2616  3040\n",
      " 6 Kutna Hora     central Bohemia   77963 60 23  4  2  4  51.5  8546 2.95 4.02 126  2640  3120\n",
      " 7 Melnik         central Bohemia   94725 38 28  1  3  6  63.4  9920 2.26 2.87 130  4289  4846\n",
      " 8 Mlada Boleslav central Bohemia  112065 95 19  7  1  8  69.4 11277 1.25 1.44 127  5179  4987\n",
      " 9 Nymburk        central Bohemia   81344 61 23  4  2  6  55.3  8899 3.39 3.97 149  2987  2487\n",
      "10 Praha - vychod central Bohemia   92084 55 29  4  3  5  46.7 10124 0.56 0.54 141  3810  4316\n"
     ]
    }
   ],
   "source": [
    "# Determine the longest width for each column\\n\",\n",
    "header = (\"A1\", \"A2\", \"A3\", \"A4\", \"A5\", \"A6\", \"A7\", \"A8\", \"A9\", \"A10\", \"A11\", \"A12\", \"A13\", \"A14\", \"A15\", \"A16\")\n",
    "widths = [len(cell) for cell in header]\n",
    "for row in Data:\n",
    "    for i, cell in enumerate(row):\n",
    "       widths[i] = max(len(str(cell)), widths[i])\n",
    "#Construct formatted row like before\n",
    "formatted_row = ' '.join('{:%d}' % width for width in widths)\n",
    "print(formatted_row.format(*header))\n",
    "for row in Data:\n",
    "    print(formatted_row.format(*row))"
   ]
  },
  {
   "cell_type": "code",
   "execution_count": 9,
   "metadata": {},
   "outputs": [],
   "source": [
    "conn.commit()"
   ]
  },
  {
   "cell_type": "markdown",
   "metadata": {},
   "source": [
    "#### Now that i have created the first table.. it's time to follow through for all other csv files and tables"
   ]
  },
  {
   "cell_type": "markdown",
   "metadata": {},
   "source": [
    "### Accounts Table"
   ]
  },
  {
   "cell_type": "markdown",
   "metadata": {},
   "source": [
    "Creating the Accounts Table and injecting the data to it from the accounts CSV"
   ]
  },
  {
   "cell_type": "code",
   "execution_count": 10,
   "metadata": {},
   "outputs": [],
   "source": [
    "#c.execute(\"\"\"CREATE TABLE account (account_id INTEGER PRIMARY KEY, district_id INTEGER,frequency TEXT, date TEXT, FOREIGN KEY(district_id) REFERENCES district(A1)); \"\"\")"
   ]
  },
  {
   "cell_type": "markdown",
   "metadata": {},
   "source": [
    "SQLITE3 does not have support for datetime formatting, so for now i am simply loading it above as TEXT format"
   ]
  },
  {
   "cell_type": "code",
   "execution_count": 11,
   "metadata": {},
   "outputs": [],
   "source": [
    "#c.execute(\"DROP TABLE IF EXISTS account\")"
   ]
  },
  {
   "cell_type": "code",
   "execution_count": 12,
   "metadata": {},
   "outputs": [
    {
     "data": {
      "text/plain": [
       "\"with open('account.csv','r') as finn:  \\n    dr1 = csv.DictReader(finn, delimiter = ';') # i made some changes in csv to delimiter is comma.. if you run it change it to semicolon\\n    to_db2 = [(i['account_id'], i['district_id'],i['frequency'],i['date']) for i in dr1]\""
      ]
     },
     "execution_count": 12,
     "metadata": {},
     "output_type": "execute_result"
    }
   ],
   "source": [
    "'''with open('account.csv','r') as finn:  \n",
    "    dr1 = csv.DictReader(finn, delimiter = ';') # i made some changes in csv to delimiter is comma.. if you run it change it to semicolon\n",
    "    to_db2 = [(i['account_id'], i['district_id'],i['frequency'],i['date']) for i in dr1]'''"
   ]
  },
  {
   "cell_type": "code",
   "execution_count": 13,
   "metadata": {},
   "outputs": [],
   "source": [
    "#c.executemany(\"INSERT INTO account (account_id,district_id,frequency,date) VALUES (?,?,?,?);\", to_db2)"
   ]
  },
  {
   "cell_type": "markdown",
   "metadata": {},
   "source": [
    "##### For Sanity Check priniting out the data to see if it has been injected properly we print out the first 10 rows"
   ]
  },
  {
   "cell_type": "code",
   "execution_count": 14,
   "metadata": {},
   "outputs": [],
   "source": [
    "c.execute('SELECT account_id,district_id,frequency,date TEXT FROM account LIMIT 10')\n",
    "Acc = c.fetchall()"
   ]
  },
  {
   "cell_type": "code",
   "execution_count": 15,
   "metadata": {},
   "outputs": [
    {
     "name": "stdout",
     "output_type": "stream",
     "text": [
      "account_id district_id frequency        date  \n",
      "         1          18 POPLATEK MESICNE 950324\n",
      "         2           1 POPLATEK MESICNE 930226\n",
      "         3           5 POPLATEK MESICNE 970707\n",
      "         4          12 POPLATEK MESICNE 960221\n",
      "         5          15 POPLATEK MESICNE 970530\n",
      "         6          51 POPLATEK MESICNE 940927\n",
      "         7          60 POPLATEK MESICNE 961124\n",
      "         8          57 POPLATEK MESICNE 950921\n",
      "         9          70 POPLATEK MESICNE 930127\n",
      "        10          54 POPLATEK MESICNE 960828\n"
     ]
    }
   ],
   "source": [
    "# Determine the longest width for each column\\n\",\n",
    "header2 = (\"account_id\", \"district_id\", \"frequency\", \"date\")\n",
    "widths2 = [len(cell) for cell in header2]\n",
    "for row in Acc:\n",
    "    for i, cell in enumerate(row):\n",
    "        widths2[i] = max(len(str(cell)), widths2[i])\n",
    "#Construct formatted row like before\n",
    "formatted_row = ' '.join('{:%d}' % width for width in widths2)\n",
    "print(formatted_row.format(*header2))\n",
    "for row in Acc:\n",
    "    print(formatted_row.format(*row))"
   ]
  },
  {
   "cell_type": "markdown",
   "metadata": {},
   "source": [
    "##### Creating The Client Table and Injecting data from client.csv\n",
    "\n",
    "### Client Table"
   ]
  },
  {
   "cell_type": "code",
   "execution_count": 16,
   "metadata": {},
   "outputs": [
    {
     "data": {
      "text/plain": [
       "'c.execute(\"\"\"CREATE TABLE client (\\n                    client_id INTEGER PRIMARY KEY,birth_number INTEGER, district_id INTEGER, FOREIGN KEY(district_id) REFERENCES district(A1) ); \"\"\")'"
      ]
     },
     "execution_count": 16,
     "metadata": {},
     "output_type": "execute_result"
    }
   ],
   "source": [
    "'''c.execute(\"\"\"CREATE TABLE client (\n",
    "                    client_id INTEGER PRIMARY KEY,birth_number INTEGER, district_id INTEGER, FOREIGN KEY(district_id) REFERENCES district(A1) ); \"\"\")'''"
   ]
  },
  {
   "cell_type": "code",
   "execution_count": 17,
   "metadata": {},
   "outputs": [],
   "source": [
    "#c.execute(\"DROP TABLE IF EXISTS client\")"
   ]
  },
  {
   "cell_type": "code",
   "execution_count": 18,
   "metadata": {},
   "outputs": [
    {
     "data": {
      "text/plain": [
       "'with open(\\'client.csv\\',\\'r\\') as cli:\\n# Here the first line is taken as Headers, and since the csv\\'s provided by cads had delimeter as semicolon, i set it as parameter\\n    dr2 = csv.DictReader(cli, delimiter= \\';\\') # comma is default delimiter, so i set it to semicolon\\n\",\\n    to_db3 = [(i[\\'client_id\\'], i[\\'birth_number\\'],i[\\'district_id\\']) for i in dr2]'"
      ]
     },
     "execution_count": 18,
     "metadata": {},
     "output_type": "execute_result"
    }
   ],
   "source": [
    "'''with open('client.csv','r') as cli:\n",
    "# Here the first line is taken as Headers, and since the csv's provided by cads had delimeter as semicolon, i set it as parameter\n",
    "    dr2 = csv.DictReader(cli, delimiter= ';') # comma is default delimiter, so i set it to semicolon\\n\",\n",
    "    to_db3 = [(i['client_id'], i['birth_number'],i['district_id']) for i in dr2]'''"
   ]
  },
  {
   "cell_type": "code",
   "execution_count": 19,
   "metadata": {},
   "outputs": [],
   "source": [
    "#c.executemany(\"INSERT INTO client (client_id,birth_number,district_id) VALUES (?,?,?);\", to_db3)"
   ]
  },
  {
   "cell_type": "markdown",
   "metadata": {},
   "source": [
    "##### For Sanity check, lets print out the Client table to see if it has been injected correctly"
   ]
  },
  {
   "cell_type": "code",
   "execution_count": 20,
   "metadata": {},
   "outputs": [
    {
     "name": "stdout",
     "output_type": "stream",
     "text": [
      "client_id birth_number district_id\n",
      "        1       706213          18\n",
      "        2       450204           1\n",
      "        3       406009           1\n",
      "        4       561201           5\n",
      "        5       605703           5\n",
      "        6       190922          12\n",
      "        7       290125          15\n",
      "        8       385221          51\n",
      "        9       351016          60\n",
      "       10       430501          57\n"
     ]
    }
   ],
   "source": [
    "c.execute('SELECT * FROM client LIMIT 10')\n",
    "Cli = c.fetchall()\n",
    "# Determine the longest width for each column\n",
    "header3 = (\"client_id\", \"birth_number\", \"district_id\")\n",
    "widths3 = [len(cell) for cell in header3]\n",
    "for row in Cli:\n",
    "    for i, cell in enumerate(row):\n",
    "        widths3[i] = max(len(str(cell)), widths3[i])\n",
    "#Construct formatted row like before\n",
    "formatted_row = ' '.join('{:%d}' % width for width in widths3)\n",
    "print(formatted_row.format(*header3))\n",
    "for row in Cli:\n",
    "    print(formatted_row.format(*row))"
   ]
  },
  {
   "cell_type": "markdown",
   "metadata": {},
   "source": [
    "Similarly Creating the transanction Table and injecting data from Csv\n",
    "\n",
    "### Transaction Table"
   ]
  },
  {
   "cell_type": "code",
   "execution_count": 21,
   "metadata": {},
   "outputs": [
    {
     "data": {
      "text/plain": [
       "'c.execute(\"\"\"CREATE TABLE trans (\\n                trans_id INTEGER PRIMARY KEY,account_id INTEGER, \\n                date TEXT, type TEXT,operation TEXT, amount REAL, balance REAL,\\n                k_symbol TEXT, bank TEXT, account INTEGER, FOREIGN KEY(account_id) REFERENCES account(account_id) ); \"\"\")'"
      ]
     },
     "execution_count": 21,
     "metadata": {},
     "output_type": "execute_result"
    }
   ],
   "source": [
    "'''c.execute(\"\"\"CREATE TABLE trans (\n",
    "                trans_id INTEGER PRIMARY KEY,account_id INTEGER, \n",
    "                date TEXT, type TEXT,operation TEXT, amount REAL, balance REAL,\n",
    "                k_symbol TEXT, bank TEXT, account INTEGER, FOREIGN KEY(account_id) REFERENCES account(account_id) ); \"\"\")'''"
   ]
  },
  {
   "cell_type": "code",
   "execution_count": 22,
   "metadata": {},
   "outputs": [],
   "source": [
    "#c.execute(\"DROP TABLE IF EXISTS trans\")"
   ]
  },
  {
   "cell_type": "code",
   "execution_count": 23,
   "metadata": {},
   "outputs": [
    {
     "data": {
      "text/plain": [
       "\"with open('trans.csv','r') as trs: \\n    dr3 = csv.DictReader(trs, delimiter= ';') \\n    to_db4 = [(i['trans_id'], i['account_id'],i['date'],i['type'],i['operation'],i['amount'],i['balance'],i['k_symbol'],i['bank'],i['account']) for i in dr3]\""
      ]
     },
     "execution_count": 23,
     "metadata": {},
     "output_type": "execute_result"
    }
   ],
   "source": [
    "'''with open('trans.csv','r') as trs: \n",
    "    dr3 = csv.DictReader(trs, delimiter= ';') \n",
    "    to_db4 = [(i['trans_id'], i['account_id'],i['date'],i['type'],i['operation'],i['amount'],i['balance'],i['k_symbol'],i['bank'],i['account']) for i in dr3]'''"
   ]
  },
  {
   "cell_type": "code",
   "execution_count": 24,
   "metadata": {},
   "outputs": [],
   "source": [
    "#c.executemany(\"INSERT INTO trans (trans_id,account_id,date,type,operation,amount,balance,k_symbol,bank,account) VALUES (?,?,?,?,?,?,?,?,?,?);\", to_db4)"
   ]
  },
  {
   "cell_type": "markdown",
   "metadata": {},
   "source": [
    "##### For Sanity Check priniting out the data to see if it has been injected properly we print out first 20 rows"
   ]
  },
  {
   "cell_type": "code",
   "execution_count": 25,
   "metadata": {},
   "outputs": [
    {
     "name": "stdout",
     "output_type": "stream",
     "text": [
      "trans_id account_id date   type   operation     amount balance k_symbol bank account \n",
      "       1          1 950324 PRIJEM VKLAD         1000.0  1000.0                       \n",
      "       5          1 950413 PRIJEM PREVOD Z UCTU 3679.0  4679.0          AB   41403269\n",
      "       6          1 950513 PRIJEM PREVOD Z UCTU 3679.0 20977.2          AB   41403269\n",
      "       7          1 950613 PRIJEM PREVOD Z UCTU 3679.0 26835.2          AB   41403269\n",
      "       8          1 950713 PRIJEM PREVOD Z UCTU 3679.0 30414.8          AB   41403269\n",
      "       9          1 950813 PRIJEM PREVOD Z UCTU 3679.0 28902.7          AB   41403269\n",
      "      10          1 950913 PRIJEM PREVOD Z UCTU 3679.0 22714.3          AB   41403269\n",
      "      11          1 951013 PRIJEM PREVOD Z UCTU 3679.0 23318.2          AB   41403269\n",
      "      12          1 951113 PRIJEM PREVOD Z UCTU 3679.0 21721.1          AB   41403269\n",
      "      13          1 951213 PRIJEM PREVOD Z UCTU 3679.0 20248.6          AB   41403269\n"
     ]
    }
   ],
   "source": [
    "c.execute('SELECT * FROM trans LIMIT 10')\n",
    "tr = c.fetchall()\n",
    "# Determine the longest width for each column\\n\",\n",
    "header4 = (\"trans_id\", \"account_id\", \"date\",\"type\",\"operation\",\"amount\",\"balance\",\"k_symbol\",\"bank\",\"account\")\n",
    "widths4 = [len(cell) for cell in header4]\n",
    "for row in tr:\n",
    "    for i, cell in enumerate(row):\n",
    "        widths4[i] = max(len(str(cell)), widths4[i])\n",
    "#Construct formatted row like before\n",
    "formatted_row = ' '.join('{:%d}' % width for width in widths4)\n",
    "print(formatted_row.format(*header4))\n",
    "for row in tr:\n",
    "    print(formatted_row.format(*row))"
   ]
  },
  {
   "cell_type": "markdown",
   "metadata": {},
   "source": [
    "### Loan Table"
   ]
  },
  {
   "cell_type": "code",
   "execution_count": 26,
   "metadata": {},
   "outputs": [
    {
     "data": {
      "text/plain": [
       "'c.execute(\"\"\"CREATE TABLE loan (\\n                loan_id INTEGER PRIMARY KEY,account_id INTEGER, \\n                date TEXT, amount REAL, duration INTEGER,\\n                payments INTEGER,status TEXT, FOREIGN KEY(account_id) REFERENCES account(account_id) ); \"\"\")'"
      ]
     },
     "execution_count": 26,
     "metadata": {},
     "output_type": "execute_result"
    }
   ],
   "source": [
    "'''c.execute(\"\"\"CREATE TABLE loan (\n",
    "                loan_id INTEGER PRIMARY KEY,account_id INTEGER, \n",
    "                date TEXT, amount REAL, duration INTEGER,\n",
    "                payments INTEGER,status TEXT, FOREIGN KEY(account_id) REFERENCES account(account_id) ); \"\"\")'''"
   ]
  },
  {
   "cell_type": "code",
   "execution_count": 27,
   "metadata": {},
   "outputs": [],
   "source": [
    "#c.execute(\"DROP TABLE IF EXISTS loan\")"
   ]
  },
  {
   "cell_type": "code",
   "execution_count": 28,
   "metadata": {},
   "outputs": [
    {
     "data": {
      "text/plain": [
       "\"with open('loan.csv','r') as lo: \\n    dr4 = csv.DictReader(lo, delimiter= ';') # i made some changes in csv to delimiter is comma.. if you run it change it to semicolon\\n    to_db5 = [(i['loan_id'], i['account_id'],i['date'],i['amount'],i['duration'],i['payments'],i['status']) for i in dr4]\""
      ]
     },
     "execution_count": 28,
     "metadata": {},
     "output_type": "execute_result"
    }
   ],
   "source": [
    "'''with open('loan.csv','r') as lo: \n",
    "    dr4 = csv.DictReader(lo, delimiter= ';') # i made some changes in csv to delimiter is comma.. if you run it change it to semicolon\n",
    "    to_db5 = [(i['loan_id'], i['account_id'],i['date'],i['amount'],i['duration'],i['payments'],i['status']) for i in dr4]'''"
   ]
  },
  {
   "cell_type": "markdown",
   "metadata": {},
   "source": [
    "Inserting Data into the Loan Table from the csv"
   ]
  },
  {
   "cell_type": "code",
   "execution_count": 29,
   "metadata": {},
   "outputs": [],
   "source": [
    "#c.executemany(\"INSERT INTO loan (loan_id,account_id,date,amount,duration,payments,status) VALUES (?,?,?,?,?,?,?);\", to_db5)"
   ]
  },
  {
   "cell_type": "markdown",
   "metadata": {},
   "source": [
    "#### For Sanity Check priniting out the data to see if it has been injected properly we print out first 20 rows"
   ]
  },
  {
   "cell_type": "code",
   "execution_count": 30,
   "metadata": {
    "scrolled": false
   },
   "outputs": [
    {
     "name": "stdout",
     "output_type": "stream",
     "text": [
      "loan_id account_id date   amount   duration payments status\n",
      "   4959          2 940105  80952.0       24     3373 A     \n",
      "   4961         19 960429  30276.0       12     2523 B     \n",
      "   4962         25 971208  30276.0       12     2523 A     \n",
      "   4967         37 981014 318480.0       60     5308 D     \n",
      "   4968         38 980419 110736.0       48     2307 C     \n",
      "   4973         67 960502 165960.0       24     6915 A     \n",
      "   4986         97 970810 102876.0       12     8573 A     \n",
      "   4988        103 971206 265320.0       36     7370 D     \n",
      "   4989        105 981205 352704.0       48     7348 C     \n",
      "   4990        110 970908 162576.0       36     4516 C     \n"
     ]
    }
   ],
   "source": [
    "c.execute('SELECT * FROM loan LIMIT 10')\n",
    "loa = c.fetchall()\n",
    "# Determine the longest width for each column\\n\",\n",
    "header5 = (\"loan_id\", \"account_id\", \"date\",\"amount\",\"duration\",\"payments\",\"status\")\n",
    "widths5 = [len(cell) for cell in header5]\n",
    "for row in loa:\n",
    "    for i, cell in enumerate(row):\n",
    "        widths5[i] = max(len(str(cell)), widths5[i])\n",
    "#Construct formatted row like before\n",
    "formatted_row = ' '.join('{:%d}' % width for width in widths5)\n",
    "print(formatted_row.format(*header5))\n",
    "for row in loa:\n",
    "    print(formatted_row.format(*row))"
   ]
  },
  {
   "cell_type": "code",
   "execution_count": 31,
   "metadata": {},
   "outputs": [],
   "source": [
    "conn.commit()"
   ]
  },
  {
   "cell_type": "markdown",
   "metadata": {},
   "source": [
    "### Orders Table"
   ]
  },
  {
   "cell_type": "code",
   "execution_count": 32,
   "metadata": {},
   "outputs": [
    {
     "data": {
      "text/plain": [
       "'c.execute(\"\"\"CREATE TABLE Orders (\\n                order_id INTEGER PRIMARY KEY,account_id INTEGER, \\n                bank_to TEXT, account_to INTEGER, amount REAL,\\n                k_symbol TEXT, FOREIGN KEY(account_id) REFERENCES account(account_id) ); \"\"\")'"
      ]
     },
     "execution_count": 32,
     "metadata": {},
     "output_type": "execute_result"
    }
   ],
   "source": [
    "'''c.execute(\"\"\"CREATE TABLE Orders (\n",
    "                order_id INTEGER PRIMARY KEY,account_id INTEGER, \n",
    "                bank_to TEXT, account_to INTEGER, amount REAL,\n",
    "                k_symbol TEXT, FOREIGN KEY(account_id) REFERENCES account(account_id) ); \"\"\")'''"
   ]
  },
  {
   "cell_type": "code",
   "execution_count": 33,
   "metadata": {},
   "outputs": [],
   "source": [
    "#c.execute(\"DROP TABLE IF EXISTS orders\")"
   ]
  },
  {
   "cell_type": "code",
   "execution_count": 34,
   "metadata": {},
   "outputs": [
    {
     "data": {
      "text/plain": [
       "\"with open('order.csv','r') as ord: \\n    dr5 = csv.DictReader(ord, delimiter= ';') \\n    to_db6 = [(i['order_id'], i['account_id'],i['bank_to'],i['account_to'],i['amount'],i['k_symbol']) for i in dr5]\""
      ]
     },
     "execution_count": 34,
     "metadata": {},
     "output_type": "execute_result"
    }
   ],
   "source": [
    "'''with open('order.csv','r') as ord: \n",
    "    dr5 = csv.DictReader(ord, delimiter= ';') \n",
    "    to_db6 = [(i['order_id'], i['account_id'],i['bank_to'],i['account_to'],i['amount'],i['k_symbol']) for i in dr5]'''"
   ]
  },
  {
   "cell_type": "code",
   "execution_count": 35,
   "metadata": {},
   "outputs": [],
   "source": [
    "#c.executemany(\"INSERT INTO Orders (order_id,account_id,bank_to,account_to,amount,k_symbol) VALUES (?,?,?,?,?,?);\", to_db6)"
   ]
  },
  {
   "cell_type": "code",
   "execution_count": 36,
   "metadata": {},
   "outputs": [
    {
     "name": "stdout",
     "output_type": "stream",
     "text": [
      "order_id account_id bank_to account_to amount k_symbol\n",
      "   29401          1 YZ        87144583 2452.0 SIPO    \n",
      "   29402          2 ST        89597016 3372.7 UVER    \n",
      "   29403          2 QR        13943797 7266.0 SIPO    \n",
      "   29404          3 WX        83084338 1135.0 SIPO    \n",
      "   29405          3 CD        24485939  327.0         \n",
      "   29406          3 AB        59972357 3539.0 POJISTNE\n",
      "   29407          4 UV        26693541 2078.0 SIPO    \n",
      "   29408          4 UV         5848086 1285.0 SIPO    \n",
      "   29409          5 GH        37390208 2668.0 SIPO    \n",
      "   29410          6 AB        44486999 3954.0 SIPO    \n"
     ]
    }
   ],
   "source": [
    "c.execute('SELECT * FROM Orders LIMIT 10')\n",
    "orde = c.fetchall()\n",
    "# Determine the longest width for each column\\n\",\n",
    "header6 = (\"order_id\", \"account_id\", \"bank_to\",\"account_to\",\"amount\",\"k_symbol\")\n",
    "widths6 = [len(cell) for cell in header6]\n",
    "for row in orde:\n",
    "    for i, cell in enumerate(row):\n",
    "        widths6[i] = max(len(str(cell)), widths6[i])\n",
    "#Construct formatted row like before\n",
    "formatted_row = ' '.join('{:%d}' % width for width in widths6)\n",
    "print(formatted_row.format(*header6))\n",
    "for row in orde:\n",
    "    print(formatted_row.format(*row))"
   ]
  },
  {
   "cell_type": "code",
   "execution_count": 37,
   "metadata": {},
   "outputs": [],
   "source": [
    "conn.commit()"
   ]
  },
  {
   "cell_type": "markdown",
   "metadata": {},
   "source": [
    "### Card Table\n"
   ]
  },
  {
   "cell_type": "code",
   "execution_count": 38,
   "metadata": {},
   "outputs": [
    {
     "data": {
      "text/plain": [
       "'c.execute(\"\"\"CREATE TABLE card (\\n                card_id INTEGER PRIMARY KEY,disp_id INTEGER, \\n                type TEXT, issued TEXT, FOREIGN KEY(disp_id) REFERENCES relationship(disp_id) ); \"\"\")'"
      ]
     },
     "execution_count": 38,
     "metadata": {},
     "output_type": "execute_result"
    }
   ],
   "source": [
    "'''c.execute(\"\"\"CREATE TABLE card (\n",
    "                card_id INTEGER PRIMARY KEY,disp_id INTEGER, \n",
    "                type TEXT, issued TEXT, FOREIGN KEY(disp_id) REFERENCES relationship(disp_id) ); \"\"\")'''"
   ]
  },
  {
   "cell_type": "code",
   "execution_count": 39,
   "metadata": {},
   "outputs": [],
   "source": [
    "#c.execute(\"DROP TABLE IF EXISTS card\")"
   ]
  },
  {
   "cell_type": "code",
   "execution_count": 40,
   "metadata": {},
   "outputs": [
    {
     "data": {
      "text/plain": [
       "\"'with open('card.csv','r') as crd: \\n    dr6 = csv.DictReader(crd, delimiter= ';') \\n    to_db7 = [(i['card_id'], i['disp_id'],i['type'],i['issued']) for i in dr6]\""
      ]
     },
     "execution_count": 40,
     "metadata": {},
     "output_type": "execute_result"
    }
   ],
   "source": [
    "''''with open('card.csv','r') as crd: \n",
    "    dr6 = csv.DictReader(crd, delimiter= ';') \n",
    "    to_db7 = [(i['card_id'], i['disp_id'],i['type'],i['issued']) for i in dr6]'''"
   ]
  },
  {
   "cell_type": "code",
   "execution_count": 41,
   "metadata": {},
   "outputs": [],
   "source": [
    "#c.executemany(\"INSERT INTO card (card_id,disp_id,type,issued) VALUES (?,?,?,?);\", to_db7)"
   ]
  },
  {
   "cell_type": "code",
   "execution_count": 42,
   "metadata": {},
   "outputs": [
    {
     "name": "stdout",
     "output_type": "stream",
     "text": [
      "card_id disp_id type    issued         \n",
      "      1       9 gold    981016 00:00:00\n",
      "      2      19 classic 980313 00:00:00\n",
      "      3      41 gold    950903 00:00:00\n",
      "      4      42 classic 981126 00:00:00\n",
      "      5      51 junior  950424 00:00:00\n",
      "      7      56 classic 980611 00:00:00\n",
      "      8      60 junior  980520 00:00:00\n",
      "      9      76 classic 971025 00:00:00\n",
      "     10      77 classic 961207 00:00:00\n",
      "     11      79 gold    971025 00:00:00\n"
     ]
    }
   ],
   "source": [
    "c.execute('SELECT * FROM card LIMIT 10')\n",
    "car = c.fetchall()\n",
    "# Determine the longest width for each column\\n\",\n",
    "header7 = (\"card_id\", \"disp_id\", \"type\",\"issued\")\n",
    "widths7 = [len(cell) for cell in header7]\n",
    "for row in car:\n",
    "    for i, cell in enumerate(row):\n",
    "        widths7[i] = max(len(str(cell)), widths7[i])\n",
    "#Construct formatted row like before\n",
    "formatted_row = ' '.join('{:%d}' % width for width in widths7)\n",
    "print(formatted_row.format(*header7))\n",
    "for row in car:\n",
    "    print(formatted_row.format(*row))"
   ]
  },
  {
   "cell_type": "code",
   "execution_count": 43,
   "metadata": {},
   "outputs": [],
   "source": [
    "conn.commit()"
   ]
  },
  {
   "cell_type": "markdown",
   "metadata": {},
   "source": [
    "### Relationship Table"
   ]
  },
  {
   "cell_type": "code",
   "execution_count": 44,
   "metadata": {},
   "outputs": [
    {
     "data": {
      "text/plain": [
       "'c.execute(\"\"\"CREATE TABLE relationship (\\n                disp_id INTEGER PRIMARY KEY,client_id INTEGER, \\n                account_id INTEGER, type TEXT, FOREIGN KEY(client_id) REFERENCES client(client_id), FOREIGN KEY(account_id) REFERENCES account(account_id) ); \"\"\")'"
      ]
     },
     "execution_count": 44,
     "metadata": {},
     "output_type": "execute_result"
    }
   ],
   "source": [
    "'''c.execute(\"\"\"CREATE TABLE relationship (\n",
    "                disp_id INTEGER PRIMARY KEY,client_id INTEGER, \n",
    "                account_id INTEGER, type TEXT, FOREIGN KEY(client_id) REFERENCES client(client_id), FOREIGN KEY(account_id) REFERENCES account(account_id) ); \"\"\")'''"
   ]
  },
  {
   "cell_type": "code",
   "execution_count": 45,
   "metadata": {},
   "outputs": [],
   "source": [
    "#c.execute(\"DROP TABLE IF EXISTS relationship\")"
   ]
  },
  {
   "cell_type": "code",
   "execution_count": 46,
   "metadata": {},
   "outputs": [
    {
     "data": {
      "text/plain": [
       "\"with open('relationship.csv','r') as rel: \\n    dr7 = csv.DictReader(rel, delimiter= ';') \\n    to_db8 = [(i['disp_id'], i['client_id'],i['account_id'],i['type']) for i in dr7]\""
      ]
     },
     "execution_count": 46,
     "metadata": {},
     "output_type": "execute_result"
    }
   ],
   "source": [
    "'''with open('relationship.csv','r') as rel: \n",
    "    dr7 = csv.DictReader(rel, delimiter= ';') \n",
    "    to_db8 = [(i['disp_id'], i['client_id'],i['account_id'],i['type']) for i in dr7]'''"
   ]
  },
  {
   "cell_type": "code",
   "execution_count": 47,
   "metadata": {},
   "outputs": [],
   "source": [
    "#c.executemany(\"INSERT INTO relationship (disp_id,client_id,account_id,type) VALUES (?,?,?,?);\", to_db8)"
   ]
  },
  {
   "cell_type": "code",
   "execution_count": 48,
   "metadata": {},
   "outputs": [
    {
     "name": "stdout",
     "output_type": "stream",
     "text": [
      "disp_id client_id account_id type     \n",
      "      1         1          1 OWNER    \n",
      "      2         2          2 OWNER    \n",
      "      3         3          2 DISPONENT\n",
      "      4         4          3 OWNER    \n",
      "      5         5          3 DISPONENT\n",
      "      6         6          4 OWNER    \n",
      "      7         7          5 OWNER    \n",
      "      8         8          6 OWNER    \n",
      "      9         9          7 OWNER    \n",
      "     10        10          8 OWNER    \n"
     ]
    }
   ],
   "source": [
    "c.execute('SELECT * FROM relationship LIMIT 10')\n",
    "rela = c.fetchall()\n",
    "# Determine the longest width for each column\\n\",\n",
    "header8 = (\"disp_id\", \"client_id\", \"account_id\",\"type\")\n",
    "widths8 = [len(cell) for cell in header8]\n",
    "for row in rela:\n",
    "    for i, cell in enumerate(row):\n",
    "        widths8[i] = max(len(str(cell)), widths8[i])\n",
    "#Construct formatted row like before\n",
    "formatted_row = ' '.join('{:%d}' % width for width in widths8)\n",
    "print(formatted_row.format(*header8))\n",
    "for row in rela:\n",
    "    print(formatted_row.format(*row))"
   ]
  },
  {
   "cell_type": "code",
   "execution_count": 49,
   "metadata": {},
   "outputs": [],
   "source": [
    "conn.commit()"
   ]
  },
  {
   "cell_type": "markdown",
   "metadata": {},
   "source": [
    "###### Lets check how many tables are in our Database so far"
   ]
  },
  {
   "cell_type": "code",
   "execution_count": 50,
   "metadata": {},
   "outputs": [
    {
     "name": "stdout",
     "output_type": "stream",
     "text": [
      "district\n",
      "trans\n",
      "Orders\n",
      "relationship\n",
      "client\n",
      "loan\n",
      "card\n",
      "account\n"
     ]
    }
   ],
   "source": [
    "res = conn.execute(\"SELECT name FROM sqlite_master WHERE type='table';\")\n",
    "for name in res:\n",
    "    print (name[0])"
   ]
  },
  {
   "cell_type": "markdown",
   "metadata": {},
   "source": [
    "### Accessing all the TABLES"
   ]
  },
  {
   "cell_type": "code",
   "execution_count": 51,
   "metadata": {},
   "outputs": [
    {
     "name": "stdout",
     "output_type": "stream",
     "text": [
      "('district',)\n",
      "('trans',)\n",
      "('Orders',)\n",
      "('relationship',)\n",
      "('client',)\n",
      "('loan',)\n",
      "('card',)\n",
      "('account',)\n"
     ]
    }
   ],
   "source": [
    "for row in c.execute(\"SELECT name FROM sqlite_master WHERE type='table';\"):\n",
    "    print(row)"
   ]
  },
  {
   "cell_type": "markdown",
   "metadata": {},
   "source": [
    "## SECTION 2 QUERYING AND DATA EXPLORATION\n",
    "##### Now that the Database has been built and data is injected..It's time to perform some exploratory data analysis\n",
    "\n",
    "###### For this i will use pandas, numpy matplotlib and little bit of seaborn"
   ]
  },
  {
   "cell_type": "code",
   "execution_count": 52,
   "metadata": {},
   "outputs": [],
   "source": [
    "import numpy as np\n",
    "import pandas as pd\n",
    "import seaborn as sns\n",
    "import matplotlib.pyplot as plt\n",
    "%matplotlib inline\n",
    "from IPython.core.display import display"
   ]
  },
  {
   "cell_type": "markdown",
   "metadata": {},
   "source": [
    "### a) Clients\n"
   ]
  },
  {
   "cell_type": "markdown",
   "metadata": {},
   "source": [
    "###  i. Which branches have the highest number of customers?\n",
    "\n",
    "The query below gives me all clients in a particular district or branch. I'm storing the result in a pandas dataframe and printing it out in descending order"
   ]
  },
  {
   "cell_type": "code",
   "execution_count": 53,
   "metadata": {},
   "outputs": [],
   "source": [
    "dd= pd.read_sql_query(\"\"\"SELECT A.DISTRICT_NAME, COUNT(A.client_id) AS CNT \n",
    "                            FROM (SELECT A1 AS DISTRICT_ID, A2 AS DISTRICT_NAME,client_id FROM client LEFT JOIN district ON client.district_id=district.A1) A \n",
    "                            GROUP BY A.DISTRICT_NAME \n",
    "                            ORDER BY CNT DESC\"\"\",conn)"
   ]
  },
  {
   "cell_type": "code",
   "execution_count": 54,
   "metadata": {},
   "outputs": [
    {
     "data": {
      "text/html": [
       "<div>\n",
       "<style scoped>\n",
       "    .dataframe tbody tr th:only-of-type {\n",
       "        vertical-align: middle;\n",
       "    }\n",
       "\n",
       "    .dataframe tbody tr th {\n",
       "        vertical-align: top;\n",
       "    }\n",
       "\n",
       "    .dataframe thead th {\n",
       "        text-align: right;\n",
       "    }\n",
       "</style>\n",
       "<table border=\"1\" class=\"dataframe\">\n",
       "  <thead>\n",
       "    <tr style=\"text-align: right;\">\n",
       "      <th></th>\n",
       "      <th>DISTRICT_NAME</th>\n",
       "      <th>CNT</th>\n",
       "    </tr>\n",
       "  </thead>\n",
       "  <tbody>\n",
       "    <tr>\n",
       "      <th>0</th>\n",
       "      <td>Hl.m. Praha</td>\n",
       "      <td>663</td>\n",
       "    </tr>\n",
       "    <tr>\n",
       "      <th>1</th>\n",
       "      <td>Ostrava - mesto</td>\n",
       "      <td>180</td>\n",
       "    </tr>\n",
       "    <tr>\n",
       "      <th>2</th>\n",
       "      <td>Karvina</td>\n",
       "      <td>169</td>\n",
       "    </tr>\n",
       "    <tr>\n",
       "      <th>3</th>\n",
       "      <td>Brno - mesto</td>\n",
       "      <td>155</td>\n",
       "    </tr>\n",
       "    <tr>\n",
       "      <th>4</th>\n",
       "      <td>Zlin</td>\n",
       "      <td>109</td>\n",
       "    </tr>\n",
       "    <tr>\n",
       "      <th>5</th>\n",
       "      <td>Olomouc</td>\n",
       "      <td>104</td>\n",
       "    </tr>\n",
       "    <tr>\n",
       "      <th>6</th>\n",
       "      <td>Frydek - Mistek</td>\n",
       "      <td>86</td>\n",
       "    </tr>\n",
       "    <tr>\n",
       "      <th>7</th>\n",
       "      <td>Nachod</td>\n",
       "      <td>76</td>\n",
       "    </tr>\n",
       "    <tr>\n",
       "      <th>8</th>\n",
       "      <td>Usti nad Orlici</td>\n",
       "      <td>73</td>\n",
       "    </tr>\n",
       "    <tr>\n",
       "      <th>9</th>\n",
       "      <td>Kolin</td>\n",
       "      <td>71</td>\n",
       "    </tr>\n",
       "    <tr>\n",
       "      <th>10</th>\n",
       "      <td>Decin</td>\n",
       "      <td>69</td>\n",
       "    </tr>\n",
       "    <tr>\n",
       "      <th>11</th>\n",
       "      <td>Mlada Boleslav</td>\n",
       "      <td>69</td>\n",
       "    </tr>\n",
       "    <tr>\n",
       "      <th>12</th>\n",
       "      <td>Liberec</td>\n",
       "      <td>67</td>\n",
       "    </tr>\n",
       "    <tr>\n",
       "      <th>13</th>\n",
       "      <td>Prachatice</td>\n",
       "      <td>66</td>\n",
       "    </tr>\n",
       "    <tr>\n",
       "      <th>14</th>\n",
       "      <td>Zdar nad Sazavou</td>\n",
       "      <td>66</td>\n",
       "    </tr>\n",
       "    <tr>\n",
       "      <th>15</th>\n",
       "      <td>Louny</td>\n",
       "      <td>65</td>\n",
       "    </tr>\n",
       "    <tr>\n",
       "      <th>16</th>\n",
       "      <td>Kromeriz</td>\n",
       "      <td>64</td>\n",
       "    </tr>\n",
       "    <tr>\n",
       "      <th>17</th>\n",
       "      <td>Beroun</td>\n",
       "      <td>63</td>\n",
       "    </tr>\n",
       "    <tr>\n",
       "      <th>18</th>\n",
       "      <td>Brno - venkov</td>\n",
       "      <td>63</td>\n",
       "    </tr>\n",
       "    <tr>\n",
       "      <th>19</th>\n",
       "      <td>Cesky Krumlov</td>\n",
       "      <td>63</td>\n",
       "    </tr>\n",
       "  </tbody>\n",
       "</table>\n",
       "</div>"
      ],
      "text/plain": [
       "       DISTRICT_NAME  CNT\n",
       "0        Hl.m. Praha  663\n",
       "1    Ostrava - mesto  180\n",
       "2            Karvina  169\n",
       "3       Brno - mesto  155\n",
       "4               Zlin  109\n",
       "5            Olomouc  104\n",
       "6    Frydek - Mistek   86\n",
       "7             Nachod   76\n",
       "8    Usti nad Orlici   73\n",
       "9              Kolin   71\n",
       "10             Decin   69\n",
       "11    Mlada Boleslav   69\n",
       "12           Liberec   67\n",
       "13        Prachatice   66\n",
       "14  Zdar nad Sazavou   66\n",
       "15             Louny   65\n",
       "16          Kromeriz   64\n",
       "17            Beroun   63\n",
       "18     Brno - venkov   63\n",
       "19     Cesky Krumlov   63"
      ]
     },
     "metadata": {},
     "output_type": "display_data"
    }
   ],
   "source": [
    "display(dd.head(20))"
   ]
  },
  {
   "cell_type": "markdown",
   "metadata": {},
   "source": [
    " Since the dataframe is already formatted w.r.t highest number of clients in descending order. The top 5 branches(districts) which have the highest number of clients are given below and ploted below"
   ]
  },
  {
   "cell_type": "code",
   "execution_count": 55,
   "metadata": {},
   "outputs": [
    {
     "name": "stdout",
     "output_type": "stream",
     "text": [
      "[('Hl.m. Praha', 663), ('Ostrava - mesto', 180), ('Karvina', 169), ('Brno - mesto', 155), ('Zlin', 109)]\n"
     ]
    }
   ],
   "source": [
    "x= dd['DISTRICT_NAME'][:5]\n",
    "y= dd['CNT'][:5]\n",
    "print(list(zip(x,y)))"
   ]
  },
  {
   "cell_type": "code",
   "execution_count": 56,
   "metadata": {},
   "outputs": [
    {
     "data": {
      "text/plain": [
       "Text(0, 0.5, 'Number of Customers')"
      ]
     },
     "execution_count": 56,
     "metadata": {},
     "output_type": "execute_result"
    },
    {
     "data": {
      "image/png": "[encoded data removed]",
      "text/plain": [
       "<Figure size 432x288 with 1 Axes>"
      ]
     },
     "metadata": {
      "needs_background": "light"
     },
     "output_type": "display_data"
    }
   ],
   "source": [
    "plt.bar(x,y)\n",
    "plt.title('Top 5 Branches with Highest Number of Clients')\n",
    "plt.xlabel('District Name', fontsize=12)\n",
    "plt.ylabel('Number of Customers', fontsize=12)"
   ]
  },
  {
   "cell_type": "markdown",
   "metadata": {},
   "source": [
    "The District with highest number of clients is Hl.m. Praha with a total of 663 clients"
   ]
  },
  {
   "cell_type": "markdown",
   "metadata": {},
   "source": [
    "### ii. Which branches have shown a significant decline in the monthly number of accounts opened?"
   ]
  },
  {
   "cell_type": "markdown",
   "metadata": {},
   "source": [
    "OK!! This question really got me thinking, i spent alot of time trying to figure out a way around in SQL it self and came up with the query below. But i was still having issues so i decided to move my data to Pandas and try the solution there. Just in case im leaving the sql query in comments below"
   ]
  },
  {
   "cell_type": "code",
   "execution_count": 57,
   "metadata": {},
   "outputs": [],
   "source": [
    "dd2= pd.read_sql_query(\"\"\"SELECT A.DISTRICT_NAME, COUNT(A.account_id) AS CNT,SUBSTR(A.date,3,2) AS Month\n",
    "                            FROM (SELECT A1 AS DISTRICT_ID, A2 AS DISTRICT_NAME,date,account_id FROM account LEFT JOIN district ON account.district_id=district.A1) A \n",
    "                            GROUP BY A.DISTRICT_NAME, SUBSTR(A.date,3,2)\n",
    "                           ORDER BY A.DISTRICT_NAME, SUBSTR(A.date,3,2) ASC\"\"\",conn)"
   ]
  },
  {
   "cell_type": "code",
   "execution_count": 58,
   "metadata": {},
   "outputs": [
    {
     "data": {
      "text/html": [
       "<div>\n",
       "<style scoped>\n",
       "    .dataframe tbody tr th:only-of-type {\n",
       "        vertical-align: middle;\n",
       "    }\n",
       "\n",
       "    .dataframe tbody tr th {\n",
       "        vertical-align: top;\n",
       "    }\n",
       "\n",
       "    .dataframe thead th {\n",
       "        text-align: right;\n",
       "    }\n",
       "</style>\n",
       "<table border=\"1\" class=\"dataframe\">\n",
       "  <thead>\n",
       "    <tr style=\"text-align: right;\">\n",
       "      <th></th>\n",
       "      <th>DISTRICT_NAME</th>\n",
       "      <th>CNT</th>\n",
       "      <th>Month</th>\n",
       "    </tr>\n",
       "  </thead>\n",
       "  <tbody>\n",
       "    <tr>\n",
       "      <th>0</th>\n",
       "      <td>Benesov</td>\n",
       "      <td>1</td>\n",
       "      <td>01</td>\n",
       "    </tr>\n",
       "    <tr>\n",
       "      <th>1</th>\n",
       "      <td>Benesov</td>\n",
       "      <td>5</td>\n",
       "      <td>02</td>\n",
       "    </tr>\n",
       "    <tr>\n",
       "      <th>2</th>\n",
       "      <td>Benesov</td>\n",
       "      <td>2</td>\n",
       "      <td>03</td>\n",
       "    </tr>\n",
       "    <tr>\n",
       "      <th>3</th>\n",
       "      <td>Benesov</td>\n",
       "      <td>3</td>\n",
       "      <td>04</td>\n",
       "    </tr>\n",
       "    <tr>\n",
       "      <th>4</th>\n",
       "      <td>Benesov</td>\n",
       "      <td>2</td>\n",
       "      <td>05</td>\n",
       "    </tr>\n",
       "    <tr>\n",
       "      <th>5</th>\n",
       "      <td>Benesov</td>\n",
       "      <td>7</td>\n",
       "      <td>06</td>\n",
       "    </tr>\n",
       "    <tr>\n",
       "      <th>6</th>\n",
       "      <td>Benesov</td>\n",
       "      <td>7</td>\n",
       "      <td>07</td>\n",
       "    </tr>\n",
       "    <tr>\n",
       "      <th>7</th>\n",
       "      <td>Benesov</td>\n",
       "      <td>5</td>\n",
       "      <td>09</td>\n",
       "    </tr>\n",
       "    <tr>\n",
       "      <th>8</th>\n",
       "      <td>Benesov</td>\n",
       "      <td>5</td>\n",
       "      <td>10</td>\n",
       "    </tr>\n",
       "    <tr>\n",
       "      <th>9</th>\n",
       "      <td>Benesov</td>\n",
       "      <td>2</td>\n",
       "      <td>11</td>\n",
       "    </tr>\n",
       "    <tr>\n",
       "      <th>10</th>\n",
       "      <td>Benesov</td>\n",
       "      <td>3</td>\n",
       "      <td>12</td>\n",
       "    </tr>\n",
       "    <tr>\n",
       "      <th>11</th>\n",
       "      <td>Beroun</td>\n",
       "      <td>3</td>\n",
       "      <td>01</td>\n",
       "    </tr>\n",
       "    <tr>\n",
       "      <th>12</th>\n",
       "      <td>Beroun</td>\n",
       "      <td>3</td>\n",
       "      <td>03</td>\n",
       "    </tr>\n",
       "    <tr>\n",
       "      <th>13</th>\n",
       "      <td>Beroun</td>\n",
       "      <td>4</td>\n",
       "      <td>04</td>\n",
       "    </tr>\n",
       "    <tr>\n",
       "      <th>14</th>\n",
       "      <td>Beroun</td>\n",
       "      <td>11</td>\n",
       "      <td>05</td>\n",
       "    </tr>\n",
       "    <tr>\n",
       "      <th>15</th>\n",
       "      <td>Beroun</td>\n",
       "      <td>3</td>\n",
       "      <td>06</td>\n",
       "    </tr>\n",
       "    <tr>\n",
       "      <th>16</th>\n",
       "      <td>Beroun</td>\n",
       "      <td>3</td>\n",
       "      <td>07</td>\n",
       "    </tr>\n",
       "    <tr>\n",
       "      <th>17</th>\n",
       "      <td>Beroun</td>\n",
       "      <td>6</td>\n",
       "      <td>08</td>\n",
       "    </tr>\n",
       "    <tr>\n",
       "      <th>18</th>\n",
       "      <td>Beroun</td>\n",
       "      <td>5</td>\n",
       "      <td>09</td>\n",
       "    </tr>\n",
       "    <tr>\n",
       "      <th>19</th>\n",
       "      <td>Beroun</td>\n",
       "      <td>4</td>\n",
       "      <td>10</td>\n",
       "    </tr>\n",
       "  </tbody>\n",
       "</table>\n",
       "</div>"
      ],
      "text/plain": [
       "   DISTRICT_NAME  CNT Month\n",
       "0        Benesov    1    01\n",
       "1        Benesov    5    02\n",
       "2        Benesov    2    03\n",
       "3        Benesov    3    04\n",
       "4        Benesov    2    05\n",
       "5        Benesov    7    06\n",
       "6        Benesov    7    07\n",
       "7        Benesov    5    09\n",
       "8        Benesov    5    10\n",
       "9        Benesov    2    11\n",
       "10       Benesov    3    12\n",
       "11        Beroun    3    01\n",
       "12        Beroun    3    03\n",
       "13        Beroun    4    04\n",
       "14        Beroun   11    05\n",
       "15        Beroun    3    06\n",
       "16        Beroun    3    07\n",
       "17        Beroun    6    08\n",
       "18        Beroun    5    09\n",
       "19        Beroun    4    10"
      ]
     },
     "metadata": {},
     "output_type": "display_data"
    }
   ],
   "source": [
    "display(dd2.head(20)) "
   ]
  },
  {
   "cell_type": "code",
   "execution_count": 249,
   "metadata": {},
   "outputs": [],
   "source": [
    "dist = ''\n",
    "dff = pd.DataFrame()\n",
    "dist1 = list()\n",
    "diff1 = list()\n",
    "for index, row in dd2.iterrows():\n",
    "    if dist != row['DISTRICT_NAME']:\n",
    "        dist = row['DISTRICT_NAME']\n",
    "        diff = 0\n",
    "        cnt1 = 0\n",
    "        cnt12 = 0\n",
    "    \n",
    "    if dist == row['DISTRICT_NAME']:\n",
    "        \n",
    "        if row['Month'] == '01':\n",
    "            cnt1 =  row['CNT']\n",
    "            \n",
    "        if row['Month'] == '12':\n",
    "            cnt12 =  row['CNT']\n",
    "            \n",
    "        if cnt1 > 0 and cnt12 > 0 :\n",
    "            diff = int(cnt12) - int(cnt1)\n",
    "            \n",
    "            dist1.append(dist)\n",
    "            diff1.append(diff)\n",
    "dff['dist'] = pd.Series(dist1)\n",
    "dff['diff'] = pd.Series(diff1)\n",
    "        \n",
    "    \n",
    "    \n",
    "\n",
    "    "
   ]
  },
  {
   "cell_type": "code",
   "execution_count": 255,
   "metadata": {},
   "outputs": [
    {
     "data": {
      "text/html": [
       "<div>\n",
       "<style scoped>\n",
       "    .dataframe tbody tr th:only-of-type {\n",
       "        vertical-align: middle;\n",
       "    }\n",
       "\n",
       "    .dataframe tbody tr th {\n",
       "        vertical-align: top;\n",
       "    }\n",
       "\n",
       "    .dataframe thead th {\n",
       "        text-align: right;\n",
       "    }\n",
       "</style>\n",
       "<table border=\"1\" class=\"dataframe\">\n",
       "  <thead>\n",
       "    <tr style=\"text-align: right;\">\n",
       "      <th></th>\n",
       "      <th>dist</th>\n",
       "      <th>diff</th>\n",
       "    </tr>\n",
       "  </thead>\n",
       "  <tbody>\n",
       "    <tr>\n",
       "      <th>8</th>\n",
       "      <td>Ceske Budejovice</td>\n",
       "      <td>-2</td>\n",
       "    </tr>\n",
       "    <tr>\n",
       "      <th>10</th>\n",
       "      <td>Cheb</td>\n",
       "      <td>-2</td>\n",
       "    </tr>\n",
       "    <tr>\n",
       "      <th>11</th>\n",
       "      <td>Chomutov</td>\n",
       "      <td>-2</td>\n",
       "    </tr>\n",
       "    <tr>\n",
       "      <th>12</th>\n",
       "      <td>Chrudim</td>\n",
       "      <td>-5</td>\n",
       "    </tr>\n",
       "    <tr>\n",
       "      <th>13</th>\n",
       "      <td>Decin</td>\n",
       "      <td>-2</td>\n",
       "    </tr>\n",
       "  </tbody>\n",
       "</table>\n",
       "</div>"
      ],
      "text/plain": [
       "                dist  diff\n",
       "8   Ceske Budejovice    -2\n",
       "10              Cheb    -2\n",
       "11          Chomutov    -2\n",
       "12           Chrudim    -5\n",
       "13             Decin    -2"
      ]
     },
     "metadata": {},
     "output_type": "display_data"
    },
    {
     "data": {
      "text/plain": [
       "<BarContainer object of 31 artists>"
      ]
     },
     "execution_count": 255,
     "metadata": {},
     "output_type": "execute_result"
    },
    {
     "data": {
      "image/png": "[encoded data removed]",
      "text/plain": [
       "<Figure size 1440x576 with 1 Axes>"
      ]
     },
     "metadata": {
      "needs_background": "light"
     },
     "output_type": "display_data"
    }
   ],
   "source": [
    "display(data.head())\n",
    "data = dff[(dff['diff']<0)]\n",
    "plt.figure(figsize=(20,8))\n",
    "bar_width = 0.25\n",
    "plt.bar(data['dist'],data['diff'],bar_width)"
   ]
  },
  {
   "cell_type": "markdown",
   "metadata": {},
   "source": [
    "Umm ok so this was a bad idea, using sql i do have alot of freedom, but when it comes to datetimes, i chose SQLITE3 which doesnt support datetime formats.. I'm going to skip this question for now and try the others in Pandas Dataframes. Hopefully will have more luck"
   ]
  },
  {
   "cell_type": "markdown",
   "metadata": {},
   "source": [
    "### iii. How many of our clients are men/women?"
   ]
  },
  {
   "cell_type": "markdown",
   "metadata": {},
   "source": [
    "Since +50 is added to the months of date of births for females, Based on the months alone the Gender can be seggregated. I use Substring the extract the month,year and day from date column and along with client id i store it in a new dataframe"
   ]
  },
  {
   "cell_type": "code",
   "execution_count": 59,
   "metadata": {},
   "outputs": [],
   "source": [
    "Clients= pd.read_sql_query(\"\"\"SELECT A.Client,A.district_id, A.Y,A.M,A.D FROM (\n",
    "                            SELECT client_id AS Client, district_id, SUBSTR(birth_number,1,2) AS Y,  SUBSTR(birth_number,3,2) AS M,SUBSTR(birth_number,5,2) AS D FROM client)A\n",
    "                             \"\"\",conn)"
   ]
  },
  {
   "cell_type": "code",
   "execution_count": 60,
   "metadata": {},
   "outputs": [
    {
     "data": {
      "text/html": [
       "<div>\n",
       "<style scoped>\n",
       "    .dataframe tbody tr th:only-of-type {\n",
       "        vertical-align: middle;\n",
       "    }\n",
       "\n",
       "    .dataframe tbody tr th {\n",
       "        vertical-align: top;\n",
       "    }\n",
       "\n",
       "    .dataframe thead th {\n",
       "        text-align: right;\n",
       "    }\n",
       "</style>\n",
       "<table border=\"1\" class=\"dataframe\">\n",
       "  <thead>\n",
       "    <tr style=\"text-align: right;\">\n",
       "      <th></th>\n",
       "      <th>Client</th>\n",
       "      <th>district_id</th>\n",
       "      <th>Y</th>\n",
       "      <th>M</th>\n",
       "      <th>D</th>\n",
       "    </tr>\n",
       "  </thead>\n",
       "  <tbody>\n",
       "    <tr>\n",
       "      <th>0</th>\n",
       "      <td>1</td>\n",
       "      <td>18</td>\n",
       "      <td>70</td>\n",
       "      <td>62</td>\n",
       "      <td>13</td>\n",
       "    </tr>\n",
       "    <tr>\n",
       "      <th>1</th>\n",
       "      <td>2</td>\n",
       "      <td>1</td>\n",
       "      <td>45</td>\n",
       "      <td>02</td>\n",
       "      <td>04</td>\n",
       "    </tr>\n",
       "    <tr>\n",
       "      <th>2</th>\n",
       "      <td>3</td>\n",
       "      <td>1</td>\n",
       "      <td>40</td>\n",
       "      <td>60</td>\n",
       "      <td>09</td>\n",
       "    </tr>\n",
       "    <tr>\n",
       "      <th>3</th>\n",
       "      <td>4</td>\n",
       "      <td>5</td>\n",
       "      <td>56</td>\n",
       "      <td>12</td>\n",
       "      <td>01</td>\n",
       "    </tr>\n",
       "    <tr>\n",
       "      <th>4</th>\n",
       "      <td>5</td>\n",
       "      <td>5</td>\n",
       "      <td>60</td>\n",
       "      <td>57</td>\n",
       "      <td>03</td>\n",
       "    </tr>\n",
       "  </tbody>\n",
       "</table>\n",
       "</div>"
      ],
      "text/plain": [
       "   Client  district_id   Y   M   D\n",
       "0       1           18  70  62  13\n",
       "1       2            1  45  02  04\n",
       "2       3            1  40  60  09\n",
       "3       4            5  56  12  01\n",
       "4       5            5  60  57  03"
      ]
     },
     "metadata": {},
     "output_type": "display_data"
    }
   ],
   "source": [
    "display(Clients.head())"
   ]
  },
  {
   "cell_type": "markdown",
   "metadata": {},
   "source": [
    "Above we can clearly see that the months which have 50 added in them are in the high 50's and 60's. We can easily seggeregate the gender based on this in Pandas"
   ]
  },
  {
   "cell_type": "code",
   "execution_count": 61,
   "metadata": {},
   "outputs": [
    {
     "name": "stdout",
     "output_type": "stream",
     "text": [
      "(5369, 5)\n"
     ]
    }
   ],
   "source": [
    "print(Clients.shape)"
   ]
  },
  {
   "cell_type": "code",
   "execution_count": 62,
   "metadata": {},
   "outputs": [],
   "source": [
    "Clients=pd.DataFrame(Clients)"
   ]
  },
  {
   "cell_type": "code",
   "execution_count": 63,
   "metadata": {},
   "outputs": [
    {
     "data": {
      "text/html": [
       "<div>\n",
       "<style scoped>\n",
       "    .dataframe tbody tr th:only-of-type {\n",
       "        vertical-align: middle;\n",
       "    }\n",
       "\n",
       "    .dataframe tbody tr th {\n",
       "        vertical-align: top;\n",
       "    }\n",
       "\n",
       "    .dataframe thead th {\n",
       "        text-align: right;\n",
       "    }\n",
       "</style>\n",
       "<table border=\"1\" class=\"dataframe\">\n",
       "  <thead>\n",
       "    <tr style=\"text-align: right;\">\n",
       "      <th></th>\n",
       "      <th>Client</th>\n",
       "      <th>district_id</th>\n",
       "      <th>Y</th>\n",
       "      <th>M</th>\n",
       "      <th>D</th>\n",
       "    </tr>\n",
       "  </thead>\n",
       "  <tbody>\n",
       "    <tr>\n",
       "      <th>0</th>\n",
       "      <td>1</td>\n",
       "      <td>18</td>\n",
       "      <td>70</td>\n",
       "      <td>62</td>\n",
       "      <td>13</td>\n",
       "    </tr>\n",
       "    <tr>\n",
       "      <th>1</th>\n",
       "      <td>2</td>\n",
       "      <td>1</td>\n",
       "      <td>45</td>\n",
       "      <td>02</td>\n",
       "      <td>04</td>\n",
       "    </tr>\n",
       "    <tr>\n",
       "      <th>2</th>\n",
       "      <td>3</td>\n",
       "      <td>1</td>\n",
       "      <td>40</td>\n",
       "      <td>60</td>\n",
       "      <td>09</td>\n",
       "    </tr>\n",
       "    <tr>\n",
       "      <th>3</th>\n",
       "      <td>4</td>\n",
       "      <td>5</td>\n",
       "      <td>56</td>\n",
       "      <td>12</td>\n",
       "      <td>01</td>\n",
       "    </tr>\n",
       "    <tr>\n",
       "      <th>4</th>\n",
       "      <td>5</td>\n",
       "      <td>5</td>\n",
       "      <td>60</td>\n",
       "      <td>57</td>\n",
       "      <td>03</td>\n",
       "    </tr>\n",
       "  </tbody>\n",
       "</table>\n",
       "</div>"
      ],
      "text/plain": [
       "   Client  district_id   Y   M   D\n",
       "0       1           18  70  62  13\n",
       "1       2            1  45  02  04\n",
       "2       3            1  40  60  09\n",
       "3       4            5  56  12  01\n",
       "4       5            5  60  57  03"
      ]
     },
     "metadata": {},
     "output_type": "display_data"
    }
   ],
   "source": [
    "display(Clients.head())"
   ]
  },
  {
   "cell_type": "markdown",
   "metadata": {},
   "source": [
    "Before i apply any arithematic functions, i need to convert the M column to Integer type, because i stored it as Text in SQLITE3"
   ]
  },
  {
   "cell_type": "code",
   "execution_count": 64,
   "metadata": {},
   "outputs": [],
   "source": [
    "Clients.M = Clients.M.astype(int)"
   ]
  },
  {
   "cell_type": "markdown",
   "metadata": {},
   "source": [
    "Here i define a simple function that will take in a row and check the Month if it's less then 12 it's for Male otherwise Female"
   ]
  },
  {
   "cell_type": "code",
   "execution_count": 65,
   "metadata": {},
   "outputs": [],
   "source": [
    "def FindGender(row):\n",
    " if row['M'] > 12  :\n",
    "      return 'Female'\n",
    " else:\n",
    "        return 'Male'\n",
    "Clients['Gender'] = Clients.apply (lambda row: FindGender(row),axis=1)"
   ]
  },
  {
   "cell_type": "code",
   "execution_count": 66,
   "metadata": {},
   "outputs": [
    {
     "data": {
      "text/html": [
       "<div>\n",
       "<style scoped>\n",
       "    .dataframe tbody tr th:only-of-type {\n",
       "        vertical-align: middle;\n",
       "    }\n",
       "\n",
       "    .dataframe tbody tr th {\n",
       "        vertical-align: top;\n",
       "    }\n",
       "\n",
       "    .dataframe thead th {\n",
       "        text-align: right;\n",
       "    }\n",
       "</style>\n",
       "<table border=\"1\" class=\"dataframe\">\n",
       "  <thead>\n",
       "    <tr style=\"text-align: right;\">\n",
       "      <th></th>\n",
       "      <th>Client</th>\n",
       "      <th>district_id</th>\n",
       "      <th>Y</th>\n",
       "      <th>M</th>\n",
       "      <th>D</th>\n",
       "      <th>Gender</th>\n",
       "    </tr>\n",
       "  </thead>\n",
       "  <tbody>\n",
       "    <tr>\n",
       "      <th>0</th>\n",
       "      <td>1</td>\n",
       "      <td>18</td>\n",
       "      <td>70</td>\n",
       "      <td>62</td>\n",
       "      <td>13</td>\n",
       "      <td>Female</td>\n",
       "    </tr>\n",
       "    <tr>\n",
       "      <th>1</th>\n",
       "      <td>2</td>\n",
       "      <td>1</td>\n",
       "      <td>45</td>\n",
       "      <td>2</td>\n",
       "      <td>04</td>\n",
       "      <td>Male</td>\n",
       "    </tr>\n",
       "    <tr>\n",
       "      <th>2</th>\n",
       "      <td>3</td>\n",
       "      <td>1</td>\n",
       "      <td>40</td>\n",
       "      <td>60</td>\n",
       "      <td>09</td>\n",
       "      <td>Female</td>\n",
       "    </tr>\n",
       "    <tr>\n",
       "      <th>3</th>\n",
       "      <td>4</td>\n",
       "      <td>5</td>\n",
       "      <td>56</td>\n",
       "      <td>12</td>\n",
       "      <td>01</td>\n",
       "      <td>Male</td>\n",
       "    </tr>\n",
       "    <tr>\n",
       "      <th>4</th>\n",
       "      <td>5</td>\n",
       "      <td>5</td>\n",
       "      <td>60</td>\n",
       "      <td>57</td>\n",
       "      <td>03</td>\n",
       "      <td>Female</td>\n",
       "    </tr>\n",
       "    <tr>\n",
       "      <th>5</th>\n",
       "      <td>6</td>\n",
       "      <td>12</td>\n",
       "      <td>19</td>\n",
       "      <td>9</td>\n",
       "      <td>22</td>\n",
       "      <td>Male</td>\n",
       "    </tr>\n",
       "    <tr>\n",
       "      <th>6</th>\n",
       "      <td>7</td>\n",
       "      <td>15</td>\n",
       "      <td>29</td>\n",
       "      <td>1</td>\n",
       "      <td>25</td>\n",
       "      <td>Male</td>\n",
       "    </tr>\n",
       "    <tr>\n",
       "      <th>7</th>\n",
       "      <td>8</td>\n",
       "      <td>51</td>\n",
       "      <td>38</td>\n",
       "      <td>52</td>\n",
       "      <td>21</td>\n",
       "      <td>Female</td>\n",
       "    </tr>\n",
       "    <tr>\n",
       "      <th>8</th>\n",
       "      <td>9</td>\n",
       "      <td>60</td>\n",
       "      <td>35</td>\n",
       "      <td>10</td>\n",
       "      <td>16</td>\n",
       "      <td>Male</td>\n",
       "    </tr>\n",
       "    <tr>\n",
       "      <th>9</th>\n",
       "      <td>10</td>\n",
       "      <td>57</td>\n",
       "      <td>43</td>\n",
       "      <td>5</td>\n",
       "      <td>01</td>\n",
       "      <td>Male</td>\n",
       "    </tr>\n",
       "  </tbody>\n",
       "</table>\n",
       "</div>"
      ],
      "text/plain": [
       "   Client  district_id   Y   M   D  Gender\n",
       "0       1           18  70  62  13  Female\n",
       "1       2            1  45   2  04    Male\n",
       "2       3            1  40  60  09  Female\n",
       "3       4            5  56  12  01    Male\n",
       "4       5            5  60  57  03  Female\n",
       "5       6           12  19   9  22    Male\n",
       "6       7           15  29   1  25    Male\n",
       "7       8           51  38  52  21  Female\n",
       "8       9           60  35  10  16    Male\n",
       "9      10           57  43   5  01    Male"
      ]
     },
     "metadata": {},
     "output_type": "display_data"
    }
   ],
   "source": [
    "display(Clients.head(10))"
   ]
  },
  {
   "cell_type": "code",
   "execution_count": 67,
   "metadata": {},
   "outputs": [],
   "source": [
    "GenderofClients = Clients.groupby(by='Gender', as_index=False).agg({'Client': pd.Series.nunique})"
   ]
  },
  {
   "cell_type": "code",
   "execution_count": 68,
   "metadata": {},
   "outputs": [
    {
     "data": {
      "text/html": [
       "<div>\n",
       "<style scoped>\n",
       "    .dataframe tbody tr th:only-of-type {\n",
       "        vertical-align: middle;\n",
       "    }\n",
       "\n",
       "    .dataframe tbody tr th {\n",
       "        vertical-align: top;\n",
       "    }\n",
       "\n",
       "    .dataframe thead th {\n",
       "        text-align: right;\n",
       "    }\n",
       "</style>\n",
       "<table border=\"1\" class=\"dataframe\">\n",
       "  <thead>\n",
       "    <tr style=\"text-align: right;\">\n",
       "      <th></th>\n",
       "      <th>Gender</th>\n",
       "      <th>Client</th>\n",
       "    </tr>\n",
       "  </thead>\n",
       "  <tbody>\n",
       "    <tr>\n",
       "      <th>0</th>\n",
       "      <td>Female</td>\n",
       "      <td>2645</td>\n",
       "    </tr>\n",
       "    <tr>\n",
       "      <th>1</th>\n",
       "      <td>Male</td>\n",
       "      <td>2724</td>\n",
       "    </tr>\n",
       "  </tbody>\n",
       "</table>\n",
       "</div>"
      ],
      "text/plain": [
       "   Gender  Client\n",
       "0  Female    2645\n",
       "1    Male    2724"
      ]
     },
     "metadata": {},
     "output_type": "display_data"
    }
   ],
   "source": [
    "display(GenderofClients)"
   ]
  },
  {
   "cell_type": "markdown",
   "metadata": {},
   "source": [
    "So the Female clients are in total 2645 and as seen above the male clients are more in number with a total of 2724\n",
    "\n",
    "Lets plot this to get a better understanding "
   ]
  },
  {
   "cell_type": "code",
   "execution_count": 69,
   "metadata": {},
   "outputs": [
    {
     "data": {
      "text/plain": [
       "Text(0, 0.5, 'Number of Clients')"
      ]
     },
     "execution_count": 69,
     "metadata": {},
     "output_type": "execute_result"
    },
    {
     "data": {
      "image/png": "[encoded data removed]",
      "text/plain": [
       "<Figure size 432x288 with 1 Axes>"
      ]
     },
     "metadata": {
      "needs_background": "light"
     },
     "output_type": "display_data"
    }
   ],
   "source": [
    "plt.bar(GenderofClients['Gender'],GenderofClients['Client'])\n",
    "plt.title('CLIENT GENDER',fontsize=13)\n",
    "plt.xlabel('Gender',fontsize=13)\n",
    "plt.ylabel('Number of Clients',fontsize=13)\n"
   ]
  },
  {
   "cell_type": "markdown",
   "metadata": {},
   "source": [
    "### iv. What is the breakdown of age groups for our clientele?"
   ]
  },
  {
   "cell_type": "markdown",
   "metadata": {},
   "source": [
    "Since we have Date of birth given for each client in the clients table. We can calculate the date of birth by subtracting from current date"
   ]
  },
  {
   "cell_type": "code",
   "execution_count": 70,
   "metadata": {},
   "outputs": [
    {
     "data": {
      "text/html": [
       "<div>\n",
       "<style scoped>\n",
       "    .dataframe tbody tr th:only-of-type {\n",
       "        vertical-align: middle;\n",
       "    }\n",
       "\n",
       "    .dataframe tbody tr th {\n",
       "        vertical-align: top;\n",
       "    }\n",
       "\n",
       "    .dataframe thead th {\n",
       "        text-align: right;\n",
       "    }\n",
       "</style>\n",
       "<table border=\"1\" class=\"dataframe\">\n",
       "  <thead>\n",
       "    <tr style=\"text-align: right;\">\n",
       "      <th></th>\n",
       "      <th>Client</th>\n",
       "      <th>district_id</th>\n",
       "      <th>Y</th>\n",
       "      <th>M</th>\n",
       "      <th>D</th>\n",
       "      <th>Gender</th>\n",
       "    </tr>\n",
       "  </thead>\n",
       "  <tbody>\n",
       "    <tr>\n",
       "      <th>0</th>\n",
       "      <td>1</td>\n",
       "      <td>18</td>\n",
       "      <td>70</td>\n",
       "      <td>62</td>\n",
       "      <td>13</td>\n",
       "      <td>Female</td>\n",
       "    </tr>\n",
       "    <tr>\n",
       "      <th>1</th>\n",
       "      <td>2</td>\n",
       "      <td>1</td>\n",
       "      <td>45</td>\n",
       "      <td>2</td>\n",
       "      <td>04</td>\n",
       "      <td>Male</td>\n",
       "    </tr>\n",
       "    <tr>\n",
       "      <th>2</th>\n",
       "      <td>3</td>\n",
       "      <td>1</td>\n",
       "      <td>40</td>\n",
       "      <td>60</td>\n",
       "      <td>09</td>\n",
       "      <td>Female</td>\n",
       "    </tr>\n",
       "    <tr>\n",
       "      <th>3</th>\n",
       "      <td>4</td>\n",
       "      <td>5</td>\n",
       "      <td>56</td>\n",
       "      <td>12</td>\n",
       "      <td>01</td>\n",
       "      <td>Male</td>\n",
       "    </tr>\n",
       "    <tr>\n",
       "      <th>4</th>\n",
       "      <td>5</td>\n",
       "      <td>5</td>\n",
       "      <td>60</td>\n",
       "      <td>57</td>\n",
       "      <td>03</td>\n",
       "      <td>Female</td>\n",
       "    </tr>\n",
       "  </tbody>\n",
       "</table>\n",
       "</div>"
      ],
      "text/plain": [
       "   Client  district_id   Y   M   D  Gender\n",
       "0       1           18  70  62  13  Female\n",
       "1       2            1  45   2  04    Male\n",
       "2       3            1  40  60  09  Female\n",
       "3       4            5  56  12  01    Male\n",
       "4       5            5  60  57  03  Female"
      ]
     },
     "metadata": {},
     "output_type": "display_data"
    }
   ],
   "source": [
    "display(Clients.head(5))"
   ]
  },
  {
   "cell_type": "markdown",
   "metadata": {},
   "source": [
    "First things first, i still need to subtract 50 from the females date of births. I can easily do this in pandas"
   ]
  },
  {
   "cell_type": "code",
   "execution_count": 71,
   "metadata": {},
   "outputs": [],
   "source": [
    "Clients.M = Clients.M.astype(int)"
   ]
  },
  {
   "cell_type": "markdown",
   "metadata": {},
   "source": [
    "I define a function below which will extract 50 from the months column if the value is above 12 and replace it in the original column"
   ]
  },
  {
   "cell_type": "code",
   "execution_count": 72,
   "metadata": {},
   "outputs": [],
   "source": [
    "def Remove50(row):\n",
    " if row['M'] > 12  :\n",
    "    return str(row['M'] - 50)\n",
    " else:\n",
    "    return str(row['M'])\n",
    "Clients['M'] = Clients.apply(lambda row: Remove50(row),axis=1)\n",
    "Clients['M']=Clients['M'].apply(lambda x: '{0:0>2}'.format(x))#Once i removed 50 it was giving month in single digits which would\n",
    "#cause a problem later when i convert to datetime formate\n",
    "Clients= Clients.dropna()"
   ]
  },
  {
   "cell_type": "code",
   "execution_count": 73,
   "metadata": {},
   "outputs": [],
   "source": [
    "Clients.Y = Clients.Y.astype(int)\n",
    "Clients['Y']=Clients['Y'].apply(lambda x: x +1900)# I'm adding 1900, so that it doesnt get the wrong century,\n",
    "#before it, the python datetime library was considering dates as far as 2070 :/..so this is more or less a requirement\n"
   ]
  },
  {
   "cell_type": "markdown",
   "metadata": {},
   "source": [
    "Haha this is becoming quite a mess as i have to again convert all three columns to string before i join them..Should've created a function before hand\n"
   ]
  },
  {
   "cell_type": "code",
   "execution_count": 74,
   "metadata": {},
   "outputs": [],
   "source": [
    "Clients.Y = Clients.Y.astype(str)\n",
    "Clients.M = Clients.M.astype(str)\n",
    "Clients.D = Clients.D.astype(str)"
   ]
  },
  {
   "cell_type": "markdown",
   "metadata": {},
   "source": [
    "Now its time to join the columns together and make it into a date format"
   ]
  },
  {
   "cell_type": "code",
   "execution_count": 75,
   "metadata": {},
   "outputs": [],
   "source": [
    "Clients['DOB'] = Clients[['Y','M','D']].apply(lambda x: ''.join(x), axis=1)"
   ]
  },
  {
   "cell_type": "code",
   "execution_count": 76,
   "metadata": {},
   "outputs": [
    {
     "data": {
      "text/html": [
       "<div>\n",
       "<style scoped>\n",
       "    .dataframe tbody tr th:only-of-type {\n",
       "        vertical-align: middle;\n",
       "    }\n",
       "\n",
       "    .dataframe tbody tr th {\n",
       "        vertical-align: top;\n",
       "    }\n",
       "\n",
       "    .dataframe thead th {\n",
       "        text-align: right;\n",
       "    }\n",
       "</style>\n",
       "<table border=\"1\" class=\"dataframe\">\n",
       "  <thead>\n",
       "    <tr style=\"text-align: right;\">\n",
       "      <th></th>\n",
       "      <th>Client</th>\n",
       "      <th>district_id</th>\n",
       "      <th>Y</th>\n",
       "      <th>M</th>\n",
       "      <th>D</th>\n",
       "      <th>Gender</th>\n",
       "      <th>DOB</th>\n",
       "    </tr>\n",
       "  </thead>\n",
       "  <tbody>\n",
       "    <tr>\n",
       "      <th>0</th>\n",
       "      <td>1</td>\n",
       "      <td>18</td>\n",
       "      <td>1970</td>\n",
       "      <td>12</td>\n",
       "      <td>13</td>\n",
       "      <td>Female</td>\n",
       "      <td>19701213</td>\n",
       "    </tr>\n",
       "    <tr>\n",
       "      <th>1</th>\n",
       "      <td>2</td>\n",
       "      <td>1</td>\n",
       "      <td>1945</td>\n",
       "      <td>02</td>\n",
       "      <td>04</td>\n",
       "      <td>Male</td>\n",
       "      <td>19450204</td>\n",
       "    </tr>\n",
       "    <tr>\n",
       "      <th>2</th>\n",
       "      <td>3</td>\n",
       "      <td>1</td>\n",
       "      <td>1940</td>\n",
       "      <td>10</td>\n",
       "      <td>09</td>\n",
       "      <td>Female</td>\n",
       "      <td>19401009</td>\n",
       "    </tr>\n",
       "    <tr>\n",
       "      <th>3</th>\n",
       "      <td>4</td>\n",
       "      <td>5</td>\n",
       "      <td>1956</td>\n",
       "      <td>12</td>\n",
       "      <td>01</td>\n",
       "      <td>Male</td>\n",
       "      <td>19561201</td>\n",
       "    </tr>\n",
       "    <tr>\n",
       "      <th>4</th>\n",
       "      <td>5</td>\n",
       "      <td>5</td>\n",
       "      <td>1960</td>\n",
       "      <td>07</td>\n",
       "      <td>03</td>\n",
       "      <td>Female</td>\n",
       "      <td>19600703</td>\n",
       "    </tr>\n",
       "  </tbody>\n",
       "</table>\n",
       "</div>"
      ],
      "text/plain": [
       "   Client  district_id     Y   M   D  Gender       DOB\n",
       "0       1           18  1970  12  13  Female  19701213\n",
       "1       2            1  1945  02  04    Male  19450204\n",
       "2       3            1  1940  10  09  Female  19401009\n",
       "3       4            5  1956  12  01    Male  19561201\n",
       "4       5            5  1960  07  03  Female  19600703"
      ]
     },
     "metadata": {},
     "output_type": "display_data"
    }
   ],
   "source": [
    "display(Clients.head(5))"
   ]
  },
  {
   "cell_type": "code",
   "execution_count": 77,
   "metadata": {},
   "outputs": [],
   "source": [
    "Clients[\"DOB\"] = pd.to_datetime(Clients.DOB).dt.strftime('%d-%m-%Y')"
   ]
  },
  {
   "cell_type": "code",
   "execution_count": 78,
   "metadata": {},
   "outputs": [],
   "source": [
    "#display(Clients.head(5))"
   ]
  },
  {
   "cell_type": "markdown",
   "metadata": {},
   "source": [
    "I finally have the date of births of the clients in proper format Yayy.. Now it's time to calculate their age and seperate them into age groups\n"
   ]
  },
  {
   "cell_type": "code",
   "execution_count": 79,
   "metadata": {},
   "outputs": [
    {
     "data": {
      "text/html": [
       "<div>\n",
       "<style scoped>\n",
       "    .dataframe tbody tr th:only-of-type {\n",
       "        vertical-align: middle;\n",
       "    }\n",
       "\n",
       "    .dataframe tbody tr th {\n",
       "        vertical-align: top;\n",
       "    }\n",
       "\n",
       "    .dataframe thead th {\n",
       "        text-align: right;\n",
       "    }\n",
       "</style>\n",
       "<table border=\"1\" class=\"dataframe\">\n",
       "  <thead>\n",
       "    <tr style=\"text-align: right;\">\n",
       "      <th></th>\n",
       "      <th>Client</th>\n",
       "      <th>district_id</th>\n",
       "      <th>Y</th>\n",
       "      <th>M</th>\n",
       "      <th>D</th>\n",
       "      <th>Gender</th>\n",
       "      <th>DOB</th>\n",
       "      <th>Age</th>\n",
       "    </tr>\n",
       "  </thead>\n",
       "  <tbody>\n",
       "    <tr>\n",
       "      <th>0</th>\n",
       "      <td>1</td>\n",
       "      <td>18</td>\n",
       "      <td>1970</td>\n",
       "      <td>12</td>\n",
       "      <td>13</td>\n",
       "      <td>Female</td>\n",
       "      <td>13-12-1970</td>\n",
       "      <td>48</td>\n",
       "    </tr>\n",
       "    <tr>\n",
       "      <th>1</th>\n",
       "      <td>2</td>\n",
       "      <td>1</td>\n",
       "      <td>1945</td>\n",
       "      <td>02</td>\n",
       "      <td>04</td>\n",
       "      <td>Male</td>\n",
       "      <td>04-02-1945</td>\n",
       "      <td>74</td>\n",
       "    </tr>\n",
       "    <tr>\n",
       "      <th>2</th>\n",
       "      <td>3</td>\n",
       "      <td>1</td>\n",
       "      <td>1940</td>\n",
       "      <td>10</td>\n",
       "      <td>09</td>\n",
       "      <td>Female</td>\n",
       "      <td>09-10-1940</td>\n",
       "      <td>78</td>\n",
       "    </tr>\n",
       "    <tr>\n",
       "      <th>3</th>\n",
       "      <td>4</td>\n",
       "      <td>5</td>\n",
       "      <td>1956</td>\n",
       "      <td>12</td>\n",
       "      <td>01</td>\n",
       "      <td>Male</td>\n",
       "      <td>01-12-1956</td>\n",
       "      <td>62</td>\n",
       "    </tr>\n",
       "    <tr>\n",
       "      <th>4</th>\n",
       "      <td>5</td>\n",
       "      <td>5</td>\n",
       "      <td>1960</td>\n",
       "      <td>07</td>\n",
       "      <td>03</td>\n",
       "      <td>Female</td>\n",
       "      <td>03-07-1960</td>\n",
       "      <td>58</td>\n",
       "    </tr>\n",
       "  </tbody>\n",
       "</table>\n",
       "</div>"
      ],
      "text/plain": [
       "   Client  district_id     Y   M   D  Gender         DOB  Age\n",
       "0       1           18  1970  12  13  Female  13-12-1970   48\n",
       "1       2            1  1945  02  04    Male  04-02-1945   74\n",
       "2       3            1  1940  10  09  Female  09-10-1940   78\n",
       "3       4            5  1956  12  01    Male  01-12-1956   62\n",
       "4       5            5  1960  07  03  Female  03-07-1960   58"
      ]
     },
     "metadata": {},
     "output_type": "display_data"
    }
   ],
   "source": [
    "from datetime import datetime\n",
    "from datetime import date\n",
    "\n",
    "def calculate_age(born):\n",
    "    born = datetime.strptime(born, \"%d-%m-%Y\").date()\n",
    "    today = date.today()\n",
    "    return today.year - born.year - ((today.month, today.day) < (born.month, born.day))\n",
    "\n",
    "Clients['Age'] = Clients[\"DOB\"].apply(calculate_age)\n",
    "display(Clients.head())"
   ]
  },
  {
   "cell_type": "markdown",
   "metadata": {},
   "source": [
    "Now that i calculated the client ages, its time to see the age distribution of the clients. For this i will use binning"
   ]
  },
  {
   "cell_type": "code",
   "execution_count": 80,
   "metadata": {},
   "outputs": [],
   "source": [
    "bins = [ 18, 35, 65, np.inf]\n",
    "lab = ['18-35', '35-65' ,'65+']\n",
    "Clients['AgeGroup'] = pd.cut(Clients['Age'], bins, labels=lab)"
   ]
  },
  {
   "cell_type": "code",
   "execution_count": 81,
   "metadata": {},
   "outputs": [
    {
     "data": {
      "text/html": [
       "<div>\n",
       "<style scoped>\n",
       "    .dataframe tbody tr th:only-of-type {\n",
       "        vertical-align: middle;\n",
       "    }\n",
       "\n",
       "    .dataframe tbody tr th {\n",
       "        vertical-align: top;\n",
       "    }\n",
       "\n",
       "    .dataframe thead th {\n",
       "        text-align: right;\n",
       "    }\n",
       "</style>\n",
       "<table border=\"1\" class=\"dataframe\">\n",
       "  <thead>\n",
       "    <tr style=\"text-align: right;\">\n",
       "      <th></th>\n",
       "      <th>Client</th>\n",
       "      <th>district_id</th>\n",
       "      <th>Y</th>\n",
       "      <th>M</th>\n",
       "      <th>D</th>\n",
       "      <th>Gender</th>\n",
       "      <th>DOB</th>\n",
       "      <th>Age</th>\n",
       "      <th>AgeGroup</th>\n",
       "    </tr>\n",
       "  </thead>\n",
       "  <tbody>\n",
       "    <tr>\n",
       "      <th>0</th>\n",
       "      <td>1</td>\n",
       "      <td>18</td>\n",
       "      <td>1970</td>\n",
       "      <td>12</td>\n",
       "      <td>13</td>\n",
       "      <td>Female</td>\n",
       "      <td>13-12-1970</td>\n",
       "      <td>48</td>\n",
       "      <td>35-65</td>\n",
       "    </tr>\n",
       "    <tr>\n",
       "      <th>1</th>\n",
       "      <td>2</td>\n",
       "      <td>1</td>\n",
       "      <td>1945</td>\n",
       "      <td>02</td>\n",
       "      <td>04</td>\n",
       "      <td>Male</td>\n",
       "      <td>04-02-1945</td>\n",
       "      <td>74</td>\n",
       "      <td>65+</td>\n",
       "    </tr>\n",
       "    <tr>\n",
       "      <th>2</th>\n",
       "      <td>3</td>\n",
       "      <td>1</td>\n",
       "      <td>1940</td>\n",
       "      <td>10</td>\n",
       "      <td>09</td>\n",
       "      <td>Female</td>\n",
       "      <td>09-10-1940</td>\n",
       "      <td>78</td>\n",
       "      <td>65+</td>\n",
       "    </tr>\n",
       "    <tr>\n",
       "      <th>3</th>\n",
       "      <td>4</td>\n",
       "      <td>5</td>\n",
       "      <td>1956</td>\n",
       "      <td>12</td>\n",
       "      <td>01</td>\n",
       "      <td>Male</td>\n",
       "      <td>01-12-1956</td>\n",
       "      <td>62</td>\n",
       "      <td>35-65</td>\n",
       "    </tr>\n",
       "    <tr>\n",
       "      <th>4</th>\n",
       "      <td>5</td>\n",
       "      <td>5</td>\n",
       "      <td>1960</td>\n",
       "      <td>07</td>\n",
       "      <td>03</td>\n",
       "      <td>Female</td>\n",
       "      <td>03-07-1960</td>\n",
       "      <td>58</td>\n",
       "      <td>35-65</td>\n",
       "    </tr>\n",
       "  </tbody>\n",
       "</table>\n",
       "</div>"
      ],
      "text/plain": [
       "   Client  district_id     Y   M   D  Gender         DOB  Age AgeGroup\n",
       "0       1           18  1970  12  13  Female  13-12-1970   48    35-65\n",
       "1       2            1  1945  02  04    Male  04-02-1945   74      65+\n",
       "2       3            1  1940  10  09  Female  09-10-1940   78      65+\n",
       "3       4            5  1956  12  01    Male  01-12-1956   62    35-65\n",
       "4       5            5  1960  07  03  Female  03-07-1960   58    35-65"
      ]
     },
     "metadata": {},
     "output_type": "display_data"
    }
   ],
   "source": [
    "display(Clients.head(5))"
   ]
  },
  {
   "cell_type": "markdown",
   "metadata": {},
   "source": [
    "Since i have the date of birth and age, i will drop the columns Y,M,D "
   ]
  },
  {
   "cell_type": "code",
   "execution_count": 82,
   "metadata": {},
   "outputs": [],
   "source": [
    "Clients.drop(['Y','M','D'], axis=1, inplace=True)"
   ]
  },
  {
   "cell_type": "code",
   "execution_count": 83,
   "metadata": {},
   "outputs": [
    {
     "data": {
      "text/html": [
       "<div>\n",
       "<style scoped>\n",
       "    .dataframe tbody tr th:only-of-type {\n",
       "        vertical-align: middle;\n",
       "    }\n",
       "\n",
       "    .dataframe tbody tr th {\n",
       "        vertical-align: top;\n",
       "    }\n",
       "\n",
       "    .dataframe thead th {\n",
       "        text-align: right;\n",
       "    }\n",
       "</style>\n",
       "<table border=\"1\" class=\"dataframe\">\n",
       "  <thead>\n",
       "    <tr style=\"text-align: right;\">\n",
       "      <th></th>\n",
       "      <th>Client</th>\n",
       "      <th>district_id</th>\n",
       "      <th>Gender</th>\n",
       "      <th>DOB</th>\n",
       "      <th>Age</th>\n",
       "      <th>AgeGroup</th>\n",
       "    </tr>\n",
       "  </thead>\n",
       "  <tbody>\n",
       "    <tr>\n",
       "      <th>0</th>\n",
       "      <td>1</td>\n",
       "      <td>18</td>\n",
       "      <td>Female</td>\n",
       "      <td>13-12-1970</td>\n",
       "      <td>48</td>\n",
       "      <td>35-65</td>\n",
       "    </tr>\n",
       "    <tr>\n",
       "      <th>1</th>\n",
       "      <td>2</td>\n",
       "      <td>1</td>\n",
       "      <td>Male</td>\n",
       "      <td>04-02-1945</td>\n",
       "      <td>74</td>\n",
       "      <td>65+</td>\n",
       "    </tr>\n",
       "    <tr>\n",
       "      <th>2</th>\n",
       "      <td>3</td>\n",
       "      <td>1</td>\n",
       "      <td>Female</td>\n",
       "      <td>09-10-1940</td>\n",
       "      <td>78</td>\n",
       "      <td>65+</td>\n",
       "    </tr>\n",
       "    <tr>\n",
       "      <th>3</th>\n",
       "      <td>4</td>\n",
       "      <td>5</td>\n",
       "      <td>Male</td>\n",
       "      <td>01-12-1956</td>\n",
       "      <td>62</td>\n",
       "      <td>35-65</td>\n",
       "    </tr>\n",
       "    <tr>\n",
       "      <th>4</th>\n",
       "      <td>5</td>\n",
       "      <td>5</td>\n",
       "      <td>Female</td>\n",
       "      <td>03-07-1960</td>\n",
       "      <td>58</td>\n",
       "      <td>35-65</td>\n",
       "    </tr>\n",
       "  </tbody>\n",
       "</table>\n",
       "</div>"
      ],
      "text/plain": [
       "   Client  district_id  Gender         DOB  Age AgeGroup\n",
       "0       1           18  Female  13-12-1970   48    35-65\n",
       "1       2            1    Male  04-02-1945   74      65+\n",
       "2       3            1  Female  09-10-1940   78      65+\n",
       "3       4            5    Male  01-12-1956   62    35-65\n",
       "4       5            5  Female  03-07-1960   58    35-65"
      ]
     },
     "metadata": {},
     "output_type": "display_data"
    }
   ],
   "source": [
    "display(Clients.head(5))"
   ]
  },
  {
   "cell_type": "code",
   "execution_count": 84,
   "metadata": {},
   "outputs": [
    {
     "data": {
      "text/plain": [
       "Text(0.5, 0, 'Age Range')"
      ]
     },
     "execution_count": 84,
     "metadata": {},
     "output_type": "execute_result"
    },
    {
     "data": {
      "image/png": "[encoded data removed]",
      "text/plain": [
       "<Figure size 432x288 with 1 Axes>"
      ]
     },
     "metadata": {
      "needs_background": "light"
     },
     "output_type": "display_data"
    }
   ],
   "source": [
    "Clients['AgeGroup'].value_counts().plot(kind='bar', subplots=True)\n",
    "plt.ylabel('Number of Clients',fontsize=13)\n",
    "plt.xlabel('Age Range',fontsize=13)"
   ]
  },
  {
   "cell_type": "markdown",
   "metadata": {},
   "source": [
    "We finally have the Age groups of our clients and their distribution.. as we can see that most of our clients are in the age range of 35-65 and others are above 65.. Although only a few hundered are between the ages of 18-35"
   ]
  },
  {
   "cell_type": "code",
   "execution_count": 85,
   "metadata": {},
   "outputs": [
    {
     "data": {
      "text/plain": [
       "Client         0\n",
       "district_id    0\n",
       "Gender         0\n",
       "DOB            0\n",
       "Age            0\n",
       "AgeGroup       0\n",
       "dtype: int64"
      ]
     },
     "execution_count": 85,
     "metadata": {},
     "output_type": "execute_result"
    }
   ],
   "source": [
    "Clients.isnull().sum()#Checking missing values for Clients Table"
   ]
  },
  {
   "cell_type": "code",
   "execution_count": 86,
   "metadata": {},
   "outputs": [
    {
     "name": "stdout",
     "output_type": "stream",
     "text": [
      "Client            int64\n",
      "district_id       int64\n",
      "Gender           object\n",
      "DOB              object\n",
      "Age               int64\n",
      "AgeGroup       category\n",
      "dtype: object\n"
     ]
    }
   ],
   "source": [
    "print(Clients.dtypes)"
   ]
  },
  {
   "cell_type": "markdown",
   "metadata": {},
   "source": [
    "### Merging Data\n",
    "\n",
    "#### Before i move any further.. I came to the conclusion that it's better to get all my data together"
   ]
  },
  {
   "cell_type": "code",
   "execution_count": 87,
   "metadata": {},
   "outputs": [],
   "source": [
    "Branch = pd.read_sql_query(\"SELECT * FROM district\", conn)"
   ]
  },
  {
   "cell_type": "code",
   "execution_count": 88,
   "metadata": {},
   "outputs": [
    {
     "data": {
      "text/html": [
       "<div>\n",
       "<style scoped>\n",
       "    .dataframe tbody tr th:only-of-type {\n",
       "        vertical-align: middle;\n",
       "    }\n",
       "\n",
       "    .dataframe tbody tr th {\n",
       "        vertical-align: top;\n",
       "    }\n",
       "\n",
       "    .dataframe thead th {\n",
       "        text-align: right;\n",
       "    }\n",
       "</style>\n",
       "<table border=\"1\" class=\"dataframe\">\n",
       "  <thead>\n",
       "    <tr style=\"text-align: right;\">\n",
       "      <th></th>\n",
       "      <th>A1</th>\n",
       "      <th>A2</th>\n",
       "      <th>A3</th>\n",
       "      <th>A4</th>\n",
       "      <th>A5</th>\n",
       "      <th>A6</th>\n",
       "      <th>A7</th>\n",
       "      <th>A8</th>\n",
       "      <th>A9</th>\n",
       "      <th>A10</th>\n",
       "      <th>A11</th>\n",
       "      <th>A12</th>\n",
       "      <th>A13</th>\n",
       "      <th>A14</th>\n",
       "      <th>A15</th>\n",
       "      <th>A16</th>\n",
       "    </tr>\n",
       "  </thead>\n",
       "  <tbody>\n",
       "    <tr>\n",
       "      <th>0</th>\n",
       "      <td>1</td>\n",
       "      <td>Hl.m. Praha</td>\n",
       "      <td>Prague</td>\n",
       "      <td>1204953</td>\n",
       "      <td>0</td>\n",
       "      <td>0</td>\n",
       "      <td>0</td>\n",
       "      <td>1</td>\n",
       "      <td>1</td>\n",
       "      <td>100.0</td>\n",
       "      <td>12541</td>\n",
       "      <td>0.29</td>\n",
       "      <td>0.43</td>\n",
       "      <td>167</td>\n",
       "      <td>85677</td>\n",
       "      <td>99107</td>\n",
       "    </tr>\n",
       "    <tr>\n",
       "      <th>1</th>\n",
       "      <td>2</td>\n",
       "      <td>Benesov</td>\n",
       "      <td>central Bohemia</td>\n",
       "      <td>88884</td>\n",
       "      <td>80</td>\n",
       "      <td>26</td>\n",
       "      <td>6</td>\n",
       "      <td>2</td>\n",
       "      <td>5</td>\n",
       "      <td>46.7</td>\n",
       "      <td>8507</td>\n",
       "      <td>1.67</td>\n",
       "      <td>1.85</td>\n",
       "      <td>132</td>\n",
       "      <td>2159</td>\n",
       "      <td>2674</td>\n",
       "    </tr>\n",
       "    <tr>\n",
       "      <th>2</th>\n",
       "      <td>3</td>\n",
       "      <td>Beroun</td>\n",
       "      <td>central Bohemia</td>\n",
       "      <td>75232</td>\n",
       "      <td>55</td>\n",
       "      <td>26</td>\n",
       "      <td>4</td>\n",
       "      <td>1</td>\n",
       "      <td>5</td>\n",
       "      <td>41.7</td>\n",
       "      <td>8980</td>\n",
       "      <td>1.95</td>\n",
       "      <td>2.21</td>\n",
       "      <td>111</td>\n",
       "      <td>2824</td>\n",
       "      <td>2813</td>\n",
       "    </tr>\n",
       "    <tr>\n",
       "      <th>3</th>\n",
       "      <td>4</td>\n",
       "      <td>Kladno</td>\n",
       "      <td>central Bohemia</td>\n",
       "      <td>149893</td>\n",
       "      <td>63</td>\n",
       "      <td>29</td>\n",
       "      <td>6</td>\n",
       "      <td>2</td>\n",
       "      <td>6</td>\n",
       "      <td>67.4</td>\n",
       "      <td>9753</td>\n",
       "      <td>4.64</td>\n",
       "      <td>5.05</td>\n",
       "      <td>109</td>\n",
       "      <td>5244</td>\n",
       "      <td>5892</td>\n",
       "    </tr>\n",
       "    <tr>\n",
       "      <th>4</th>\n",
       "      <td>5</td>\n",
       "      <td>Kolin</td>\n",
       "      <td>central Bohemia</td>\n",
       "      <td>95616</td>\n",
       "      <td>65</td>\n",
       "      <td>30</td>\n",
       "      <td>4</td>\n",
       "      <td>1</td>\n",
       "      <td>6</td>\n",
       "      <td>51.4</td>\n",
       "      <td>9307</td>\n",
       "      <td>3.85</td>\n",
       "      <td>4.43</td>\n",
       "      <td>118</td>\n",
       "      <td>2616</td>\n",
       "      <td>3040</td>\n",
       "    </tr>\n",
       "  </tbody>\n",
       "</table>\n",
       "</div>"
      ],
      "text/plain": [
       "   A1           A2               A3       A4  A5  A6  A7  A8  A9    A10  \\\n",
       "0   1  Hl.m. Praha           Prague  1204953   0   0   0   1   1  100.0   \n",
       "1   2      Benesov  central Bohemia    88884  80  26   6   2   5   46.7   \n",
       "2   3       Beroun  central Bohemia    75232  55  26   4   1   5   41.7   \n",
       "3   4       Kladno  central Bohemia   149893  63  29   6   2   6   67.4   \n",
       "4   5        Kolin  central Bohemia    95616  65  30   4   1   6   51.4   \n",
       "\n",
       "     A11   A12   A13  A14    A15    A16  \n",
       "0  12541  0.29  0.43  167  85677  99107  \n",
       "1   8507  1.67  1.85  132   2159   2674  \n",
       "2   8980  1.95  2.21  111   2824   2813  \n",
       "3   9753  4.64  5.05  109   5244   5892  \n",
       "4   9307  3.85  4.43  118   2616   3040  "
      ]
     },
     "metadata": {},
     "output_type": "display_data"
    }
   ],
   "source": [
    "display(Branch.head())"
   ]
  },
  {
   "cell_type": "code",
   "execution_count": 89,
   "metadata": {},
   "outputs": [],
   "source": [
    "Branch.rename(columns={'A1':'district_id', 'A2':'district_name','A3':'Region','A11':'Average_Salary','A12':'Unemployment_rate95','A13':'Unemployment96'}, inplace=True)"
   ]
  },
  {
   "cell_type": "markdown",
   "metadata": {},
   "source": [
    "Lets join the crime rate columns into one...too many attributes makes me nervous any ways :)\n",
    "I'm also going to drop number of cities column since it makes no sense in the loan default prediction which i will perform later"
   ]
  },
  {
   "cell_type": "markdown",
   "metadata": {},
   "source": [
    "Tried summing the values for A15 and A16..But something is up it seems like some rows have '?' in them for unknown values"
   ]
  },
  {
   "cell_type": "code",
   "execution_count": 90,
   "metadata": {},
   "outputs": [],
   "source": [
    "def Removeunwanted(x, typ):\n",
    "    if x == '?':\n",
    "        return -1\n",
    "    elif typ == 'float':\n",
    "        return float(x)\n",
    "    else:\n",
    "        return int(x)\n",
    "Branch['Unemployment_rate95'] = Branch['Unemployment_rate95'].apply(Removeunwanted, args=('float',))\n",
    "Branch['A15'] = Branch['A15'].apply(Removeunwanted, args=('int',))"
   ]
  },
  {
   "cell_type": "code",
   "execution_count": 91,
   "metadata": {},
   "outputs": [],
   "source": [
    "Branch['Crimesin95-96'] = Branch.apply(lambda x: x['A15'] + x['A16'], axis=1)"
   ]
  },
  {
   "cell_type": "code",
   "execution_count": 92,
   "metadata": {},
   "outputs": [],
   "source": [
    "Branch.drop(['A15','A16','A9'], axis=1, inplace=True)"
   ]
  },
  {
   "cell_type": "code",
   "execution_count": 93,
   "metadata": {},
   "outputs": [
    {
     "data": {
      "text/html": [
       "<div>\n",
       "<style scoped>\n",
       "    .dataframe tbody tr th:only-of-type {\n",
       "        vertical-align: middle;\n",
       "    }\n",
       "\n",
       "    .dataframe tbody tr th {\n",
       "        vertical-align: top;\n",
       "    }\n",
       "\n",
       "    .dataframe thead th {\n",
       "        text-align: right;\n",
       "    }\n",
       "</style>\n",
       "<table border=\"1\" class=\"dataframe\">\n",
       "  <thead>\n",
       "    <tr style=\"text-align: right;\">\n",
       "      <th></th>\n",
       "      <th>district_id</th>\n",
       "      <th>district_name</th>\n",
       "      <th>Region</th>\n",
       "      <th>A4</th>\n",
       "      <th>A5</th>\n",
       "      <th>A6</th>\n",
       "      <th>A7</th>\n",
       "      <th>A8</th>\n",
       "      <th>A10</th>\n",
       "      <th>Average_Salary</th>\n",
       "      <th>Unemployment_rate95</th>\n",
       "      <th>Unemployment96</th>\n",
       "      <th>A14</th>\n",
       "      <th>Crimesin95-96</th>\n",
       "    </tr>\n",
       "  </thead>\n",
       "  <tbody>\n",
       "    <tr>\n",
       "      <th>0</th>\n",
       "      <td>1</td>\n",
       "      <td>Hl.m. Praha</td>\n",
       "      <td>Prague</td>\n",
       "      <td>1204953</td>\n",
       "      <td>0</td>\n",
       "      <td>0</td>\n",
       "      <td>0</td>\n",
       "      <td>1</td>\n",
       "      <td>100.0</td>\n",
       "      <td>12541</td>\n",
       "      <td>0.29</td>\n",
       "      <td>0.43</td>\n",
       "      <td>167</td>\n",
       "      <td>184784</td>\n",
       "    </tr>\n",
       "    <tr>\n",
       "      <th>1</th>\n",
       "      <td>2</td>\n",
       "      <td>Benesov</td>\n",
       "      <td>central Bohemia</td>\n",
       "      <td>88884</td>\n",
       "      <td>80</td>\n",
       "      <td>26</td>\n",
       "      <td>6</td>\n",
       "      <td>2</td>\n",
       "      <td>46.7</td>\n",
       "      <td>8507</td>\n",
       "      <td>1.67</td>\n",
       "      <td>1.85</td>\n",
       "      <td>132</td>\n",
       "      <td>4833</td>\n",
       "    </tr>\n",
       "    <tr>\n",
       "      <th>2</th>\n",
       "      <td>3</td>\n",
       "      <td>Beroun</td>\n",
       "      <td>central Bohemia</td>\n",
       "      <td>75232</td>\n",
       "      <td>55</td>\n",
       "      <td>26</td>\n",
       "      <td>4</td>\n",
       "      <td>1</td>\n",
       "      <td>41.7</td>\n",
       "      <td>8980</td>\n",
       "      <td>1.95</td>\n",
       "      <td>2.21</td>\n",
       "      <td>111</td>\n",
       "      <td>5637</td>\n",
       "    </tr>\n",
       "    <tr>\n",
       "      <th>3</th>\n",
       "      <td>4</td>\n",
       "      <td>Kladno</td>\n",
       "      <td>central Bohemia</td>\n",
       "      <td>149893</td>\n",
       "      <td>63</td>\n",
       "      <td>29</td>\n",
       "      <td>6</td>\n",
       "      <td>2</td>\n",
       "      <td>67.4</td>\n",
       "      <td>9753</td>\n",
       "      <td>4.64</td>\n",
       "      <td>5.05</td>\n",
       "      <td>109</td>\n",
       "      <td>11136</td>\n",
       "    </tr>\n",
       "    <tr>\n",
       "      <th>4</th>\n",
       "      <td>5</td>\n",
       "      <td>Kolin</td>\n",
       "      <td>central Bohemia</td>\n",
       "      <td>95616</td>\n",
       "      <td>65</td>\n",
       "      <td>30</td>\n",
       "      <td>4</td>\n",
       "      <td>1</td>\n",
       "      <td>51.4</td>\n",
       "      <td>9307</td>\n",
       "      <td>3.85</td>\n",
       "      <td>4.43</td>\n",
       "      <td>118</td>\n",
       "      <td>5656</td>\n",
       "    </tr>\n",
       "    <tr>\n",
       "      <th>5</th>\n",
       "      <td>6</td>\n",
       "      <td>Kutna Hora</td>\n",
       "      <td>central Bohemia</td>\n",
       "      <td>77963</td>\n",
       "      <td>60</td>\n",
       "      <td>23</td>\n",
       "      <td>4</td>\n",
       "      <td>2</td>\n",
       "      <td>51.5</td>\n",
       "      <td>8546</td>\n",
       "      <td>2.95</td>\n",
       "      <td>4.02</td>\n",
       "      <td>126</td>\n",
       "      <td>5760</td>\n",
       "    </tr>\n",
       "    <tr>\n",
       "      <th>6</th>\n",
       "      <td>7</td>\n",
       "      <td>Melnik</td>\n",
       "      <td>central Bohemia</td>\n",
       "      <td>94725</td>\n",
       "      <td>38</td>\n",
       "      <td>28</td>\n",
       "      <td>1</td>\n",
       "      <td>3</td>\n",
       "      <td>63.4</td>\n",
       "      <td>9920</td>\n",
       "      <td>2.26</td>\n",
       "      <td>2.87</td>\n",
       "      <td>130</td>\n",
       "      <td>9135</td>\n",
       "    </tr>\n",
       "    <tr>\n",
       "      <th>7</th>\n",
       "      <td>8</td>\n",
       "      <td>Mlada Boleslav</td>\n",
       "      <td>central Bohemia</td>\n",
       "      <td>112065</td>\n",
       "      <td>95</td>\n",
       "      <td>19</td>\n",
       "      <td>7</td>\n",
       "      <td>1</td>\n",
       "      <td>69.4</td>\n",
       "      <td>11277</td>\n",
       "      <td>1.25</td>\n",
       "      <td>1.44</td>\n",
       "      <td>127</td>\n",
       "      <td>10166</td>\n",
       "    </tr>\n",
       "    <tr>\n",
       "      <th>8</th>\n",
       "      <td>9</td>\n",
       "      <td>Nymburk</td>\n",
       "      <td>central Bohemia</td>\n",
       "      <td>81344</td>\n",
       "      <td>61</td>\n",
       "      <td>23</td>\n",
       "      <td>4</td>\n",
       "      <td>2</td>\n",
       "      <td>55.3</td>\n",
       "      <td>8899</td>\n",
       "      <td>3.39</td>\n",
       "      <td>3.97</td>\n",
       "      <td>149</td>\n",
       "      <td>5474</td>\n",
       "    </tr>\n",
       "    <tr>\n",
       "      <th>9</th>\n",
       "      <td>10</td>\n",
       "      <td>Praha - vychod</td>\n",
       "      <td>central Bohemia</td>\n",
       "      <td>92084</td>\n",
       "      <td>55</td>\n",
       "      <td>29</td>\n",
       "      <td>4</td>\n",
       "      <td>3</td>\n",
       "      <td>46.7</td>\n",
       "      <td>10124</td>\n",
       "      <td>0.56</td>\n",
       "      <td>0.54</td>\n",
       "      <td>141</td>\n",
       "      <td>8126</td>\n",
       "    </tr>\n",
       "  </tbody>\n",
       "</table>\n",
       "</div>"
      ],
      "text/plain": [
       "   district_id   district_name           Region       A4  A5  A6  A7  A8  \\\n",
       "0            1     Hl.m. Praha           Prague  1204953   0   0   0   1   \n",
       "1            2         Benesov  central Bohemia    88884  80  26   6   2   \n",
       "2            3          Beroun  central Bohemia    75232  55  26   4   1   \n",
       "3            4          Kladno  central Bohemia   149893  63  29   6   2   \n",
       "4            5           Kolin  central Bohemia    95616  65  30   4   1   \n",
       "5            6      Kutna Hora  central Bohemia    77963  60  23   4   2   \n",
       "6            7          Melnik  central Bohemia    94725  38  28   1   3   \n",
       "7            8  Mlada Boleslav  central Bohemia   112065  95  19   7   1   \n",
       "8            9         Nymburk  central Bohemia    81344  61  23   4   2   \n",
       "9           10  Praha - vychod  central Bohemia    92084  55  29   4   3   \n",
       "\n",
       "     A10  Average_Salary  Unemployment_rate95  Unemployment96  A14  \\\n",
       "0  100.0           12541                 0.29            0.43  167   \n",
       "1   46.7            8507                 1.67            1.85  132   \n",
       "2   41.7            8980                 1.95            2.21  111   \n",
       "3   67.4            9753                 4.64            5.05  109   \n",
       "4   51.4            9307                 3.85            4.43  118   \n",
       "5   51.5            8546                 2.95            4.02  126   \n",
       "6   63.4            9920                 2.26            2.87  130   \n",
       "7   69.4           11277                 1.25            1.44  127   \n",
       "8   55.3            8899                 3.39            3.97  149   \n",
       "9   46.7           10124                 0.56            0.54  141   \n",
       "\n",
       "   Crimesin95-96  \n",
       "0         184784  \n",
       "1           4833  \n",
       "2           5637  \n",
       "3          11136  \n",
       "4           5656  \n",
       "5           5760  \n",
       "6           9135  \n",
       "7          10166  \n",
       "8           5474  \n",
       "9           8126  "
      ]
     },
     "metadata": {},
     "output_type": "display_data"
    }
   ],
   "source": [
    "display(Branch.head(10))"
   ]
  },
  {
   "cell_type": "code",
   "execution_count": 94,
   "metadata": {},
   "outputs": [
    {
     "data": {
      "text/plain": [
       "(77, 14)"
      ]
     },
     "execution_count": 94,
     "metadata": {},
     "output_type": "execute_result"
    }
   ],
   "source": [
    "Branch.shape"
   ]
  },
  {
   "cell_type": "markdown",
   "metadata": {},
   "source": [
    "Merging Clients Table with Branch Table"
   ]
  },
  {
   "cell_type": "code",
   "execution_count": 95,
   "metadata": {},
   "outputs": [],
   "source": [
    "ClientsBranches = pd.merge(Clients,Branch, how='left', on=['district_id'])"
   ]
  },
  {
   "cell_type": "code",
   "execution_count": 96,
   "metadata": {},
   "outputs": [
    {
     "data": {
      "text/html": [
       "<div>\n",
       "<style scoped>\n",
       "    .dataframe tbody tr th:only-of-type {\n",
       "        vertical-align: middle;\n",
       "    }\n",
       "\n",
       "    .dataframe tbody tr th {\n",
       "        vertical-align: top;\n",
       "    }\n",
       "\n",
       "    .dataframe thead th {\n",
       "        text-align: right;\n",
       "    }\n",
       "</style>\n",
       "<table border=\"1\" class=\"dataframe\">\n",
       "  <thead>\n",
       "    <tr style=\"text-align: right;\">\n",
       "      <th></th>\n",
       "      <th>Client</th>\n",
       "      <th>district_id</th>\n",
       "      <th>Gender</th>\n",
       "      <th>DOB</th>\n",
       "      <th>Age</th>\n",
       "      <th>AgeGroup</th>\n",
       "      <th>district_name</th>\n",
       "      <th>Region</th>\n",
       "      <th>A4</th>\n",
       "      <th>A5</th>\n",
       "      <th>A6</th>\n",
       "      <th>A7</th>\n",
       "      <th>A8</th>\n",
       "      <th>A10</th>\n",
       "      <th>Average_Salary</th>\n",
       "      <th>Unemployment_rate95</th>\n",
       "      <th>Unemployment96</th>\n",
       "      <th>A14</th>\n",
       "      <th>Crimesin95-96</th>\n",
       "    </tr>\n",
       "  </thead>\n",
       "  <tbody>\n",
       "    <tr>\n",
       "      <th>0</th>\n",
       "      <td>1</td>\n",
       "      <td>18</td>\n",
       "      <td>Female</td>\n",
       "      <td>13-12-1970</td>\n",
       "      <td>48</td>\n",
       "      <td>35-65</td>\n",
       "      <td>Pisek</td>\n",
       "      <td>south Bohemia</td>\n",
       "      <td>70699</td>\n",
       "      <td>60</td>\n",
       "      <td>13</td>\n",
       "      <td>2</td>\n",
       "      <td>1</td>\n",
       "      <td>65.3</td>\n",
       "      <td>8968</td>\n",
       "      <td>2.83</td>\n",
       "      <td>3.35</td>\n",
       "      <td>131</td>\n",
       "      <td>3650</td>\n",
       "    </tr>\n",
       "    <tr>\n",
       "      <th>1</th>\n",
       "      <td>2</td>\n",
       "      <td>1</td>\n",
       "      <td>Male</td>\n",
       "      <td>04-02-1945</td>\n",
       "      <td>74</td>\n",
       "      <td>65+</td>\n",
       "      <td>Hl.m. Praha</td>\n",
       "      <td>Prague</td>\n",
       "      <td>1204953</td>\n",
       "      <td>0</td>\n",
       "      <td>0</td>\n",
       "      <td>0</td>\n",
       "      <td>1</td>\n",
       "      <td>100.0</td>\n",
       "      <td>12541</td>\n",
       "      <td>0.29</td>\n",
       "      <td>0.43</td>\n",
       "      <td>167</td>\n",
       "      <td>184784</td>\n",
       "    </tr>\n",
       "    <tr>\n",
       "      <th>2</th>\n",
       "      <td>3</td>\n",
       "      <td>1</td>\n",
       "      <td>Female</td>\n",
       "      <td>09-10-1940</td>\n",
       "      <td>78</td>\n",
       "      <td>65+</td>\n",
       "      <td>Hl.m. Praha</td>\n",
       "      <td>Prague</td>\n",
       "      <td>1204953</td>\n",
       "      <td>0</td>\n",
       "      <td>0</td>\n",
       "      <td>0</td>\n",
       "      <td>1</td>\n",
       "      <td>100.0</td>\n",
       "      <td>12541</td>\n",
       "      <td>0.29</td>\n",
       "      <td>0.43</td>\n",
       "      <td>167</td>\n",
       "      <td>184784</td>\n",
       "    </tr>\n",
       "    <tr>\n",
       "      <th>3</th>\n",
       "      <td>4</td>\n",
       "      <td>5</td>\n",
       "      <td>Male</td>\n",
       "      <td>01-12-1956</td>\n",
       "      <td>62</td>\n",
       "      <td>35-65</td>\n",
       "      <td>Kolin</td>\n",
       "      <td>central Bohemia</td>\n",
       "      <td>95616</td>\n",
       "      <td>65</td>\n",
       "      <td>30</td>\n",
       "      <td>4</td>\n",
       "      <td>1</td>\n",
       "      <td>51.4</td>\n",
       "      <td>9307</td>\n",
       "      <td>3.85</td>\n",
       "      <td>4.43</td>\n",
       "      <td>118</td>\n",
       "      <td>5656</td>\n",
       "    </tr>\n",
       "    <tr>\n",
       "      <th>4</th>\n",
       "      <td>5</td>\n",
       "      <td>5</td>\n",
       "      <td>Female</td>\n",
       "      <td>03-07-1960</td>\n",
       "      <td>58</td>\n",
       "      <td>35-65</td>\n",
       "      <td>Kolin</td>\n",
       "      <td>central Bohemia</td>\n",
       "      <td>95616</td>\n",
       "      <td>65</td>\n",
       "      <td>30</td>\n",
       "      <td>4</td>\n",
       "      <td>1</td>\n",
       "      <td>51.4</td>\n",
       "      <td>9307</td>\n",
       "      <td>3.85</td>\n",
       "      <td>4.43</td>\n",
       "      <td>118</td>\n",
       "      <td>5656</td>\n",
       "    </tr>\n",
       "  </tbody>\n",
       "</table>\n",
       "</div>"
      ],
      "text/plain": [
       "   Client  district_id  Gender         DOB  Age AgeGroup district_name  \\\n",
       "0       1           18  Female  13-12-1970   48    35-65         Pisek   \n",
       "1       2            1    Male  04-02-1945   74      65+   Hl.m. Praha   \n",
       "2       3            1  Female  09-10-1940   78      65+   Hl.m. Praha   \n",
       "3       4            5    Male  01-12-1956   62    35-65         Kolin   \n",
       "4       5            5  Female  03-07-1960   58    35-65         Kolin   \n",
       "\n",
       "            Region       A4  A5  A6  A7  A8    A10  Average_Salary  \\\n",
       "0    south Bohemia    70699  60  13   2   1   65.3            8968   \n",
       "1           Prague  1204953   0   0   0   1  100.0           12541   \n",
       "2           Prague  1204953   0   0   0   1  100.0           12541   \n",
       "3  central Bohemia    95616  65  30   4   1   51.4            9307   \n",
       "4  central Bohemia    95616  65  30   4   1   51.4            9307   \n",
       "\n",
       "   Unemployment_rate95  Unemployment96  A14  Crimesin95-96  \n",
       "0                 2.83            3.35  131           3650  \n",
       "1                 0.29            0.43  167         184784  \n",
       "2                 0.29            0.43  167         184784  \n",
       "3                 3.85            4.43  118           5656  \n",
       "4                 3.85            4.43  118           5656  "
      ]
     },
     "metadata": {},
     "output_type": "display_data"
    }
   ],
   "source": [
    "display(ClientsBranches.head())"
   ]
  },
  {
   "cell_type": "code",
   "execution_count": 97,
   "metadata": {},
   "outputs": [
    {
     "data": {
      "text/plain": [
       "(5369, 19)"
      ]
     },
     "execution_count": 97,
     "metadata": {},
     "output_type": "execute_result"
    }
   ],
   "source": [
    "ClientsBranches.shape"
   ]
  },
  {
   "cell_type": "code",
   "execution_count": 98,
   "metadata": {},
   "outputs": [
    {
     "data": {
      "text/plain": [
       "Client                 0\n",
       "district_id            0\n",
       "Gender                 0\n",
       "DOB                    0\n",
       "Age                    0\n",
       "AgeGroup               0\n",
       "district_name          0\n",
       "Region                 0\n",
       "A4                     0\n",
       "A5                     0\n",
       "A6                     0\n",
       "A7                     0\n",
       "A8                     0\n",
       "A10                    0\n",
       "Average_Salary         0\n",
       "Unemployment_rate95    0\n",
       "Unemployment96         0\n",
       "A14                    0\n",
       "Crimesin95-96          0\n",
       "dtype: int64"
      ]
     },
     "execution_count": 98,
     "metadata": {},
     "output_type": "execute_result"
    }
   ],
   "source": [
    "ClientsBranches.isna().sum()#Checking if there are any missing values"
   ]
  },
  {
   "cell_type": "markdown",
   "metadata": {},
   "source": [
    "##### Let's load the account table and pre-process the data"
   ]
  },
  {
   "cell_type": "code",
   "execution_count": 99,
   "metadata": {},
   "outputs": [],
   "source": [
    "Account = pd.read_sql_query(\"SELECT * FROM account\", conn)"
   ]
  },
  {
   "cell_type": "code",
   "execution_count": 100,
   "metadata": {},
   "outputs": [],
   "source": [
    "Account[\"date\"] = pd.to_datetime(Account.date).dt.strftime('%d-%m-%Y')#Converting Date to proper format"
   ]
  },
  {
   "cell_type": "code",
   "execution_count": 101,
   "metadata": {},
   "outputs": [],
   "source": [
    "#Lets define a function that will convert all Gibberish to proper names according to the data dictionary\n",
    "def ChangeFreqnames(x):\n",
    "    if x == 'POPLATEK MESICNE':\n",
    "        return 'MONTHLY'\n",
    "    elif x == 'POPLATEK TYDNE':\n",
    "        return 'WEEKLY'\n",
    "    elif x == 'POPLATEK PO OBRATU':\n",
    "        return 'TRANSACTION'   \n",
    "Account['frequency'] = Account['frequency'].map(ChangeFreqnames)"
   ]
  },
  {
   "cell_type": "code",
   "execution_count": 102,
   "metadata": {},
   "outputs": [
    {
     "data": {
      "text/html": [
       "<div>\n",
       "<style scoped>\n",
       "    .dataframe tbody tr th:only-of-type {\n",
       "        vertical-align: middle;\n",
       "    }\n",
       "\n",
       "    .dataframe tbody tr th {\n",
       "        vertical-align: top;\n",
       "    }\n",
       "\n",
       "    .dataframe thead th {\n",
       "        text-align: right;\n",
       "    }\n",
       "</style>\n",
       "<table border=\"1\" class=\"dataframe\">\n",
       "  <thead>\n",
       "    <tr style=\"text-align: right;\">\n",
       "      <th></th>\n",
       "      <th>account_id</th>\n",
       "      <th>district_id</th>\n",
       "      <th>frequency</th>\n",
       "      <th>date</th>\n",
       "    </tr>\n",
       "  </thead>\n",
       "  <tbody>\n",
       "    <tr>\n",
       "      <th>0</th>\n",
       "      <td>1</td>\n",
       "      <td>18</td>\n",
       "      <td>MONTHLY</td>\n",
       "      <td>24-03-1995</td>\n",
       "    </tr>\n",
       "    <tr>\n",
       "      <th>1</th>\n",
       "      <td>2</td>\n",
       "      <td>1</td>\n",
       "      <td>MONTHLY</td>\n",
       "      <td>26-02-1993</td>\n",
       "    </tr>\n",
       "    <tr>\n",
       "      <th>2</th>\n",
       "      <td>3</td>\n",
       "      <td>5</td>\n",
       "      <td>MONTHLY</td>\n",
       "      <td>07-07-1997</td>\n",
       "    </tr>\n",
       "    <tr>\n",
       "      <th>3</th>\n",
       "      <td>4</td>\n",
       "      <td>12</td>\n",
       "      <td>MONTHLY</td>\n",
       "      <td>21-02-1996</td>\n",
       "    </tr>\n",
       "    <tr>\n",
       "      <th>4</th>\n",
       "      <td>5</td>\n",
       "      <td>15</td>\n",
       "      <td>MONTHLY</td>\n",
       "      <td>30-05-1997</td>\n",
       "    </tr>\n",
       "  </tbody>\n",
       "</table>\n",
       "</div>"
      ],
      "text/plain": [
       "   account_id  district_id frequency        date\n",
       "0           1           18   MONTHLY  24-03-1995\n",
       "1           2            1   MONTHLY  26-02-1993\n",
       "2           3            5   MONTHLY  07-07-1997\n",
       "3           4           12   MONTHLY  21-02-1996\n",
       "4           5           15   MONTHLY  30-05-1997"
      ]
     },
     "metadata": {},
     "output_type": "display_data"
    }
   ],
   "source": [
    "display(Account.head())"
   ]
  },
  {
   "cell_type": "code",
   "execution_count": 103,
   "metadata": {},
   "outputs": [
    {
     "data": {
      "text/plain": [
       "MONTHLY        4167\n",
       "WEEKLY          240\n",
       "TRANSACTION      93\n",
       "Name: frequency, dtype: int64"
      ]
     },
     "execution_count": 103,
     "metadata": {},
     "output_type": "execute_result"
    }
   ],
   "source": [
    "Account['frequency'].value_counts()"
   ]
  },
  {
   "cell_type": "code",
   "execution_count": 104,
   "metadata": {},
   "outputs": [
    {
     "data": {
      "text/plain": [
       "(4500, 4)"
      ]
     },
     "execution_count": 104,
     "metadata": {},
     "output_type": "execute_result"
    }
   ],
   "source": [
    "Account.shape"
   ]
  },
  {
   "cell_type": "code",
   "execution_count": 105,
   "metadata": {},
   "outputs": [
    {
     "data": {
      "text/html": [
       "<div>\n",
       "<style scoped>\n",
       "    .dataframe tbody tr th:only-of-type {\n",
       "        vertical-align: middle;\n",
       "    }\n",
       "\n",
       "    .dataframe tbody tr th {\n",
       "        vertical-align: top;\n",
       "    }\n",
       "\n",
       "    .dataframe thead th {\n",
       "        text-align: right;\n",
       "    }\n",
       "</style>\n",
       "<table border=\"1\" class=\"dataframe\">\n",
       "  <thead>\n",
       "    <tr style=\"text-align: right;\">\n",
       "      <th></th>\n",
       "      <th>account_id</th>\n",
       "      <th>district_id</th>\n",
       "      <th>frequency</th>\n",
       "      <th>date</th>\n",
       "    </tr>\n",
       "  </thead>\n",
       "  <tbody>\n",
       "    <tr>\n",
       "      <th>0</th>\n",
       "      <td>1</td>\n",
       "      <td>18</td>\n",
       "      <td>MONTHLY</td>\n",
       "      <td>24-03-1995</td>\n",
       "    </tr>\n",
       "    <tr>\n",
       "      <th>1</th>\n",
       "      <td>2</td>\n",
       "      <td>1</td>\n",
       "      <td>MONTHLY</td>\n",
       "      <td>26-02-1993</td>\n",
       "    </tr>\n",
       "    <tr>\n",
       "      <th>2</th>\n",
       "      <td>3</td>\n",
       "      <td>5</td>\n",
       "      <td>MONTHLY</td>\n",
       "      <td>07-07-1997</td>\n",
       "    </tr>\n",
       "    <tr>\n",
       "      <th>3</th>\n",
       "      <td>4</td>\n",
       "      <td>12</td>\n",
       "      <td>MONTHLY</td>\n",
       "      <td>21-02-1996</td>\n",
       "    </tr>\n",
       "    <tr>\n",
       "      <th>4</th>\n",
       "      <td>5</td>\n",
       "      <td>15</td>\n",
       "      <td>MONTHLY</td>\n",
       "      <td>30-05-1997</td>\n",
       "    </tr>\n",
       "  </tbody>\n",
       "</table>\n",
       "</div>"
      ],
      "text/plain": [
       "   account_id  district_id frequency        date\n",
       "0           1           18   MONTHLY  24-03-1995\n",
       "1           2            1   MONTHLY  26-02-1993\n",
       "2           3            5   MONTHLY  07-07-1997\n",
       "3           4           12   MONTHLY  21-02-1996\n",
       "4           5           15   MONTHLY  30-05-1997"
      ]
     },
     "metadata": {},
     "output_type": "display_data"
    }
   ],
   "source": [
    "display(Account.head())"
   ]
  },
  {
   "cell_type": "markdown",
   "metadata": {},
   "source": [
    "#### Now let's load in Card and Relation tables for pre processing"
   ]
  },
  {
   "cell_type": "code",
   "execution_count": 106,
   "metadata": {},
   "outputs": [],
   "source": [
    "Card = pd.read_sql_query(\"SELECT * FROM card\", conn)\n",
    "Relation = pd.read_sql_query(\"SELECT * FROM relationship\", conn)"
   ]
  },
  {
   "cell_type": "code",
   "execution_count": 107,
   "metadata": {},
   "outputs": [
    {
     "data": {
      "text/html": [
       "<div>\n",
       "<style scoped>\n",
       "    .dataframe tbody tr th:only-of-type {\n",
       "        vertical-align: middle;\n",
       "    }\n",
       "\n",
       "    .dataframe tbody tr th {\n",
       "        vertical-align: top;\n",
       "    }\n",
       "\n",
       "    .dataframe thead th {\n",
       "        text-align: right;\n",
       "    }\n",
       "</style>\n",
       "<table border=\"1\" class=\"dataframe\">\n",
       "  <thead>\n",
       "    <tr style=\"text-align: right;\">\n",
       "      <th></th>\n",
       "      <th>card_id</th>\n",
       "      <th>disp_id</th>\n",
       "      <th>type</th>\n",
       "      <th>issued</th>\n",
       "    </tr>\n",
       "  </thead>\n",
       "  <tbody>\n",
       "    <tr>\n",
       "      <th>0</th>\n",
       "      <td>1</td>\n",
       "      <td>9</td>\n",
       "      <td>gold</td>\n",
       "      <td>981016 00:00:00</td>\n",
       "    </tr>\n",
       "    <tr>\n",
       "      <th>1</th>\n",
       "      <td>2</td>\n",
       "      <td>19</td>\n",
       "      <td>classic</td>\n",
       "      <td>980313 00:00:00</td>\n",
       "    </tr>\n",
       "    <tr>\n",
       "      <th>2</th>\n",
       "      <td>3</td>\n",
       "      <td>41</td>\n",
       "      <td>gold</td>\n",
       "      <td>950903 00:00:00</td>\n",
       "    </tr>\n",
       "    <tr>\n",
       "      <th>3</th>\n",
       "      <td>4</td>\n",
       "      <td>42</td>\n",
       "      <td>classic</td>\n",
       "      <td>981126 00:00:00</td>\n",
       "    </tr>\n",
       "    <tr>\n",
       "      <th>4</th>\n",
       "      <td>5</td>\n",
       "      <td>51</td>\n",
       "      <td>junior</td>\n",
       "      <td>950424 00:00:00</td>\n",
       "    </tr>\n",
       "  </tbody>\n",
       "</table>\n",
       "</div>"
      ],
      "text/plain": [
       "   card_id  disp_id     type           issued\n",
       "0        1        9     gold  981016 00:00:00\n",
       "1        2       19  classic  980313 00:00:00\n",
       "2        3       41     gold  950903 00:00:00\n",
       "3        4       42  classic  981126 00:00:00\n",
       "4        5       51   junior  950424 00:00:00"
      ]
     },
     "metadata": {},
     "output_type": "display_data"
    }
   ],
   "source": [
    "display(Card.head())"
   ]
  },
  {
   "cell_type": "markdown",
   "metadata": {},
   "source": [
    "#### lets strip the time stamp from the issued date"
   ]
  },
  {
   "cell_type": "code",
   "execution_count": 108,
   "metadata": {},
   "outputs": [],
   "source": [
    "Card.issued = Card.issued.astype(str)"
   ]
  },
  {
   "cell_type": "code",
   "execution_count": 109,
   "metadata": {},
   "outputs": [],
   "source": [
    "Card['issued'] = pd.to_datetime(Card['issued'])"
   ]
  },
  {
   "cell_type": "code",
   "execution_count": 110,
   "metadata": {},
   "outputs": [],
   "source": [
    "Card['issued'] = Card['issued'].dt.date\n"
   ]
  },
  {
   "cell_type": "code",
   "execution_count": 111,
   "metadata": {},
   "outputs": [
    {
     "data": {
      "text/html": [
       "<div>\n",
       "<style scoped>\n",
       "    .dataframe tbody tr th:only-of-type {\n",
       "        vertical-align: middle;\n",
       "    }\n",
       "\n",
       "    .dataframe tbody tr th {\n",
       "        vertical-align: top;\n",
       "    }\n",
       "\n",
       "    .dataframe thead th {\n",
       "        text-align: right;\n",
       "    }\n",
       "</style>\n",
       "<table border=\"1\" class=\"dataframe\">\n",
       "  <thead>\n",
       "    <tr style=\"text-align: right;\">\n",
       "      <th></th>\n",
       "      <th>card_id</th>\n",
       "      <th>disp_id</th>\n",
       "      <th>type</th>\n",
       "      <th>issued</th>\n",
       "    </tr>\n",
       "  </thead>\n",
       "  <tbody>\n",
       "    <tr>\n",
       "      <th>0</th>\n",
       "      <td>1</td>\n",
       "      <td>9</td>\n",
       "      <td>gold</td>\n",
       "      <td>1998-10-16</td>\n",
       "    </tr>\n",
       "    <tr>\n",
       "      <th>1</th>\n",
       "      <td>2</td>\n",
       "      <td>19</td>\n",
       "      <td>classic</td>\n",
       "      <td>1998-03-13</td>\n",
       "    </tr>\n",
       "    <tr>\n",
       "      <th>2</th>\n",
       "      <td>3</td>\n",
       "      <td>41</td>\n",
       "      <td>gold</td>\n",
       "      <td>1995-09-03</td>\n",
       "    </tr>\n",
       "    <tr>\n",
       "      <th>3</th>\n",
       "      <td>4</td>\n",
       "      <td>42</td>\n",
       "      <td>classic</td>\n",
       "      <td>1998-11-26</td>\n",
       "    </tr>\n",
       "    <tr>\n",
       "      <th>4</th>\n",
       "      <td>5</td>\n",
       "      <td>51</td>\n",
       "      <td>junior</td>\n",
       "      <td>1995-04-24</td>\n",
       "    </tr>\n",
       "  </tbody>\n",
       "</table>\n",
       "</div>"
      ],
      "text/plain": [
       "   card_id  disp_id     type      issued\n",
       "0        1        9     gold  1998-10-16\n",
       "1        2       19  classic  1998-03-13\n",
       "2        3       41     gold  1995-09-03\n",
       "3        4       42  classic  1998-11-26\n",
       "4        5       51   junior  1995-04-24"
      ]
     },
     "metadata": {},
     "output_type": "display_data"
    }
   ],
   "source": [
    "display(Card.head())"
   ]
  },
  {
   "cell_type": "markdown",
   "metadata": {},
   "source": [
    "#### Instead of keeping the issued date as a date, i decided to calculate the number of years instead when the card was issued. Too many dates in the data will be a pain to handle later anyways."
   ]
  },
  {
   "cell_type": "code",
   "execution_count": 112,
   "metadata": {},
   "outputs": [],
   "source": [
    "def calculate_years(born):\n",
    "    born = datetime.strptime(born, \"%Y-%m-%d\").date()\n",
    "    today = date.today()\n",
    "    return today.year - born.year - ((today.month, today.day) < (born.month, born.day))\n",
    "Card.issued = Card.issued.astype(str)\n",
    "Card['issued']=Card[\"issued\"].apply(calculate_years)"
   ]
  },
  {
   "cell_type": "code",
   "execution_count": 113,
   "metadata": {},
   "outputs": [
    {
     "data": {
      "text/html": [
       "<div>\n",
       "<style scoped>\n",
       "    .dataframe tbody tr th:only-of-type {\n",
       "        vertical-align: middle;\n",
       "    }\n",
       "\n",
       "    .dataframe tbody tr th {\n",
       "        vertical-align: top;\n",
       "    }\n",
       "\n",
       "    .dataframe thead th {\n",
       "        text-align: right;\n",
       "    }\n",
       "</style>\n",
       "<table border=\"1\" class=\"dataframe\">\n",
       "  <thead>\n",
       "    <tr style=\"text-align: right;\">\n",
       "      <th></th>\n",
       "      <th>card_id</th>\n",
       "      <th>disp_id</th>\n",
       "      <th>Card_Type</th>\n",
       "      <th>issued</th>\n",
       "    </tr>\n",
       "  </thead>\n",
       "  <tbody>\n",
       "    <tr>\n",
       "      <th>0</th>\n",
       "      <td>1</td>\n",
       "      <td>9</td>\n",
       "      <td>gold</td>\n",
       "      <td>20</td>\n",
       "    </tr>\n",
       "    <tr>\n",
       "      <th>1</th>\n",
       "      <td>2</td>\n",
       "      <td>19</td>\n",
       "      <td>classic</td>\n",
       "      <td>20</td>\n",
       "    </tr>\n",
       "    <tr>\n",
       "      <th>2</th>\n",
       "      <td>3</td>\n",
       "      <td>41</td>\n",
       "      <td>gold</td>\n",
       "      <td>23</td>\n",
       "    </tr>\n",
       "    <tr>\n",
       "      <th>3</th>\n",
       "      <td>4</td>\n",
       "      <td>42</td>\n",
       "      <td>classic</td>\n",
       "      <td>20</td>\n",
       "    </tr>\n",
       "    <tr>\n",
       "      <th>4</th>\n",
       "      <td>5</td>\n",
       "      <td>51</td>\n",
       "      <td>junior</td>\n",
       "      <td>23</td>\n",
       "    </tr>\n",
       "  </tbody>\n",
       "</table>\n",
       "</div>"
      ],
      "text/plain": [
       "   card_id  disp_id Card_Type  issued\n",
       "0        1        9      gold      20\n",
       "1        2       19   classic      20\n",
       "2        3       41      gold      23\n",
       "3        4       42   classic      20\n",
       "4        5       51    junior      23"
      ]
     },
     "metadata": {},
     "output_type": "display_data"
    }
   ],
   "source": [
    "Card.rename(columns={'type':'Card_Type'}, inplace=True)\n",
    "display(Card.head())"
   ]
  },
  {
   "cell_type": "markdown",
   "metadata": {},
   "source": [
    "Let's rename the client id in Relation table"
   ]
  },
  {
   "cell_type": "code",
   "execution_count": 114,
   "metadata": {},
   "outputs": [],
   "source": [
    "Relation.rename(columns={'client_id':'Client'}, inplace=True)"
   ]
  },
  {
   "cell_type": "code",
   "execution_count": 115,
   "metadata": {},
   "outputs": [
    {
     "data": {
      "text/html": [
       "<div>\n",
       "<style scoped>\n",
       "    .dataframe tbody tr th:only-of-type {\n",
       "        vertical-align: middle;\n",
       "    }\n",
       "\n",
       "    .dataframe tbody tr th {\n",
       "        vertical-align: top;\n",
       "    }\n",
       "\n",
       "    .dataframe thead th {\n",
       "        text-align: right;\n",
       "    }\n",
       "</style>\n",
       "<table border=\"1\" class=\"dataframe\">\n",
       "  <thead>\n",
       "    <tr style=\"text-align: right;\">\n",
       "      <th></th>\n",
       "      <th>disp_id</th>\n",
       "      <th>Client</th>\n",
       "      <th>account_id</th>\n",
       "      <th>type</th>\n",
       "    </tr>\n",
       "  </thead>\n",
       "  <tbody>\n",
       "    <tr>\n",
       "      <th>0</th>\n",
       "      <td>1</td>\n",
       "      <td>1</td>\n",
       "      <td>1</td>\n",
       "      <td>OWNER</td>\n",
       "    </tr>\n",
       "    <tr>\n",
       "      <th>1</th>\n",
       "      <td>2</td>\n",
       "      <td>2</td>\n",
       "      <td>2</td>\n",
       "      <td>OWNER</td>\n",
       "    </tr>\n",
       "    <tr>\n",
       "      <th>2</th>\n",
       "      <td>3</td>\n",
       "      <td>3</td>\n",
       "      <td>2</td>\n",
       "      <td>DISPONENT</td>\n",
       "    </tr>\n",
       "    <tr>\n",
       "      <th>3</th>\n",
       "      <td>4</td>\n",
       "      <td>4</td>\n",
       "      <td>3</td>\n",
       "      <td>OWNER</td>\n",
       "    </tr>\n",
       "    <tr>\n",
       "      <th>4</th>\n",
       "      <td>5</td>\n",
       "      <td>5</td>\n",
       "      <td>3</td>\n",
       "      <td>DISPONENT</td>\n",
       "    </tr>\n",
       "  </tbody>\n",
       "</table>\n",
       "</div>"
      ],
      "text/plain": [
       "   disp_id  Client  account_id       type\n",
       "0        1       1           1      OWNER\n",
       "1        2       2           2      OWNER\n",
       "2        3       3           2  DISPONENT\n",
       "3        4       4           3      OWNER\n",
       "4        5       5           3  DISPONENT"
      ]
     },
     "metadata": {},
     "output_type": "display_data"
    }
   ],
   "source": [
    "display(Relation.head())"
   ]
  },
  {
   "cell_type": "code",
   "execution_count": 116,
   "metadata": {},
   "outputs": [],
   "source": [
    "Relation = pd.merge(Relation,Card, how='left', on=['disp_id'])# Merging card with Relation table"
   ]
  },
  {
   "cell_type": "code",
   "execution_count": 117,
   "metadata": {},
   "outputs": [
    {
     "data": {
      "text/html": [
       "<div>\n",
       "<style scoped>\n",
       "    .dataframe tbody tr th:only-of-type {\n",
       "        vertical-align: middle;\n",
       "    }\n",
       "\n",
       "    .dataframe tbody tr th {\n",
       "        vertical-align: top;\n",
       "    }\n",
       "\n",
       "    .dataframe thead th {\n",
       "        text-align: right;\n",
       "    }\n",
       "</style>\n",
       "<table border=\"1\" class=\"dataframe\">\n",
       "  <thead>\n",
       "    <tr style=\"text-align: right;\">\n",
       "      <th></th>\n",
       "      <th>disp_id</th>\n",
       "      <th>Client</th>\n",
       "      <th>account_id</th>\n",
       "      <th>type</th>\n",
       "      <th>card_id</th>\n",
       "      <th>Card_Type</th>\n",
       "      <th>issued</th>\n",
       "    </tr>\n",
       "  </thead>\n",
       "  <tbody>\n",
       "    <tr>\n",
       "      <th>0</th>\n",
       "      <td>1</td>\n",
       "      <td>1</td>\n",
       "      <td>1</td>\n",
       "      <td>OWNER</td>\n",
       "      <td>NaN</td>\n",
       "      <td>NaN</td>\n",
       "      <td>NaN</td>\n",
       "    </tr>\n",
       "    <tr>\n",
       "      <th>1</th>\n",
       "      <td>2</td>\n",
       "      <td>2</td>\n",
       "      <td>2</td>\n",
       "      <td>OWNER</td>\n",
       "      <td>NaN</td>\n",
       "      <td>NaN</td>\n",
       "      <td>NaN</td>\n",
       "    </tr>\n",
       "    <tr>\n",
       "      <th>2</th>\n",
       "      <td>3</td>\n",
       "      <td>3</td>\n",
       "      <td>2</td>\n",
       "      <td>DISPONENT</td>\n",
       "      <td>NaN</td>\n",
       "      <td>NaN</td>\n",
       "      <td>NaN</td>\n",
       "    </tr>\n",
       "    <tr>\n",
       "      <th>3</th>\n",
       "      <td>4</td>\n",
       "      <td>4</td>\n",
       "      <td>3</td>\n",
       "      <td>OWNER</td>\n",
       "      <td>NaN</td>\n",
       "      <td>NaN</td>\n",
       "      <td>NaN</td>\n",
       "    </tr>\n",
       "    <tr>\n",
       "      <th>4</th>\n",
       "      <td>5</td>\n",
       "      <td>5</td>\n",
       "      <td>3</td>\n",
       "      <td>DISPONENT</td>\n",
       "      <td>NaN</td>\n",
       "      <td>NaN</td>\n",
       "      <td>NaN</td>\n",
       "    </tr>\n",
       "    <tr>\n",
       "      <th>5</th>\n",
       "      <td>6</td>\n",
       "      <td>6</td>\n",
       "      <td>4</td>\n",
       "      <td>OWNER</td>\n",
       "      <td>NaN</td>\n",
       "      <td>NaN</td>\n",
       "      <td>NaN</td>\n",
       "    </tr>\n",
       "    <tr>\n",
       "      <th>6</th>\n",
       "      <td>7</td>\n",
       "      <td>7</td>\n",
       "      <td>5</td>\n",
       "      <td>OWNER</td>\n",
       "      <td>NaN</td>\n",
       "      <td>NaN</td>\n",
       "      <td>NaN</td>\n",
       "    </tr>\n",
       "    <tr>\n",
       "      <th>7</th>\n",
       "      <td>8</td>\n",
       "      <td>8</td>\n",
       "      <td>6</td>\n",
       "      <td>OWNER</td>\n",
       "      <td>NaN</td>\n",
       "      <td>NaN</td>\n",
       "      <td>NaN</td>\n",
       "    </tr>\n",
       "    <tr>\n",
       "      <th>8</th>\n",
       "      <td>9</td>\n",
       "      <td>9</td>\n",
       "      <td>7</td>\n",
       "      <td>OWNER</td>\n",
       "      <td>1.0</td>\n",
       "      <td>gold</td>\n",
       "      <td>20.0</td>\n",
       "    </tr>\n",
       "    <tr>\n",
       "      <th>9</th>\n",
       "      <td>10</td>\n",
       "      <td>10</td>\n",
       "      <td>8</td>\n",
       "      <td>OWNER</td>\n",
       "      <td>NaN</td>\n",
       "      <td>NaN</td>\n",
       "      <td>NaN</td>\n",
       "    </tr>\n",
       "  </tbody>\n",
       "</table>\n",
       "</div>"
      ],
      "text/plain": [
       "   disp_id  Client  account_id       type  card_id Card_Type  issued\n",
       "0        1       1           1      OWNER      NaN       NaN     NaN\n",
       "1        2       2           2      OWNER      NaN       NaN     NaN\n",
       "2        3       3           2  DISPONENT      NaN       NaN     NaN\n",
       "3        4       4           3      OWNER      NaN       NaN     NaN\n",
       "4        5       5           3  DISPONENT      NaN       NaN     NaN\n",
       "5        6       6           4      OWNER      NaN       NaN     NaN\n",
       "6        7       7           5      OWNER      NaN       NaN     NaN\n",
       "7        8       8           6      OWNER      NaN       NaN     NaN\n",
       "8        9       9           7      OWNER      1.0      gold    20.0\n",
       "9       10      10           8      OWNER      NaN       NaN     NaN"
      ]
     },
     "metadata": {},
     "output_type": "display_data"
    }
   ],
   "source": [
    "display(Relation.head(10))"
   ]
  },
  {
   "cell_type": "code",
   "execution_count": 118,
   "metadata": {},
   "outputs": [
    {
     "data": {
      "text/plain": [
       "disp_id          0\n",
       "Client           0\n",
       "account_id       0\n",
       "type             0\n",
       "card_id       4477\n",
       "Card_Type     4477\n",
       "issued        4477\n",
       "dtype: int64"
      ]
     },
     "execution_count": 118,
     "metadata": {},
     "output_type": "execute_result"
    }
   ],
   "source": [
    "Relation.isna().sum()"
   ]
  },
  {
   "cell_type": "markdown",
   "metadata": {},
   "source": [
    "#### Well there are alot of clients who dont have a card issued to them.. These missing values will cause problems later on..Better i handle them now"
   ]
  },
  {
   "cell_type": "code",
   "execution_count": 119,
   "metadata": {},
   "outputs": [
    {
     "data": {
      "text/plain": [
       "(5369, 7)"
      ]
     },
     "execution_count": 119,
     "metadata": {},
     "output_type": "execute_result"
    }
   ],
   "source": [
    "Relation.shape"
   ]
  },
  {
   "cell_type": "code",
   "execution_count": 120,
   "metadata": {},
   "outputs": [],
   "source": [
    "Relation.Card_Type.fillna('Notissued', inplace = True)# Changing the missing values to not issued category for card type"
   ]
  },
  {
   "cell_type": "code",
   "execution_count": 1,
   "metadata": {},
   "outputs": [
    {
     "ename": "NameError",
     "evalue": "name 'Relation' is not defined",
     "output_type": "error",
     "traceback": [
      "\u001b[1;31m---------------------------------------------------------------------------\u001b[0m",
      "\u001b[1;31mNameError\u001b[0m                                 Traceback (most recent call last)",
      "\u001b[1;32m<ipython-input-1-7d77df0a0854>\u001b[0m in \u001b[0;36m<module>\u001b[1;34m\u001b[0m\n\u001b[1;32m----> 1\u001b[1;33m \u001b[0mRelation\u001b[0m\u001b[1;33m.\u001b[0m\u001b[0mfillna\u001b[0m\u001b[1;33m(\u001b[0m\u001b[1;34m'Notissued'\u001b[0m\u001b[1;33m,\u001b[0m \u001b[0minplace\u001b[0m \u001b[1;33m=\u001b[0m \u001b[1;32mTrue\u001b[0m\u001b[1;33m)\u001b[0m\u001b[1;33m\u001b[0m\u001b[1;33m\u001b[0m\u001b[0m\n\u001b[0m",
      "\u001b[1;31mNameError\u001b[0m: name 'Relation' is not defined"
     ]
    }
   ],
   "source": []
  },
  {
   "cell_type": "code",
   "execution_count": 121,
   "metadata": {},
   "outputs": [
    {
     "data": {
      "text/html": [
       "<div>\n",
       "<style scoped>\n",
       "    .dataframe tbody tr th:only-of-type {\n",
       "        vertical-align: middle;\n",
       "    }\n",
       "\n",
       "    .dataframe tbody tr th {\n",
       "        vertical-align: top;\n",
       "    }\n",
       "\n",
       "    .dataframe thead th {\n",
       "        text-align: right;\n",
       "    }\n",
       "</style>\n",
       "<table border=\"1\" class=\"dataframe\">\n",
       "  <thead>\n",
       "    <tr style=\"text-align: right;\">\n",
       "      <th></th>\n",
       "      <th>disp_id</th>\n",
       "      <th>Client</th>\n",
       "      <th>account_id</th>\n",
       "      <th>type</th>\n",
       "      <th>card_id</th>\n",
       "      <th>Card_Type</th>\n",
       "      <th>issued</th>\n",
       "    </tr>\n",
       "  </thead>\n",
       "  <tbody>\n",
       "    <tr>\n",
       "      <th>0</th>\n",
       "      <td>1</td>\n",
       "      <td>1</td>\n",
       "      <td>1</td>\n",
       "      <td>OWNER</td>\n",
       "      <td>NaN</td>\n",
       "      <td>Notissued</td>\n",
       "      <td>NaN</td>\n",
       "    </tr>\n",
       "    <tr>\n",
       "      <th>1</th>\n",
       "      <td>2</td>\n",
       "      <td>2</td>\n",
       "      <td>2</td>\n",
       "      <td>OWNER</td>\n",
       "      <td>NaN</td>\n",
       "      <td>Notissued</td>\n",
       "      <td>NaN</td>\n",
       "    </tr>\n",
       "    <tr>\n",
       "      <th>2</th>\n",
       "      <td>3</td>\n",
       "      <td>3</td>\n",
       "      <td>2</td>\n",
       "      <td>DISPONENT</td>\n",
       "      <td>NaN</td>\n",
       "      <td>Notissued</td>\n",
       "      <td>NaN</td>\n",
       "    </tr>\n",
       "    <tr>\n",
       "      <th>3</th>\n",
       "      <td>4</td>\n",
       "      <td>4</td>\n",
       "      <td>3</td>\n",
       "      <td>OWNER</td>\n",
       "      <td>NaN</td>\n",
       "      <td>Notissued</td>\n",
       "      <td>NaN</td>\n",
       "    </tr>\n",
       "    <tr>\n",
       "      <th>4</th>\n",
       "      <td>5</td>\n",
       "      <td>5</td>\n",
       "      <td>3</td>\n",
       "      <td>DISPONENT</td>\n",
       "      <td>NaN</td>\n",
       "      <td>Notissued</td>\n",
       "      <td>NaN</td>\n",
       "    </tr>\n",
       "    <tr>\n",
       "      <th>5</th>\n",
       "      <td>6</td>\n",
       "      <td>6</td>\n",
       "      <td>4</td>\n",
       "      <td>OWNER</td>\n",
       "      <td>NaN</td>\n",
       "      <td>Notissued</td>\n",
       "      <td>NaN</td>\n",
       "    </tr>\n",
       "    <tr>\n",
       "      <th>6</th>\n",
       "      <td>7</td>\n",
       "      <td>7</td>\n",
       "      <td>5</td>\n",
       "      <td>OWNER</td>\n",
       "      <td>NaN</td>\n",
       "      <td>Notissued</td>\n",
       "      <td>NaN</td>\n",
       "    </tr>\n",
       "    <tr>\n",
       "      <th>7</th>\n",
       "      <td>8</td>\n",
       "      <td>8</td>\n",
       "      <td>6</td>\n",
       "      <td>OWNER</td>\n",
       "      <td>NaN</td>\n",
       "      <td>Notissued</td>\n",
       "      <td>NaN</td>\n",
       "    </tr>\n",
       "    <tr>\n",
       "      <th>8</th>\n",
       "      <td>9</td>\n",
       "      <td>9</td>\n",
       "      <td>7</td>\n",
       "      <td>OWNER</td>\n",
       "      <td>1.0</td>\n",
       "      <td>gold</td>\n",
       "      <td>20.0</td>\n",
       "    </tr>\n",
       "    <tr>\n",
       "      <th>9</th>\n",
       "      <td>10</td>\n",
       "      <td>10</td>\n",
       "      <td>8</td>\n",
       "      <td>OWNER</td>\n",
       "      <td>NaN</td>\n",
       "      <td>Notissued</td>\n",
       "      <td>NaN</td>\n",
       "    </tr>\n",
       "  </tbody>\n",
       "</table>\n",
       "</div>"
      ],
      "text/plain": [
       "   disp_id  Client  account_id       type  card_id  Card_Type  issued\n",
       "0        1       1           1      OWNER      NaN  Notissued     NaN\n",
       "1        2       2           2      OWNER      NaN  Notissued     NaN\n",
       "2        3       3           2  DISPONENT      NaN  Notissued     NaN\n",
       "3        4       4           3      OWNER      NaN  Notissued     NaN\n",
       "4        5       5           3  DISPONENT      NaN  Notissued     NaN\n",
       "5        6       6           4      OWNER      NaN  Notissued     NaN\n",
       "6        7       7           5      OWNER      NaN  Notissued     NaN\n",
       "7        8       8           6      OWNER      NaN  Notissued     NaN\n",
       "8        9       9           7      OWNER      1.0       gold    20.0\n",
       "9       10      10           8      OWNER      NaN  Notissued     NaN"
      ]
     },
     "metadata": {},
     "output_type": "display_data"
    }
   ],
   "source": [
    "display(Relation.head(10))"
   ]
  },
  {
   "cell_type": "code",
   "execution_count": 122,
   "metadata": {},
   "outputs": [],
   "source": [
    "Relation.issued.fillna('0', inplace = True)# Also Issued years to 0 for all those who have no card"
   ]
  },
  {
   "cell_type": "code",
   "execution_count": 123,
   "metadata": {},
   "outputs": [
    {
     "data": {
      "text/html": [
       "<div>\n",
       "<style scoped>\n",
       "    .dataframe tbody tr th:only-of-type {\n",
       "        vertical-align: middle;\n",
       "    }\n",
       "\n",
       "    .dataframe tbody tr th {\n",
       "        vertical-align: top;\n",
       "    }\n",
       "\n",
       "    .dataframe thead th {\n",
       "        text-align: right;\n",
       "    }\n",
       "</style>\n",
       "<table border=\"1\" class=\"dataframe\">\n",
       "  <thead>\n",
       "    <tr style=\"text-align: right;\">\n",
       "      <th></th>\n",
       "      <th>disp_id</th>\n",
       "      <th>Client</th>\n",
       "      <th>account_id</th>\n",
       "      <th>type</th>\n",
       "      <th>card_id</th>\n",
       "      <th>Card_Type</th>\n",
       "      <th>issued</th>\n",
       "    </tr>\n",
       "  </thead>\n",
       "  <tbody>\n",
       "    <tr>\n",
       "      <th>0</th>\n",
       "      <td>1</td>\n",
       "      <td>1</td>\n",
       "      <td>1</td>\n",
       "      <td>OWNER</td>\n",
       "      <td>NaN</td>\n",
       "      <td>Notissued</td>\n",
       "      <td>0</td>\n",
       "    </tr>\n",
       "    <tr>\n",
       "      <th>1</th>\n",
       "      <td>2</td>\n",
       "      <td>2</td>\n",
       "      <td>2</td>\n",
       "      <td>OWNER</td>\n",
       "      <td>NaN</td>\n",
       "      <td>Notissued</td>\n",
       "      <td>0</td>\n",
       "    </tr>\n",
       "    <tr>\n",
       "      <th>2</th>\n",
       "      <td>3</td>\n",
       "      <td>3</td>\n",
       "      <td>2</td>\n",
       "      <td>DISPONENT</td>\n",
       "      <td>NaN</td>\n",
       "      <td>Notissued</td>\n",
       "      <td>0</td>\n",
       "    </tr>\n",
       "    <tr>\n",
       "      <th>3</th>\n",
       "      <td>4</td>\n",
       "      <td>4</td>\n",
       "      <td>3</td>\n",
       "      <td>OWNER</td>\n",
       "      <td>NaN</td>\n",
       "      <td>Notissued</td>\n",
       "      <td>0</td>\n",
       "    </tr>\n",
       "    <tr>\n",
       "      <th>4</th>\n",
       "      <td>5</td>\n",
       "      <td>5</td>\n",
       "      <td>3</td>\n",
       "      <td>DISPONENT</td>\n",
       "      <td>NaN</td>\n",
       "      <td>Notissued</td>\n",
       "      <td>0</td>\n",
       "    </tr>\n",
       "    <tr>\n",
       "      <th>5</th>\n",
       "      <td>6</td>\n",
       "      <td>6</td>\n",
       "      <td>4</td>\n",
       "      <td>OWNER</td>\n",
       "      <td>NaN</td>\n",
       "      <td>Notissued</td>\n",
       "      <td>0</td>\n",
       "    </tr>\n",
       "    <tr>\n",
       "      <th>6</th>\n",
       "      <td>7</td>\n",
       "      <td>7</td>\n",
       "      <td>5</td>\n",
       "      <td>OWNER</td>\n",
       "      <td>NaN</td>\n",
       "      <td>Notissued</td>\n",
       "      <td>0</td>\n",
       "    </tr>\n",
       "    <tr>\n",
       "      <th>7</th>\n",
       "      <td>8</td>\n",
       "      <td>8</td>\n",
       "      <td>6</td>\n",
       "      <td>OWNER</td>\n",
       "      <td>NaN</td>\n",
       "      <td>Notissued</td>\n",
       "      <td>0</td>\n",
       "    </tr>\n",
       "    <tr>\n",
       "      <th>8</th>\n",
       "      <td>9</td>\n",
       "      <td>9</td>\n",
       "      <td>7</td>\n",
       "      <td>OWNER</td>\n",
       "      <td>1.0</td>\n",
       "      <td>gold</td>\n",
       "      <td>20</td>\n",
       "    </tr>\n",
       "    <tr>\n",
       "      <th>9</th>\n",
       "      <td>10</td>\n",
       "      <td>10</td>\n",
       "      <td>8</td>\n",
       "      <td>OWNER</td>\n",
       "      <td>NaN</td>\n",
       "      <td>Notissued</td>\n",
       "      <td>0</td>\n",
       "    </tr>\n",
       "  </tbody>\n",
       "</table>\n",
       "</div>"
      ],
      "text/plain": [
       "   disp_id  Client  account_id       type  card_id  Card_Type issued\n",
       "0        1       1           1      OWNER      NaN  Notissued      0\n",
       "1        2       2           2      OWNER      NaN  Notissued      0\n",
       "2        3       3           2  DISPONENT      NaN  Notissued      0\n",
       "3        4       4           3      OWNER      NaN  Notissued      0\n",
       "4        5       5           3  DISPONENT      NaN  Notissued      0\n",
       "5        6       6           4      OWNER      NaN  Notissued      0\n",
       "6        7       7           5      OWNER      NaN  Notissued      0\n",
       "7        8       8           6      OWNER      NaN  Notissued      0\n",
       "8        9       9           7      OWNER      1.0       gold     20\n",
       "9       10      10           8      OWNER      NaN  Notissued      0"
      ]
     },
     "metadata": {},
     "output_type": "display_data"
    }
   ],
   "source": [
    "display(Relation.head(10))"
   ]
  },
  {
   "cell_type": "code",
   "execution_count": 124,
   "metadata": {},
   "outputs": [
    {
     "data": {
      "text/plain": [
       "disp_id          0\n",
       "Client           0\n",
       "account_id       0\n",
       "type             0\n",
       "card_id       4477\n",
       "Card_Type        0\n",
       "issued           0\n",
       "dtype: int64"
      ]
     },
     "execution_count": 124,
     "metadata": {},
     "output_type": "execute_result"
    }
   ],
   "source": [
    "Relation.isna().sum() #Now missing values only remain in card_id which i drop later on before modeling anyways"
   ]
  },
  {
   "cell_type": "markdown",
   "metadata": {},
   "source": [
    "##### Let's merge the relation table (Final) with Accounts table"
   ]
  },
  {
   "cell_type": "code",
   "execution_count": 125,
   "metadata": {},
   "outputs": [],
   "source": [
    "Account = pd.merge(Account,Relation, how='left', on=['account_id'])# Merging with the collective dataset"
   ]
  },
  {
   "cell_type": "code",
   "execution_count": 126,
   "metadata": {},
   "outputs": [
    {
     "data": {
      "text/html": [
       "<div>\n",
       "<style scoped>\n",
       "    .dataframe tbody tr th:only-of-type {\n",
       "        vertical-align: middle;\n",
       "    }\n",
       "\n",
       "    .dataframe tbody tr th {\n",
       "        vertical-align: top;\n",
       "    }\n",
       "\n",
       "    .dataframe thead th {\n",
       "        text-align: right;\n",
       "    }\n",
       "</style>\n",
       "<table border=\"1\" class=\"dataframe\">\n",
       "  <thead>\n",
       "    <tr style=\"text-align: right;\">\n",
       "      <th></th>\n",
       "      <th>account_id</th>\n",
       "      <th>district_id</th>\n",
       "      <th>frequency</th>\n",
       "      <th>date</th>\n",
       "      <th>disp_id</th>\n",
       "      <th>Client</th>\n",
       "      <th>type</th>\n",
       "      <th>card_id</th>\n",
       "      <th>Card_Type</th>\n",
       "      <th>issued</th>\n",
       "    </tr>\n",
       "  </thead>\n",
       "  <tbody>\n",
       "    <tr>\n",
       "      <th>0</th>\n",
       "      <td>1</td>\n",
       "      <td>18</td>\n",
       "      <td>MONTHLY</td>\n",
       "      <td>24-03-1995</td>\n",
       "      <td>1</td>\n",
       "      <td>1</td>\n",
       "      <td>OWNER</td>\n",
       "      <td>NaN</td>\n",
       "      <td>Notissued</td>\n",
       "      <td>0</td>\n",
       "    </tr>\n",
       "    <tr>\n",
       "      <th>1</th>\n",
       "      <td>2</td>\n",
       "      <td>1</td>\n",
       "      <td>MONTHLY</td>\n",
       "      <td>26-02-1993</td>\n",
       "      <td>2</td>\n",
       "      <td>2</td>\n",
       "      <td>OWNER</td>\n",
       "      <td>NaN</td>\n",
       "      <td>Notissued</td>\n",
       "      <td>0</td>\n",
       "    </tr>\n",
       "    <tr>\n",
       "      <th>2</th>\n",
       "      <td>2</td>\n",
       "      <td>1</td>\n",
       "      <td>MONTHLY</td>\n",
       "      <td>26-02-1993</td>\n",
       "      <td>3</td>\n",
       "      <td>3</td>\n",
       "      <td>DISPONENT</td>\n",
       "      <td>NaN</td>\n",
       "      <td>Notissued</td>\n",
       "      <td>0</td>\n",
       "    </tr>\n",
       "    <tr>\n",
       "      <th>3</th>\n",
       "      <td>3</td>\n",
       "      <td>5</td>\n",
       "      <td>MONTHLY</td>\n",
       "      <td>07-07-1997</td>\n",
       "      <td>4</td>\n",
       "      <td>4</td>\n",
       "      <td>OWNER</td>\n",
       "      <td>NaN</td>\n",
       "      <td>Notissued</td>\n",
       "      <td>0</td>\n",
       "    </tr>\n",
       "    <tr>\n",
       "      <th>4</th>\n",
       "      <td>3</td>\n",
       "      <td>5</td>\n",
       "      <td>MONTHLY</td>\n",
       "      <td>07-07-1997</td>\n",
       "      <td>5</td>\n",
       "      <td>5</td>\n",
       "      <td>DISPONENT</td>\n",
       "      <td>NaN</td>\n",
       "      <td>Notissued</td>\n",
       "      <td>0</td>\n",
       "    </tr>\n",
       "  </tbody>\n",
       "</table>\n",
       "</div>"
      ],
      "text/plain": [
       "   account_id  district_id frequency        date  disp_id  Client       type  \\\n",
       "0           1           18   MONTHLY  24-03-1995        1       1      OWNER   \n",
       "1           2            1   MONTHLY  26-02-1993        2       2      OWNER   \n",
       "2           2            1   MONTHLY  26-02-1993        3       3  DISPONENT   \n",
       "3           3            5   MONTHLY  07-07-1997        4       4      OWNER   \n",
       "4           3            5   MONTHLY  07-07-1997        5       5  DISPONENT   \n",
       "\n",
       "   card_id  Card_Type issued  \n",
       "0      NaN  Notissued      0  \n",
       "1      NaN  Notissued      0  \n",
       "2      NaN  Notissued      0  \n",
       "3      NaN  Notissued      0  \n",
       "4      NaN  Notissued      0  "
      ]
     },
     "metadata": {},
     "output_type": "display_data"
    }
   ],
   "source": [
    "display(Account.head())"
   ]
  },
  {
   "cell_type": "code",
   "execution_count": 127,
   "metadata": {},
   "outputs": [
    {
     "data": {
      "text/plain": [
       "(5369, 10)"
      ]
     },
     "execution_count": 127,
     "metadata": {},
     "output_type": "execute_result"
    }
   ],
   "source": [
    "Account.shape"
   ]
  },
  {
   "cell_type": "markdown",
   "metadata": {},
   "source": [
    "#### Loading Loan and transaction table and merging them with Account after pre processing"
   ]
  },
  {
   "cell_type": "code",
   "execution_count": 128,
   "metadata": {},
   "outputs": [],
   "source": [
    "trans = pd.read_sql_query(\"SELECT * FROM trans\", conn)\n",
    "loan= pd.read_sql_query(\"SELECT * FROM loan\", conn)"
   ]
  },
  {
   "cell_type": "code",
   "execution_count": 129,
   "metadata": {},
   "outputs": [
    {
     "data": {
      "text/html": [
       "<div>\n",
       "<style scoped>\n",
       "    .dataframe tbody tr th:only-of-type {\n",
       "        vertical-align: middle;\n",
       "    }\n",
       "\n",
       "    .dataframe tbody tr th {\n",
       "        vertical-align: top;\n",
       "    }\n",
       "\n",
       "    .dataframe thead th {\n",
       "        text-align: right;\n",
       "    }\n",
       "</style>\n",
       "<table border=\"1\" class=\"dataframe\">\n",
       "  <thead>\n",
       "    <tr style=\"text-align: right;\">\n",
       "      <th></th>\n",
       "      <th>trans_id</th>\n",
       "      <th>account_id</th>\n",
       "      <th>date</th>\n",
       "      <th>type</th>\n",
       "      <th>operation</th>\n",
       "      <th>amount</th>\n",
       "      <th>balance</th>\n",
       "      <th>k_symbol</th>\n",
       "      <th>bank</th>\n",
       "      <th>account</th>\n",
       "    </tr>\n",
       "  </thead>\n",
       "  <tbody>\n",
       "    <tr>\n",
       "      <th>0</th>\n",
       "      <td>1</td>\n",
       "      <td>1</td>\n",
       "      <td>950324</td>\n",
       "      <td>PRIJEM</td>\n",
       "      <td>VKLAD</td>\n",
       "      <td>1000.0</td>\n",
       "      <td>1000.0</td>\n",
       "      <td></td>\n",
       "      <td></td>\n",
       "      <td></td>\n",
       "    </tr>\n",
       "    <tr>\n",
       "      <th>1</th>\n",
       "      <td>5</td>\n",
       "      <td>1</td>\n",
       "      <td>950413</td>\n",
       "      <td>PRIJEM</td>\n",
       "      <td>PREVOD Z UCTU</td>\n",
       "      <td>3679.0</td>\n",
       "      <td>4679.0</td>\n",
       "      <td></td>\n",
       "      <td>AB</td>\n",
       "      <td>41403269</td>\n",
       "    </tr>\n",
       "    <tr>\n",
       "      <th>2</th>\n",
       "      <td>6</td>\n",
       "      <td>1</td>\n",
       "      <td>950513</td>\n",
       "      <td>PRIJEM</td>\n",
       "      <td>PREVOD Z UCTU</td>\n",
       "      <td>3679.0</td>\n",
       "      <td>20977.2</td>\n",
       "      <td></td>\n",
       "      <td>AB</td>\n",
       "      <td>41403269</td>\n",
       "    </tr>\n",
       "    <tr>\n",
       "      <th>3</th>\n",
       "      <td>7</td>\n",
       "      <td>1</td>\n",
       "      <td>950613</td>\n",
       "      <td>PRIJEM</td>\n",
       "      <td>PREVOD Z UCTU</td>\n",
       "      <td>3679.0</td>\n",
       "      <td>26835.2</td>\n",
       "      <td></td>\n",
       "      <td>AB</td>\n",
       "      <td>41403269</td>\n",
       "    </tr>\n",
       "    <tr>\n",
       "      <th>4</th>\n",
       "      <td>8</td>\n",
       "      <td>1</td>\n",
       "      <td>950713</td>\n",
       "      <td>PRIJEM</td>\n",
       "      <td>PREVOD Z UCTU</td>\n",
       "      <td>3679.0</td>\n",
       "      <td>30414.8</td>\n",
       "      <td></td>\n",
       "      <td>AB</td>\n",
       "      <td>41403269</td>\n",
       "    </tr>\n",
       "  </tbody>\n",
       "</table>\n",
       "</div>"
      ],
      "text/plain": [
       "   trans_id  account_id    date    type      operation  amount  balance  \\\n",
       "0         1           1  950324  PRIJEM          VKLAD  1000.0   1000.0   \n",
       "1         5           1  950413  PRIJEM  PREVOD Z UCTU  3679.0   4679.0   \n",
       "2         6           1  950513  PRIJEM  PREVOD Z UCTU  3679.0  20977.2   \n",
       "3         7           1  950613  PRIJEM  PREVOD Z UCTU  3679.0  26835.2   \n",
       "4         8           1  950713  PRIJEM  PREVOD Z UCTU  3679.0  30414.8   \n",
       "\n",
       "  k_symbol bank   account  \n",
       "0                          \n",
       "1            AB  41403269  \n",
       "2            AB  41403269  \n",
       "3            AB  41403269  \n",
       "4            AB  41403269  "
      ]
     },
     "metadata": {},
     "output_type": "display_data"
    }
   ],
   "source": [
    "display(trans.head())"
   ]
  },
  {
   "cell_type": "code",
   "execution_count": 130,
   "metadata": {},
   "outputs": [
    {
     "data": {
      "text/plain": [
       "(1056320, 10)"
      ]
     },
     "execution_count": 130,
     "metadata": {},
     "output_type": "execute_result"
    }
   ],
   "source": [
    "trans.shape"
   ]
  },
  {
   "cell_type": "markdown",
   "metadata": {},
   "source": [
    "The transaction data is quite large, with multiple transactions for each account id, spanning over 1 decade or so... The thing is i dont need that many transaction. The best approach is to see whether the client has made recent transaction or not. I will only keep the last transaction for each account id and drop all other transactions"
   ]
  },
  {
   "cell_type": "code",
   "execution_count": 131,
   "metadata": {},
   "outputs": [],
   "source": [
    "def Typeconvert(x):# First things first need to convert these unbearable tags to something understandable. For this i define \n",
    "    #Function that will replace the tags\n",
    "    if x == 'PRIJEM':\n",
    "        return 'Credit'\n",
    "    elif x == 'VYDAJ':\n",
    "        return 'Withdrawal'\n",
    "    else:\n",
    "        return np.NaN"
   ]
  },
  {
   "cell_type": "code",
   "execution_count": 132,
   "metadata": {},
   "outputs": [],
   "source": [
    "trans['type'] = trans['type'].map(Typeconvert)"
   ]
  },
  {
   "cell_type": "code",
   "execution_count": 133,
   "metadata": {},
   "outputs": [
    {
     "data": {
      "text/html": [
       "<div>\n",
       "<style scoped>\n",
       "    .dataframe tbody tr th:only-of-type {\n",
       "        vertical-align: middle;\n",
       "    }\n",
       "\n",
       "    .dataframe tbody tr th {\n",
       "        vertical-align: top;\n",
       "    }\n",
       "\n",
       "    .dataframe thead th {\n",
       "        text-align: right;\n",
       "    }\n",
       "</style>\n",
       "<table border=\"1\" class=\"dataframe\">\n",
       "  <thead>\n",
       "    <tr style=\"text-align: right;\">\n",
       "      <th></th>\n",
       "      <th>trans_id</th>\n",
       "      <th>account_id</th>\n",
       "      <th>date</th>\n",
       "      <th>type</th>\n",
       "      <th>operation</th>\n",
       "      <th>amount</th>\n",
       "      <th>balance</th>\n",
       "      <th>k_symbol</th>\n",
       "      <th>bank</th>\n",
       "      <th>account</th>\n",
       "    </tr>\n",
       "  </thead>\n",
       "  <tbody>\n",
       "    <tr>\n",
       "      <th>0</th>\n",
       "      <td>1</td>\n",
       "      <td>1</td>\n",
       "      <td>950324</td>\n",
       "      <td>Credit</td>\n",
       "      <td>VKLAD</td>\n",
       "      <td>1000.0</td>\n",
       "      <td>1000.0</td>\n",
       "      <td></td>\n",
       "      <td></td>\n",
       "      <td></td>\n",
       "    </tr>\n",
       "    <tr>\n",
       "      <th>1</th>\n",
       "      <td>5</td>\n",
       "      <td>1</td>\n",
       "      <td>950413</td>\n",
       "      <td>Credit</td>\n",
       "      <td>PREVOD Z UCTU</td>\n",
       "      <td>3679.0</td>\n",
       "      <td>4679.0</td>\n",
       "      <td></td>\n",
       "      <td>AB</td>\n",
       "      <td>41403269</td>\n",
       "    </tr>\n",
       "    <tr>\n",
       "      <th>2</th>\n",
       "      <td>6</td>\n",
       "      <td>1</td>\n",
       "      <td>950513</td>\n",
       "      <td>Credit</td>\n",
       "      <td>PREVOD Z UCTU</td>\n",
       "      <td>3679.0</td>\n",
       "      <td>20977.2</td>\n",
       "      <td></td>\n",
       "      <td>AB</td>\n",
       "      <td>41403269</td>\n",
       "    </tr>\n",
       "    <tr>\n",
       "      <th>3</th>\n",
       "      <td>7</td>\n",
       "      <td>1</td>\n",
       "      <td>950613</td>\n",
       "      <td>Credit</td>\n",
       "      <td>PREVOD Z UCTU</td>\n",
       "      <td>3679.0</td>\n",
       "      <td>26835.2</td>\n",
       "      <td></td>\n",
       "      <td>AB</td>\n",
       "      <td>41403269</td>\n",
       "    </tr>\n",
       "    <tr>\n",
       "      <th>4</th>\n",
       "      <td>8</td>\n",
       "      <td>1</td>\n",
       "      <td>950713</td>\n",
       "      <td>Credit</td>\n",
       "      <td>PREVOD Z UCTU</td>\n",
       "      <td>3679.0</td>\n",
       "      <td>30414.8</td>\n",
       "      <td></td>\n",
       "      <td>AB</td>\n",
       "      <td>41403269</td>\n",
       "    </tr>\n",
       "  </tbody>\n",
       "</table>\n",
       "</div>"
      ],
      "text/plain": [
       "   trans_id  account_id    date    type      operation  amount  balance  \\\n",
       "0         1           1  950324  Credit          VKLAD  1000.0   1000.0   \n",
       "1         5           1  950413  Credit  PREVOD Z UCTU  3679.0   4679.0   \n",
       "2         6           1  950513  Credit  PREVOD Z UCTU  3679.0  20977.2   \n",
       "3         7           1  950613  Credit  PREVOD Z UCTU  3679.0  26835.2   \n",
       "4         8           1  950713  Credit  PREVOD Z UCTU  3679.0  30414.8   \n",
       "\n",
       "  k_symbol bank   account  \n",
       "0                          \n",
       "1            AB  41403269  \n",
       "2            AB  41403269  \n",
       "3            AB  41403269  \n",
       "4            AB  41403269  "
      ]
     },
     "metadata": {},
     "output_type": "display_data"
    }
   ],
   "source": [
    "display(trans.head())"
   ]
  },
  {
   "cell_type": "code",
   "execution_count": 134,
   "metadata": {},
   "outputs": [],
   "source": [
    "def Changetransoper(x):# Need to convert the Operations to something better understandable\n",
    "    if x == 'VYBER KARTOU':\n",
    "            return 'Credit Card Withdraw'\n",
    "    elif x == 'VKLAD':\n",
    "        return 'Credit in cash'\n",
    "    elif x == 'PREVOD Z UCTU':\n",
    "        return 'Collection from another bank'\n",
    "    elif x == 'VYBER':\n",
    "        return 'Withdrawal in Cash'\n",
    "    elif x == 'PREVOD NA UCET':\n",
    "        return 'Remittance to another bank'    \n",
    "    else:\n",
    "        return np.NaN\n",
    "trans['operation'] = trans['operation'].map(Changetransoper)"
   ]
  },
  {
   "cell_type": "code",
   "execution_count": 135,
   "metadata": {},
   "outputs": [
    {
     "data": {
      "text/html": [
       "<div>\n",
       "<style scoped>\n",
       "    .dataframe tbody tr th:only-of-type {\n",
       "        vertical-align: middle;\n",
       "    }\n",
       "\n",
       "    .dataframe tbody tr th {\n",
       "        vertical-align: top;\n",
       "    }\n",
       "\n",
       "    .dataframe thead th {\n",
       "        text-align: right;\n",
       "    }\n",
       "</style>\n",
       "<table border=\"1\" class=\"dataframe\">\n",
       "  <thead>\n",
       "    <tr style=\"text-align: right;\">\n",
       "      <th></th>\n",
       "      <th>trans_id</th>\n",
       "      <th>account_id</th>\n",
       "      <th>date</th>\n",
       "      <th>type</th>\n",
       "      <th>operation</th>\n",
       "      <th>amount</th>\n",
       "      <th>balance</th>\n",
       "      <th>k_symbol</th>\n",
       "      <th>bank</th>\n",
       "      <th>account</th>\n",
       "    </tr>\n",
       "  </thead>\n",
       "  <tbody>\n",
       "    <tr>\n",
       "      <th>0</th>\n",
       "      <td>1</td>\n",
       "      <td>1</td>\n",
       "      <td>950324</td>\n",
       "      <td>Credit</td>\n",
       "      <td>Credit in cash</td>\n",
       "      <td>1000.0</td>\n",
       "      <td>1000.0</td>\n",
       "      <td></td>\n",
       "      <td></td>\n",
       "      <td></td>\n",
       "    </tr>\n",
       "    <tr>\n",
       "      <th>1</th>\n",
       "      <td>5</td>\n",
       "      <td>1</td>\n",
       "      <td>950413</td>\n",
       "      <td>Credit</td>\n",
       "      <td>Collection from another bank</td>\n",
       "      <td>3679.0</td>\n",
       "      <td>4679.0</td>\n",
       "      <td></td>\n",
       "      <td>AB</td>\n",
       "      <td>41403269</td>\n",
       "    </tr>\n",
       "    <tr>\n",
       "      <th>2</th>\n",
       "      <td>6</td>\n",
       "      <td>1</td>\n",
       "      <td>950513</td>\n",
       "      <td>Credit</td>\n",
       "      <td>Collection from another bank</td>\n",
       "      <td>3679.0</td>\n",
       "      <td>20977.2</td>\n",
       "      <td></td>\n",
       "      <td>AB</td>\n",
       "      <td>41403269</td>\n",
       "    </tr>\n",
       "    <tr>\n",
       "      <th>3</th>\n",
       "      <td>7</td>\n",
       "      <td>1</td>\n",
       "      <td>950613</td>\n",
       "      <td>Credit</td>\n",
       "      <td>Collection from another bank</td>\n",
       "      <td>3679.0</td>\n",
       "      <td>26835.2</td>\n",
       "      <td></td>\n",
       "      <td>AB</td>\n",
       "      <td>41403269</td>\n",
       "    </tr>\n",
       "    <tr>\n",
       "      <th>4</th>\n",
       "      <td>8</td>\n",
       "      <td>1</td>\n",
       "      <td>950713</td>\n",
       "      <td>Credit</td>\n",
       "      <td>Collection from another bank</td>\n",
       "      <td>3679.0</td>\n",
       "      <td>30414.8</td>\n",
       "      <td></td>\n",
       "      <td>AB</td>\n",
       "      <td>41403269</td>\n",
       "    </tr>\n",
       "  </tbody>\n",
       "</table>\n",
       "</div>"
      ],
      "text/plain": [
       "   trans_id  account_id    date    type                     operation  amount  \\\n",
       "0         1           1  950324  Credit                Credit in cash  1000.0   \n",
       "1         5           1  950413  Credit  Collection from another bank  3679.0   \n",
       "2         6           1  950513  Credit  Collection from another bank  3679.0   \n",
       "3         7           1  950613  Credit  Collection from another bank  3679.0   \n",
       "4         8           1  950713  Credit  Collection from another bank  3679.0   \n",
       "\n",
       "   balance k_symbol bank   account  \n",
       "0   1000.0                          \n",
       "1   4679.0            AB  41403269  \n",
       "2  20977.2            AB  41403269  \n",
       "3  26835.2            AB  41403269  \n",
       "4  30414.8            AB  41403269  "
      ]
     },
     "metadata": {},
     "output_type": "display_data"
    }
   ],
   "source": [
    "display(trans.head())"
   ]
  },
  {
   "cell_type": "code",
   "execution_count": 136,
   "metadata": {},
   "outputs": [],
   "source": [
    "# Also need to convert K_symbol values to something more understandable\n",
    "def Ksymbolconvertion(x):\n",
    "    if x == 'POJISTNE':\n",
    "        return 'Insurance payment'\n",
    "    elif x == 'SLUZBY':\n",
    "        return 'Payment for statement'\n",
    "    elif x == 'UROK':\n",
    "        return 'Interest credited'\n",
    "    elif x == 'SANKC. UROK':\n",
    "        return 'Sanction interest if negative balance'\n",
    "    elif x == 'SIPO':\n",
    "        return 'Household'\n",
    "    elif x == 'DUCHOD':\n",
    "        return 'Old-age pension'  \n",
    "    elif x == 'UVER':\n",
    "        return 'Loan payment'      \n",
    "    else:\n",
    "        return np.NaN\n",
    "trans['k_symbol'] = trans['k_symbol'].map(Ksymbolconvertion)"
   ]
  },
  {
   "cell_type": "code",
   "execution_count": 137,
   "metadata": {},
   "outputs": [
    {
     "data": {
      "text/html": [
       "<div>\n",
       "<style scoped>\n",
       "    .dataframe tbody tr th:only-of-type {\n",
       "        vertical-align: middle;\n",
       "    }\n",
       "\n",
       "    .dataframe tbody tr th {\n",
       "        vertical-align: top;\n",
       "    }\n",
       "\n",
       "    .dataframe thead th {\n",
       "        text-align: right;\n",
       "    }\n",
       "</style>\n",
       "<table border=\"1\" class=\"dataframe\">\n",
       "  <thead>\n",
       "    <tr style=\"text-align: right;\">\n",
       "      <th></th>\n",
       "      <th>trans_id</th>\n",
       "      <th>account_id</th>\n",
       "      <th>date</th>\n",
       "      <th>type</th>\n",
       "      <th>operation</th>\n",
       "      <th>amount</th>\n",
       "      <th>balance</th>\n",
       "      <th>k_symbol</th>\n",
       "      <th>bank</th>\n",
       "      <th>account</th>\n",
       "    </tr>\n",
       "  </thead>\n",
       "  <tbody>\n",
       "    <tr>\n",
       "      <th>0</th>\n",
       "      <td>1</td>\n",
       "      <td>1</td>\n",
       "      <td>950324</td>\n",
       "      <td>Credit</td>\n",
       "      <td>Credit in cash</td>\n",
       "      <td>1000.0</td>\n",
       "      <td>1000.0</td>\n",
       "      <td>NaN</td>\n",
       "      <td></td>\n",
       "      <td></td>\n",
       "    </tr>\n",
       "    <tr>\n",
       "      <th>1</th>\n",
       "      <td>5</td>\n",
       "      <td>1</td>\n",
       "      <td>950413</td>\n",
       "      <td>Credit</td>\n",
       "      <td>Collection from another bank</td>\n",
       "      <td>3679.0</td>\n",
       "      <td>4679.0</td>\n",
       "      <td>NaN</td>\n",
       "      <td>AB</td>\n",
       "      <td>41403269</td>\n",
       "    </tr>\n",
       "    <tr>\n",
       "      <th>2</th>\n",
       "      <td>6</td>\n",
       "      <td>1</td>\n",
       "      <td>950513</td>\n",
       "      <td>Credit</td>\n",
       "      <td>Collection from another bank</td>\n",
       "      <td>3679.0</td>\n",
       "      <td>20977.2</td>\n",
       "      <td>NaN</td>\n",
       "      <td>AB</td>\n",
       "      <td>41403269</td>\n",
       "    </tr>\n",
       "    <tr>\n",
       "      <th>3</th>\n",
       "      <td>7</td>\n",
       "      <td>1</td>\n",
       "      <td>950613</td>\n",
       "      <td>Credit</td>\n",
       "      <td>Collection from another bank</td>\n",
       "      <td>3679.0</td>\n",
       "      <td>26835.2</td>\n",
       "      <td>NaN</td>\n",
       "      <td>AB</td>\n",
       "      <td>41403269</td>\n",
       "    </tr>\n",
       "    <tr>\n",
       "      <th>4</th>\n",
       "      <td>8</td>\n",
       "      <td>1</td>\n",
       "      <td>950713</td>\n",
       "      <td>Credit</td>\n",
       "      <td>Collection from another bank</td>\n",
       "      <td>3679.0</td>\n",
       "      <td>30414.8</td>\n",
       "      <td>NaN</td>\n",
       "      <td>AB</td>\n",
       "      <td>41403269</td>\n",
       "    </tr>\n",
       "  </tbody>\n",
       "</table>\n",
       "</div>"
      ],
      "text/plain": [
       "   trans_id  account_id    date    type                     operation  amount  \\\n",
       "0         1           1  950324  Credit                Credit in cash  1000.0   \n",
       "1         5           1  950413  Credit  Collection from another bank  3679.0   \n",
       "2         6           1  950513  Credit  Collection from another bank  3679.0   \n",
       "3         7           1  950613  Credit  Collection from another bank  3679.0   \n",
       "4         8           1  950713  Credit  Collection from another bank  3679.0   \n",
       "\n",
       "   balance k_symbol bank   account  \n",
       "0   1000.0      NaN                 \n",
       "1   4679.0      NaN   AB  41403269  \n",
       "2  20977.2      NaN   AB  41403269  \n",
       "3  26835.2      NaN   AB  41403269  \n",
       "4  30414.8      NaN   AB  41403269  "
      ]
     },
     "metadata": {},
     "output_type": "display_data"
    }
   ],
   "source": [
    "display(trans.head())"
   ]
  },
  {
   "cell_type": "code",
   "execution_count": 138,
   "metadata": {},
   "outputs": [
    {
     "data": {
      "text/plain": [
       "1051820"
      ]
     },
     "execution_count": 138,
     "metadata": {},
     "output_type": "execute_result"
    }
   ],
   "source": [
    "trans.duplicated('account_id').sum()# As we can see that most ar duplicated values, as each account may have 100's of \n",
    "#transactions over the years.. So i will only keep the last transaction which will contain last account balance and credited \n",
    "#amount"
   ]
  },
  {
   "cell_type": "code",
   "execution_count": 139,
   "metadata": {},
   "outputs": [],
   "source": [
    "trans.drop_duplicates(['account_id'],keep='last',inplace=True)# dropping all duplicates only keeping the last one\n"
   ]
  },
  {
   "cell_type": "code",
   "execution_count": 140,
   "metadata": {},
   "outputs": [],
   "source": [
    "trans.sort_values('account_id',inplace=True)"
   ]
  },
  {
   "cell_type": "markdown",
   "metadata": {},
   "source": [
    "I'm also going to drop the partner bank,date and partner account columns since it has mostly null values and again i dont need the transaction dates"
   ]
  },
  {
   "cell_type": "code",
   "execution_count": 141,
   "metadata": {},
   "outputs": [],
   "source": [
    "trans.drop(['bank','account','date'], axis=1, inplace=True)"
   ]
  },
  {
   "cell_type": "code",
   "execution_count": 142,
   "metadata": {},
   "outputs": [
    {
     "data": {
      "text/html": [
       "<div>\n",
       "<style scoped>\n",
       "    .dataframe tbody tr th:only-of-type {\n",
       "        vertical-align: middle;\n",
       "    }\n",
       "\n",
       "    .dataframe tbody tr th {\n",
       "        vertical-align: top;\n",
       "    }\n",
       "\n",
       "    .dataframe thead th {\n",
       "        text-align: right;\n",
       "    }\n",
       "</style>\n",
       "<table border=\"1\" class=\"dataframe\">\n",
       "  <thead>\n",
       "    <tr style=\"text-align: right;\">\n",
       "      <th></th>\n",
       "      <th>trans_id</th>\n",
       "      <th>account_id</th>\n",
       "      <th>type</th>\n",
       "      <th>operation</th>\n",
       "      <th>amount</th>\n",
       "      <th>balance</th>\n",
       "      <th>k_symbol</th>\n",
       "    </tr>\n",
       "  </thead>\n",
       "  <tbody>\n",
       "    <tr>\n",
       "      <th>919026</th>\n",
       "      <td>3530482</td>\n",
       "      <td>1</td>\n",
       "      <td>Credit</td>\n",
       "      <td>NaN</td>\n",
       "      <td>52.6</td>\n",
       "      <td>13466.5</td>\n",
       "      <td>Interest credited</td>\n",
       "    </tr>\n",
       "    <tr>\n",
       "      <th>919096</th>\n",
       "      <td>3530552</td>\n",
       "      <td>2</td>\n",
       "      <td>Credit</td>\n",
       "      <td>NaN</td>\n",
       "      <td>156.7</td>\n",
       "      <td>42628.1</td>\n",
       "      <td>Interest credited</td>\n",
       "    </tr>\n",
       "    <tr>\n",
       "      <th>919114</th>\n",
       "      <td>3530570</td>\n",
       "      <td>3</td>\n",
       "      <td>Credit</td>\n",
       "      <td>NaN</td>\n",
       "      <td>209.6</td>\n",
       "      <td>51096.1</td>\n",
       "      <td>Interest credited</td>\n",
       "    </tr>\n",
       "    <tr>\n",
       "      <th>919144</th>\n",
       "      <td>3530600</td>\n",
       "      <td>4</td>\n",
       "      <td>Credit</td>\n",
       "      <td>NaN</td>\n",
       "      <td>135.7</td>\n",
       "      <td>33720.7</td>\n",
       "      <td>Interest credited</td>\n",
       "    </tr>\n",
       "    <tr>\n",
       "      <th>919159</th>\n",
       "      <td>3530615</td>\n",
       "      <td>5</td>\n",
       "      <td>Credit</td>\n",
       "      <td>NaN</td>\n",
       "      <td>122.1</td>\n",
       "      <td>28088.3</td>\n",
       "      <td>Interest credited</td>\n",
       "    </tr>\n",
       "  </tbody>\n",
       "</table>\n",
       "</div>"
      ],
      "text/plain": [
       "        trans_id  account_id    type operation  amount  balance  \\\n",
       "919026   3530482           1  Credit       NaN    52.6  13466.5   \n",
       "919096   3530552           2  Credit       NaN   156.7  42628.1   \n",
       "919114   3530570           3  Credit       NaN   209.6  51096.1   \n",
       "919144   3530600           4  Credit       NaN   135.7  33720.7   \n",
       "919159   3530615           5  Credit       NaN   122.1  28088.3   \n",
       "\n",
       "                 k_symbol  \n",
       "919026  Interest credited  \n",
       "919096  Interest credited  \n",
       "919114  Interest credited  \n",
       "919144  Interest credited  \n",
       "919159  Interest credited  "
      ]
     },
     "metadata": {},
     "output_type": "display_data"
    }
   ],
   "source": [
    "display(trans.head())"
   ]
  },
  {
   "cell_type": "code",
   "execution_count": 143,
   "metadata": {},
   "outputs": [
    {
     "data": {
      "text/plain": [
       "(4500, 7)"
      ]
     },
     "execution_count": 143,
     "metadata": {},
     "output_type": "execute_result"
    }
   ],
   "source": [
    "trans.shape"
   ]
  },
  {
   "cell_type": "markdown",
   "metadata": {},
   "source": [
    "I'm going to merge the transaction data to account data now.. But before that i need to check whether both tables have all account id's accounted for. For this i will use Numpy isin function to check both tables"
   ]
  },
  {
   "cell_type": "code",
   "execution_count": 144,
   "metadata": {},
   "outputs": [
    {
     "name": "stdout",
     "output_type": "stream",
     "text": [
      "Number of Missing account id is0\n"
     ]
    }
   ],
   "source": [
    "CheckMissing = np.isin(Account['account_id'], trans['account_id'], invert=True).sum()\n",
    "print('Number of Missing account id is{}'.format(CheckMissing))\n"
   ]
  },
  {
   "cell_type": "code",
   "execution_count": 145,
   "metadata": {},
   "outputs": [],
   "source": [
    "Account = pd.merge(Account,trans, how='left', on=['account_id'])# Merging trans with Account table"
   ]
  },
  {
   "cell_type": "code",
   "execution_count": 146,
   "metadata": {},
   "outputs": [
    {
     "data": {
      "text/plain": [
       "(5369, 16)"
      ]
     },
     "execution_count": 146,
     "metadata": {},
     "output_type": "execute_result"
    }
   ],
   "source": [
    "Account.shape"
   ]
  },
  {
   "cell_type": "code",
   "execution_count": 147,
   "metadata": {},
   "outputs": [
    {
     "data": {
      "text/plain": [
       "account_id        0\n",
       "district_id       0\n",
       "frequency         0\n",
       "date              0\n",
       "disp_id           0\n",
       "Client            0\n",
       "type_x            0\n",
       "card_id        4477\n",
       "Card_Type         0\n",
       "issued            0\n",
       "trans_id          0\n",
       "type_y            0\n",
       "operation      5259\n",
       "amount            0\n",
       "balance           0\n",
       "k_symbol         57\n",
       "dtype: int64"
      ]
     },
     "execution_count": 147,
     "metadata": {},
     "output_type": "execute_result"
    }
   ],
   "source": [
    "Account.isna().sum()"
   ]
  },
  {
   "cell_type": "markdown",
   "metadata": {},
   "source": [
    "Now lets check the loan table and merge is aswell"
   ]
  },
  {
   "cell_type": "code",
   "execution_count": 148,
   "metadata": {},
   "outputs": [
    {
     "data": {
      "text/html": [
       "<div>\n",
       "<style scoped>\n",
       "    .dataframe tbody tr th:only-of-type {\n",
       "        vertical-align: middle;\n",
       "    }\n",
       "\n",
       "    .dataframe tbody tr th {\n",
       "        vertical-align: top;\n",
       "    }\n",
       "\n",
       "    .dataframe thead th {\n",
       "        text-align: right;\n",
       "    }\n",
       "</style>\n",
       "<table border=\"1\" class=\"dataframe\">\n",
       "  <thead>\n",
       "    <tr style=\"text-align: right;\">\n",
       "      <th></th>\n",
       "      <th>loan_id</th>\n",
       "      <th>account_id</th>\n",
       "      <th>date</th>\n",
       "      <th>amount</th>\n",
       "      <th>duration</th>\n",
       "      <th>payments</th>\n",
       "      <th>status</th>\n",
       "    </tr>\n",
       "  </thead>\n",
       "  <tbody>\n",
       "    <tr>\n",
       "      <th>0</th>\n",
       "      <td>4959</td>\n",
       "      <td>2</td>\n",
       "      <td>940105</td>\n",
       "      <td>80952.0</td>\n",
       "      <td>24</td>\n",
       "      <td>3373</td>\n",
       "      <td>A</td>\n",
       "    </tr>\n",
       "    <tr>\n",
       "      <th>1</th>\n",
       "      <td>4961</td>\n",
       "      <td>19</td>\n",
       "      <td>960429</td>\n",
       "      <td>30276.0</td>\n",
       "      <td>12</td>\n",
       "      <td>2523</td>\n",
       "      <td>B</td>\n",
       "    </tr>\n",
       "    <tr>\n",
       "      <th>2</th>\n",
       "      <td>4962</td>\n",
       "      <td>25</td>\n",
       "      <td>971208</td>\n",
       "      <td>30276.0</td>\n",
       "      <td>12</td>\n",
       "      <td>2523</td>\n",
       "      <td>A</td>\n",
       "    </tr>\n",
       "    <tr>\n",
       "      <th>3</th>\n",
       "      <td>4967</td>\n",
       "      <td>37</td>\n",
       "      <td>981014</td>\n",
       "      <td>318480.0</td>\n",
       "      <td>60</td>\n",
       "      <td>5308</td>\n",
       "      <td>D</td>\n",
       "    </tr>\n",
       "    <tr>\n",
       "      <th>4</th>\n",
       "      <td>4968</td>\n",
       "      <td>38</td>\n",
       "      <td>980419</td>\n",
       "      <td>110736.0</td>\n",
       "      <td>48</td>\n",
       "      <td>2307</td>\n",
       "      <td>C</td>\n",
       "    </tr>\n",
       "  </tbody>\n",
       "</table>\n",
       "</div>"
      ],
      "text/plain": [
       "   loan_id  account_id    date    amount  duration  payments status\n",
       "0     4959           2  940105   80952.0        24      3373      A\n",
       "1     4961          19  960429   30276.0        12      2523      B\n",
       "2     4962          25  971208   30276.0        12      2523      A\n",
       "3     4967          37  981014  318480.0        60      5308      D\n",
       "4     4968          38  980419  110736.0        48      2307      C"
      ]
     },
     "metadata": {},
     "output_type": "display_data"
    }
   ],
   "source": [
    "display(loan.head())"
   ]
  },
  {
   "cell_type": "code",
   "execution_count": 149,
   "metadata": {},
   "outputs": [
    {
     "data": {
      "text/plain": [
       "(682, 7)"
      ]
     },
     "execution_count": 149,
     "metadata": {},
     "output_type": "execute_result"
    }
   ],
   "source": [
    "loan.shape"
   ]
  },
  {
   "cell_type": "markdown",
   "metadata": {},
   "source": [
    "It has only 682 observations which means not all accounts opted for loans"
   ]
  },
  {
   "cell_type": "code",
   "execution_count": 150,
   "metadata": {},
   "outputs": [
    {
     "name": "stdout",
     "output_type": "stream",
     "text": [
      "Number of Missing account id is4542\n"
     ]
    }
   ],
   "source": [
    "CheckMissing = np.isin(Account['account_id'], loan['account_id'], invert=True).sum()\n",
    "print('Number of Missing account id is{}'.format(CheckMissing))"
   ]
  },
  {
   "cell_type": "code",
   "execution_count": 151,
   "metadata": {},
   "outputs": [
    {
     "data": {
      "text/plain": [
       "loan_id       0\n",
       "account_id    0\n",
       "date          0\n",
       "amount        0\n",
       "duration      0\n",
       "payments      0\n",
       "status        0\n",
       "dtype: int64"
      ]
     },
     "execution_count": 151,
     "metadata": {},
     "output_type": "execute_result"
    }
   ],
   "source": [
    "loan.isna().sum()"
   ]
  },
  {
   "cell_type": "markdown",
   "metadata": {},
   "source": [
    "Ok so i have no missing values in Loan table.. But the issue is that i only have 682 onservations for loans.. that too is divided into 4 categories of loan status. this means very less data to train loan default pediction model.. if i add the unkowns it will become biased.. But the thing is since i am going for a loan default prediction model. I only require those individuals who have taken loans. So i will keep the loan table as my main Table, others i dont need. First i will join all other tables to keep everything at hand. Lets handle the loan table merger for later"
   ]
  },
  {
   "cell_type": "markdown",
   "metadata": {},
   "source": [
    "Lets merge the client and account table first.. Will merge the loan table later"
   ]
  },
  {
   "cell_type": "code",
   "execution_count": 152,
   "metadata": {},
   "outputs": [],
   "source": [
    "ClientsBranches = pd.merge(ClientsBranches,Account, how='left',on='Client')# Merging Clients with Account table"
   ]
  },
  {
   "cell_type": "code",
   "execution_count": 153,
   "metadata": {},
   "outputs": [
    {
     "data": {
      "text/plain": [
       "(5369, 34)"
      ]
     },
     "execution_count": 153,
     "metadata": {},
     "output_type": "execute_result"
    }
   ],
   "source": [
    "ClientsBranches.shape"
   ]
  },
  {
   "cell_type": "code",
   "execution_count": 154,
   "metadata": {},
   "outputs": [
    {
     "data": {
      "text/html": [
       "<div>\n",
       "<style scoped>\n",
       "    .dataframe tbody tr th:only-of-type {\n",
       "        vertical-align: middle;\n",
       "    }\n",
       "\n",
       "    .dataframe tbody tr th {\n",
       "        vertical-align: top;\n",
       "    }\n",
       "\n",
       "    .dataframe thead th {\n",
       "        text-align: right;\n",
       "    }\n",
       "</style>\n",
       "<table border=\"1\" class=\"dataframe\">\n",
       "  <thead>\n",
       "    <tr style=\"text-align: right;\">\n",
       "      <th></th>\n",
       "      <th>Client</th>\n",
       "      <th>district_id_x</th>\n",
       "      <th>Gender</th>\n",
       "      <th>DOB</th>\n",
       "      <th>Age</th>\n",
       "      <th>AgeGroup</th>\n",
       "      <th>district_name</th>\n",
       "      <th>Region</th>\n",
       "      <th>A4</th>\n",
       "      <th>A5</th>\n",
       "      <th>...</th>\n",
       "      <th>type_x</th>\n",
       "      <th>card_id</th>\n",
       "      <th>Card_Type</th>\n",
       "      <th>issued</th>\n",
       "      <th>trans_id</th>\n",
       "      <th>type_y</th>\n",
       "      <th>operation</th>\n",
       "      <th>amount</th>\n",
       "      <th>balance</th>\n",
       "      <th>k_symbol</th>\n",
       "    </tr>\n",
       "  </thead>\n",
       "  <tbody>\n",
       "    <tr>\n",
       "      <th>0</th>\n",
       "      <td>1</td>\n",
       "      <td>18</td>\n",
       "      <td>Female</td>\n",
       "      <td>13-12-1970</td>\n",
       "      <td>48</td>\n",
       "      <td>35-65</td>\n",
       "      <td>Pisek</td>\n",
       "      <td>south Bohemia</td>\n",
       "      <td>70699</td>\n",
       "      <td>60</td>\n",
       "      <td>...</td>\n",
       "      <td>OWNER</td>\n",
       "      <td>NaN</td>\n",
       "      <td>Notissued</td>\n",
       "      <td>0</td>\n",
       "      <td>3530482</td>\n",
       "      <td>Credit</td>\n",
       "      <td>NaN</td>\n",
       "      <td>52.6</td>\n",
       "      <td>13466.5</td>\n",
       "      <td>Interest credited</td>\n",
       "    </tr>\n",
       "    <tr>\n",
       "      <th>1</th>\n",
       "      <td>2</td>\n",
       "      <td>1</td>\n",
       "      <td>Male</td>\n",
       "      <td>04-02-1945</td>\n",
       "      <td>74</td>\n",
       "      <td>65+</td>\n",
       "      <td>Hl.m. Praha</td>\n",
       "      <td>Prague</td>\n",
       "      <td>1204953</td>\n",
       "      <td>0</td>\n",
       "      <td>...</td>\n",
       "      <td>OWNER</td>\n",
       "      <td>NaN</td>\n",
       "      <td>Notissued</td>\n",
       "      <td>0</td>\n",
       "      <td>3530552</td>\n",
       "      <td>Credit</td>\n",
       "      <td>NaN</td>\n",
       "      <td>156.7</td>\n",
       "      <td>42628.1</td>\n",
       "      <td>Interest credited</td>\n",
       "    </tr>\n",
       "    <tr>\n",
       "      <th>2</th>\n",
       "      <td>3</td>\n",
       "      <td>1</td>\n",
       "      <td>Female</td>\n",
       "      <td>09-10-1940</td>\n",
       "      <td>78</td>\n",
       "      <td>65+</td>\n",
       "      <td>Hl.m. Praha</td>\n",
       "      <td>Prague</td>\n",
       "      <td>1204953</td>\n",
       "      <td>0</td>\n",
       "      <td>...</td>\n",
       "      <td>DISPONENT</td>\n",
       "      <td>NaN</td>\n",
       "      <td>Notissued</td>\n",
       "      <td>0</td>\n",
       "      <td>3530552</td>\n",
       "      <td>Credit</td>\n",
       "      <td>NaN</td>\n",
       "      <td>156.7</td>\n",
       "      <td>42628.1</td>\n",
       "      <td>Interest credited</td>\n",
       "    </tr>\n",
       "    <tr>\n",
       "      <th>3</th>\n",
       "      <td>4</td>\n",
       "      <td>5</td>\n",
       "      <td>Male</td>\n",
       "      <td>01-12-1956</td>\n",
       "      <td>62</td>\n",
       "      <td>35-65</td>\n",
       "      <td>Kolin</td>\n",
       "      <td>central Bohemia</td>\n",
       "      <td>95616</td>\n",
       "      <td>65</td>\n",
       "      <td>...</td>\n",
       "      <td>OWNER</td>\n",
       "      <td>NaN</td>\n",
       "      <td>Notissued</td>\n",
       "      <td>0</td>\n",
       "      <td>3530570</td>\n",
       "      <td>Credit</td>\n",
       "      <td>NaN</td>\n",
       "      <td>209.6</td>\n",
       "      <td>51096.1</td>\n",
       "      <td>Interest credited</td>\n",
       "    </tr>\n",
       "    <tr>\n",
       "      <th>4</th>\n",
       "      <td>5</td>\n",
       "      <td>5</td>\n",
       "      <td>Female</td>\n",
       "      <td>03-07-1960</td>\n",
       "      <td>58</td>\n",
       "      <td>35-65</td>\n",
       "      <td>Kolin</td>\n",
       "      <td>central Bohemia</td>\n",
       "      <td>95616</td>\n",
       "      <td>65</td>\n",
       "      <td>...</td>\n",
       "      <td>DISPONENT</td>\n",
       "      <td>NaN</td>\n",
       "      <td>Notissued</td>\n",
       "      <td>0</td>\n",
       "      <td>3530570</td>\n",
       "      <td>Credit</td>\n",
       "      <td>NaN</td>\n",
       "      <td>209.6</td>\n",
       "      <td>51096.1</td>\n",
       "      <td>Interest credited</td>\n",
       "    </tr>\n",
       "  </tbody>\n",
       "</table>\n",
       "<p>5 rows × 34 columns</p>\n",
       "</div>"
      ],
      "text/plain": [
       "   Client  district_id_x  Gender         DOB  Age AgeGroup district_name  \\\n",
       "0       1             18  Female  13-12-1970   48    35-65         Pisek   \n",
       "1       2              1    Male  04-02-1945   74      65+   Hl.m. Praha   \n",
       "2       3              1  Female  09-10-1940   78      65+   Hl.m. Praha   \n",
       "3       4              5    Male  01-12-1956   62    35-65         Kolin   \n",
       "4       5              5  Female  03-07-1960   58    35-65         Kolin   \n",
       "\n",
       "            Region       A4  A5        ...             type_x  card_id  \\\n",
       "0    south Bohemia    70699  60        ...              OWNER      NaN   \n",
       "1           Prague  1204953   0        ...              OWNER      NaN   \n",
       "2           Prague  1204953   0        ...          DISPONENT      NaN   \n",
       "3  central Bohemia    95616  65        ...              OWNER      NaN   \n",
       "4  central Bohemia    95616  65        ...          DISPONENT      NaN   \n",
       "\n",
       "   Card_Type  issued  trans_id  type_y  operation  amount  balance  \\\n",
       "0  Notissued       0   3530482  Credit        NaN    52.6  13466.5   \n",
       "1  Notissued       0   3530552  Credit        NaN   156.7  42628.1   \n",
       "2  Notissued       0   3530552  Credit        NaN   156.7  42628.1   \n",
       "3  Notissued       0   3530570  Credit        NaN   209.6  51096.1   \n",
       "4  Notissued       0   3530570  Credit        NaN   209.6  51096.1   \n",
       "\n",
       "            k_symbol  \n",
       "0  Interest credited  \n",
       "1  Interest credited  \n",
       "2  Interest credited  \n",
       "3  Interest credited  \n",
       "4  Interest credited  \n",
       "\n",
       "[5 rows x 34 columns]"
      ]
     },
     "metadata": {},
     "output_type": "display_data"
    }
   ],
   "source": [
    "display(ClientsBranches.head())"
   ]
  },
  {
   "cell_type": "markdown",
   "metadata": {},
   "source": [
    "### b. Credit Cards\n",
    "### i. Which card types are popular among the various client categories (gender/age group/region)?\n"
   ]
  },
  {
   "cell_type": "code",
   "execution_count": 247,
   "metadata": {},
   "outputs": [
    {
     "data": {
      "text/plain": [
       "<matplotlib.axes._subplots.AxesSubplot at 0x22ca9925438>"
      ]
     },
     "execution_count": 247,
     "metadata": {},
     "output_type": "execute_result"
    },
    {
     "data": {
      "image/png": "[encoded data removed]",
      "text/plain": [
       "<Figure size 432x288 with 1 Axes>"
      ]
     },
     "metadata": {
      "needs_background": "light"
     },
     "output_type": "display_data"
    }
   ],
   "source": [
    "sns.barplot(x=\"Card_Type\",y=\"Client\",data=ClientsBranches,hue='Gender',palette='Set1')"
   ]
  },
  {
   "cell_type": "markdown",
   "metadata": {},
   "source": [
    "So the Card Types that are popular among Males, and female clients do vary.. If we ignore those accounts that have no card issued to them. We can see that More Male clients have opted for Gold Type card.. While there are more female clients in the junior category.. Overall the classic category has similar number of males and females"
   ]
  },
  {
   "cell_type": "markdown",
   "metadata": {},
   "source": [
    "#### Lets Plot Card Types with regards to Age group"
   ]
  },
  {
   "cell_type": "code",
   "execution_count": 156,
   "metadata": {},
   "outputs": [
    {
     "data": {
      "text/plain": [
       "<matplotlib.axes._subplots.AxesSubplot at 0x22c8c2382b0>"
      ]
     },
     "execution_count": 156,
     "metadata": {},
     "output_type": "execute_result"
    },
    {
     "data": {
      "image/png": "[encoded data removed]",
      "text/plain": [
       "<Figure size 432x288 with 1 Axes>"
      ]
     },
     "metadata": {
      "needs_background": "light"
     },
     "output_type": "display_data"
    }
   ],
   "source": [
    "sns.barplot(x=\"Card_Type\",y=\"Client\",data=ClientsBranches,hue='AgeGroup',palette='Set1')"
   ]
  },
  {
   "cell_type": "markdown",
   "metadata": {},
   "source": [
    "This is interesting.. Because it proved to me that i may have made a mistake...The data i think is quite old, whereas i calculated the age of clients with respect to current date.. Anyways, if we look at the data we can see that clients of ages 65+ prefer the Junior card type categories more, Whereas the same group of clients have opted for gold and classic type as well"
   ]
  },
  {
   "cell_type": "markdown",
   "metadata": {},
   "source": [
    "#### Let's plot card type against region"
   ]
  },
  {
   "cell_type": "code",
   "execution_count": 157,
   "metadata": {},
   "outputs": [
    {
     "data": {
      "text/plain": [
       "<matplotlib.axes._subplots.AxesSubplot at 0x22c9f3f0518>"
      ]
     },
     "execution_count": 157,
     "metadata": {},
     "output_type": "execute_result"
    },
    {
     "data": {
      "image/png": "[encoded data removed]",
      "text/plain": [
       "<Figure size 432x288 with 1 Axes>"
      ]
     },
     "metadata": {
      "needs_background": "light"
     },
     "output_type": "display_data"
    }
   ],
   "source": [
    "sns.barplot(x=\"Card_Type\",y=\"Client\",data=ClientsBranches,hue='Region',palette='Set1')"
   ]
  },
  {
   "cell_type": "markdown",
   "metadata": {},
   "source": [
    "We get alot of information from this plot, as we can see that the Clients from South_Bohemia are greater in number for those who opted for Gold Card.. Rich people maybe.. Same can be seen for South Moravia..Maybe more enterpreneurs live in these two regions. Where as the other two categorues have more or less equal distribution"
   ]
  },
  {
   "cell_type": "markdown",
   "metadata": {},
   "source": [
    "### ii. What is the trend of card issuance at the various branches?"
   ]
  },
  {
   "cell_type": "code",
   "execution_count": 158,
   "metadata": {},
   "outputs": [],
   "source": [
    "clarity_color_table = pd.crosstab(index=ClientsBranches[\"district_name\"], \n",
    "                          columns=ClientsBranches[\"issued\"])\n",
    "\n",
    "#Damn too many districts,quite a messy plot"
   ]
  },
  {
   "cell_type": "code",
   "execution_count": 241,
   "metadata": {},
   "outputs": [
    {
     "data": {
      "text/plain": [
       "<matplotlib.axes._subplots.AxesSubplot at 0x22ca8b5a128>"
      ]
     },
     "execution_count": 241,
     "metadata": {},
     "output_type": "execute_result"
    },
    {
     "data": {
      "image/png": "[encoded data removed]",
      "text/plain": [
       "<Figure size 1296x576 with 1 Axes>"
      ]
     },
     "metadata": {
      "needs_background": "light"
     },
     "output_type": "display_data"
    }
   ],
   "source": [
    "clarity_color_table.plot(kind=\"bar\", \n",
    "                 figsize=(18,8),\n",
    "                 stacked=True)"
   ]
  },
  {
   "cell_type": "markdown",
   "metadata": {},
   "source": [
    "There's too many districts to plot in one graphs..another issue is Most people have not opted for card anyways"
   ]
  },
  {
   "cell_type": "markdown",
   "metadata": {},
   "source": [
    "### Loans\n"
   ]
  },
  {
   "cell_type": "markdown",
   "metadata": {},
   "source": [
    "##### Lets merge the loan table with the rest of the data"
   ]
  },
  {
   "cell_type": "code",
   "execution_count": 227,
   "metadata": {},
   "outputs": [],
   "source": [
    "loan = pd.merge(loan,ClientsBranches, how='left', on=['account_id'])# Merging trans with Account table"
   ]
  },
  {
   "cell_type": "code",
   "execution_count": 228,
   "metadata": {},
   "outputs": [
    {
     "data": {
      "text/html": [
       "<div>\n",
       "<style scoped>\n",
       "    .dataframe tbody tr th:only-of-type {\n",
       "        vertical-align: middle;\n",
       "    }\n",
       "\n",
       "    .dataframe tbody tr th {\n",
       "        vertical-align: top;\n",
       "    }\n",
       "\n",
       "    .dataframe thead th {\n",
       "        text-align: right;\n",
       "    }\n",
       "</style>\n",
       "<table border=\"1\" class=\"dataframe\">\n",
       "  <thead>\n",
       "    <tr style=\"text-align: right;\">\n",
       "      <th></th>\n",
       "      <th>loan_id</th>\n",
       "      <th>account_id</th>\n",
       "      <th>date_x</th>\n",
       "      <th>Loan_Amount</th>\n",
       "      <th>Loan_duration</th>\n",
       "      <th>Monthly_payments</th>\n",
       "      <th>status</th>\n",
       "      <th>Client_x</th>\n",
       "      <th>district_id_x_x</th>\n",
       "      <th>Gender_x</th>\n",
       "      <th>...</th>\n",
       "      <th>type_x_y</th>\n",
       "      <th>card_id_y</th>\n",
       "      <th>Card_Type_y</th>\n",
       "      <th>issued_y</th>\n",
       "      <th>trans_id_y</th>\n",
       "      <th>type_y_y</th>\n",
       "      <th>operation_y</th>\n",
       "      <th>amount</th>\n",
       "      <th>balance_y</th>\n",
       "      <th>k_symbol_y</th>\n",
       "    </tr>\n",
       "  </thead>\n",
       "  <tbody>\n",
       "    <tr>\n",
       "      <th>0</th>\n",
       "      <td>4959</td>\n",
       "      <td>2</td>\n",
       "      <td>940105</td>\n",
       "      <td>80952</td>\n",
       "      <td>24</td>\n",
       "      <td>3373</td>\n",
       "      <td>A</td>\n",
       "      <td>2</td>\n",
       "      <td>1</td>\n",
       "      <td>Male</td>\n",
       "      <td>...</td>\n",
       "      <td>OWNER</td>\n",
       "      <td>NaN</td>\n",
       "      <td>Notissued</td>\n",
       "      <td>0</td>\n",
       "      <td>3530552</td>\n",
       "      <td>Credit</td>\n",
       "      <td>NaN</td>\n",
       "      <td>156.7</td>\n",
       "      <td>42628.1</td>\n",
       "      <td>Interest credited</td>\n",
       "    </tr>\n",
       "    <tr>\n",
       "      <th>1</th>\n",
       "      <td>4959</td>\n",
       "      <td>2</td>\n",
       "      <td>940105</td>\n",
       "      <td>80952</td>\n",
       "      <td>24</td>\n",
       "      <td>3373</td>\n",
       "      <td>A</td>\n",
       "      <td>2</td>\n",
       "      <td>1</td>\n",
       "      <td>Male</td>\n",
       "      <td>...</td>\n",
       "      <td>DISPONENT</td>\n",
       "      <td>NaN</td>\n",
       "      <td>Notissued</td>\n",
       "      <td>0</td>\n",
       "      <td>3530552</td>\n",
       "      <td>Credit</td>\n",
       "      <td>NaN</td>\n",
       "      <td>156.7</td>\n",
       "      <td>42628.1</td>\n",
       "      <td>Interest credited</td>\n",
       "    </tr>\n",
       "    <tr>\n",
       "      <th>2</th>\n",
       "      <td>4959</td>\n",
       "      <td>2</td>\n",
       "      <td>940105</td>\n",
       "      <td>80952</td>\n",
       "      <td>24</td>\n",
       "      <td>3373</td>\n",
       "      <td>A</td>\n",
       "      <td>3</td>\n",
       "      <td>1</td>\n",
       "      <td>Female</td>\n",
       "      <td>...</td>\n",
       "      <td>OWNER</td>\n",
       "      <td>NaN</td>\n",
       "      <td>Notissued</td>\n",
       "      <td>0</td>\n",
       "      <td>3530552</td>\n",
       "      <td>Credit</td>\n",
       "      <td>NaN</td>\n",
       "      <td>156.7</td>\n",
       "      <td>42628.1</td>\n",
       "      <td>Interest credited</td>\n",
       "    </tr>\n",
       "    <tr>\n",
       "      <th>3</th>\n",
       "      <td>4959</td>\n",
       "      <td>2</td>\n",
       "      <td>940105</td>\n",
       "      <td>80952</td>\n",
       "      <td>24</td>\n",
       "      <td>3373</td>\n",
       "      <td>A</td>\n",
       "      <td>3</td>\n",
       "      <td>1</td>\n",
       "      <td>Female</td>\n",
       "      <td>...</td>\n",
       "      <td>DISPONENT</td>\n",
       "      <td>NaN</td>\n",
       "      <td>Notissued</td>\n",
       "      <td>0</td>\n",
       "      <td>3530552</td>\n",
       "      <td>Credit</td>\n",
       "      <td>NaN</td>\n",
       "      <td>156.7</td>\n",
       "      <td>42628.1</td>\n",
       "      <td>Interest credited</td>\n",
       "    </tr>\n",
       "    <tr>\n",
       "      <th>4</th>\n",
       "      <td>4961</td>\n",
       "      <td>19</td>\n",
       "      <td>960429</td>\n",
       "      <td>30276</td>\n",
       "      <td>12</td>\n",
       "      <td>2523</td>\n",
       "      <td>B</td>\n",
       "      <td>25</td>\n",
       "      <td>21</td>\n",
       "      <td>Female</td>\n",
       "      <td>...</td>\n",
       "      <td>OWNER</td>\n",
       "      <td>NaN</td>\n",
       "      <td>Notissued</td>\n",
       "      <td>0</td>\n",
       "      <td>3681216</td>\n",
       "      <td>Credit</td>\n",
       "      <td>NaN</td>\n",
       "      <td>32.9</td>\n",
       "      <td>10873.0</td>\n",
       "      <td>Interest credited</td>\n",
       "    </tr>\n",
       "  </tbody>\n",
       "</table>\n",
       "<p>5 rows × 73 columns</p>\n",
       "</div>"
      ],
      "text/plain": [
       "   loan_id  account_id  date_x  Loan_Amount  Loan_duration  Monthly_payments  \\\n",
       "0     4959           2  940105        80952             24              3373   \n",
       "1     4959           2  940105        80952             24              3373   \n",
       "2     4959           2  940105        80952             24              3373   \n",
       "3     4959           2  940105        80952             24              3373   \n",
       "4     4961          19  960429        30276             12              2523   \n",
       "\n",
       "  status  Client_x  district_id_x_x Gender_x        ...           type_x_y  \\\n",
       "0      A         2                1     Male        ...              OWNER   \n",
       "1      A         2                1     Male        ...          DISPONENT   \n",
       "2      A         3                1   Female        ...              OWNER   \n",
       "3      A         3                1   Female        ...          DISPONENT   \n",
       "4      B        25               21   Female        ...              OWNER   \n",
       "\n",
       "   card_id_y Card_Type_y issued_y trans_id_y  type_y_y  operation_y  amount  \\\n",
       "0        NaN   Notissued        0    3530552    Credit          NaN   156.7   \n",
       "1        NaN   Notissued        0    3530552    Credit          NaN   156.7   \n",
       "2        NaN   Notissued        0    3530552    Credit          NaN   156.7   \n",
       "3        NaN   Notissued        0    3530552    Credit          NaN   156.7   \n",
       "4        NaN   Notissued        0    3681216    Credit          NaN    32.9   \n",
       "\n",
       "   balance_y         k_symbol_y  \n",
       "0    42628.1  Interest credited  \n",
       "1    42628.1  Interest credited  \n",
       "2    42628.1  Interest credited  \n",
       "3    42628.1  Interest credited  \n",
       "4    10873.0  Interest credited  \n",
       "\n",
       "[5 rows x 73 columns]"
      ]
     },
     "metadata": {},
     "output_type": "display_data"
    }
   ],
   "source": [
    "display(loan.head())"
   ]
  },
  {
   "cell_type": "code",
   "execution_count": 229,
   "metadata": {},
   "outputs": [
    {
     "data": {
      "text/plain": [
       "0"
      ]
     },
     "execution_count": 229,
     "metadata": {},
     "output_type": "execute_result"
    }
   ],
   "source": [
    "loan.duplicated().sum()"
   ]
  },
  {
   "cell_type": "markdown",
   "metadata": {},
   "source": [
    "### i. What is the distribution of loan quantum given out by the bank?"
   ]
  },
  {
   "cell_type": "code",
   "execution_count": 236,
   "metadata": {},
   "outputs": [
    {
     "data": {
      "image/png": "[encoded data removed]",
      "text/plain": [
       "<Figure size 432x288 with 1 Axes>"
      ]
     },
     "metadata": {
      "needs_background": "light"
     },
     "output_type": "display_data"
    }
   ],
   "source": [
    "dy=plt.hist(loan['amount'], density=True, bins=100)"
   ]
  },
  {
   "cell_type": "markdown",
   "metadata": {},
   "source": [
    "### ii. What is the relation between loan quantum and average salary?"
   ]
  },
  {
   "cell_type": "code",
   "execution_count": 164,
   "metadata": {},
   "outputs": [],
   "source": [
    "loan['amount_x']= loan.amount_x.astype(int)"
   ]
  },
  {
   "cell_type": "code",
   "execution_count": 165,
   "metadata": {},
   "outputs": [
    {
     "data": {
      "text/plain": [
       "<seaborn.axisgrid.JointGrid at 0x22c9f8075c0>"
      ]
     },
     "execution_count": 165,
     "metadata": {},
     "output_type": "execute_result"
    },
    {
     "data": {
      "image/png": "[encoded data removed]",
      "text/plain": [
       "<Figure size 432x432 with 3 Axes>"
      ]
     },
     "metadata": {
      "needs_background": "light"
     },
     "output_type": "display_data"
    }
   ],
   "source": [
    "sns.jointplot(x='Average_Salary',y='amount_x',data=loan)"
   ]
  },
  {
   "cell_type": "markdown",
   "metadata": {},
   "source": [
    "### iii. How many loans are currently in arrears?"
   ]
  },
  {
   "cell_type": "code",
   "execution_count": 166,
   "metadata": {},
   "outputs": [
    {
     "data": {
      "text/plain": [
       "Text(0.5, 0, 'Loan Status')"
      ]
     },
     "execution_count": 166,
     "metadata": {},
     "output_type": "execute_result"
    },
    {
     "data": {
      "image/png": "[encoded data removed]",
      "text/plain": [
       "<Figure size 432x288 with 1 Axes>"
      ]
     },
     "metadata": {
      "needs_background": "light"
     },
     "output_type": "display_data"
    }
   ],
   "source": [
    "loan['status'].value_counts().plot(kind='bar', subplots=True)\n",
    "plt.ylabel('Number of Loans',fontsize=13)\n",
    "plt.xlabel('Loan Status',fontsize=13)"
   ]
  },
  {
   "cell_type": "markdown",
   "metadata": {},
   "source": [
    "Since D represents the loans where the contract is running but the the clients loan are in arrears, we can see that about 50 loans are currently in arrears"
   ]
  },
  {
   "cell_type": "markdown",
   "metadata": {},
   "source": [
    "### iv. What is the distribution of loan payments received by the bank?"
   ]
  },
  {
   "cell_type": "code",
   "execution_count": 167,
   "metadata": {},
   "outputs": [
    {
     "data": {
      "image/png": "[encoded data removed]",
      "text/plain": [
       "<Figure size 432x288 with 1 Axes>"
      ]
     },
     "metadata": {
      "needs_background": "light"
     },
     "output_type": "display_data"
    }
   ],
   "source": [
    "dx=plt.hist(loan['payments'], density=True, bins=100)"
   ]
  },
  {
   "cell_type": "markdown",
   "metadata": {},
   "source": [
    "### d. Transactions\n",
    "#### i. Which region has the lowest average number of transactions?"
   ]
  },
  {
   "cell_type": "markdown",
   "metadata": {},
   "source": [
    "#### iv. What is the breakdown of the various transaction types?"
   ]
  },
  {
   "cell_type": "code",
   "execution_count": 168,
   "metadata": {},
   "outputs": [
    {
     "data": {
      "text/plain": [
       "array([<matplotlib.axes._subplots.AxesSubplot object at 0x0000022CA10C80F0>],\n",
       "      dtype=object)"
      ]
     },
     "execution_count": 168,
     "metadata": {},
     "output_type": "execute_result"
    },
    {
     "data": {
      "image/png": "[encoded data removed]",
      "text/plain": [
       "<Figure size 432x288 with 1 Axes>"
      ]
     },
     "metadata": {
      "needs_background": "light"
     },
     "output_type": "display_data"
    }
   ],
   "source": [
    "loan['type_y'].value_counts().plot(kind='bar', subplots=True)"
   ]
  },
  {
   "cell_type": "markdown",
   "metadata": {},
   "source": [
    "Ok the project alot of time, i didnt have time to think for all the queries required.. But im moving forward towards the modelling part"
   ]
  },
  {
   "cell_type": "markdown",
   "metadata": {},
   "source": [
    "### 3. Construct a Machine Learning model to address any ONE of the following use cases:\n",
    "### 1. Default prediction for loans"
   ]
  },
  {
   "cell_type": "markdown",
   "metadata": {},
   "source": [
    "Time to pre process the data further.. First im going to drop all id columns and some other that may be irrelevant for the model"
   ]
  },
  {
   "cell_type": "code",
   "execution_count": 169,
   "metadata": {},
   "outputs": [],
   "source": [
    "loan.rename(columns={'amount_x':'Loan_Amount','payments':'Monthly_payments','duration':'Loan_duration','district_name':'District'}, inplace=True)"
   ]
  },
  {
   "cell_type": "code",
   "execution_count": 170,
   "metadata": {},
   "outputs": [],
   "source": [
    "Final= pd.DataFrame(loan)#Make a new dataset for modeling"
   ]
  },
  {
   "cell_type": "code",
   "execution_count": 171,
   "metadata": {},
   "outputs": [],
   "source": [
    "Final.drop(['loan_id','date_x','district_id_x','trans_id','account_id','operation','card_id','disp_id','district_id_y','DOB','date_y','District','frequency','k_symbol','AgeGroup','Client'], axis=1, inplace=True)"
   ]
  },
  {
   "cell_type": "code",
   "execution_count": 172,
   "metadata": {},
   "outputs": [
    {
     "data": {
      "text/html": [
       "<div>\n",
       "<style scoped>\n",
       "    .dataframe tbody tr th:only-of-type {\n",
       "        vertical-align: middle;\n",
       "    }\n",
       "\n",
       "    .dataframe tbody tr th {\n",
       "        vertical-align: top;\n",
       "    }\n",
       "\n",
       "    .dataframe thead th {\n",
       "        text-align: right;\n",
       "    }\n",
       "</style>\n",
       "<table border=\"1\" class=\"dataframe\">\n",
       "  <thead>\n",
       "    <tr style=\"text-align: right;\">\n",
       "      <th></th>\n",
       "      <th>Loan_Amount</th>\n",
       "      <th>Loan_duration</th>\n",
       "      <th>Monthly_payments</th>\n",
       "      <th>status</th>\n",
       "      <th>Gender</th>\n",
       "      <th>Age</th>\n",
       "      <th>Region</th>\n",
       "      <th>A4</th>\n",
       "      <th>A5</th>\n",
       "      <th>A6</th>\n",
       "      <th>...</th>\n",
       "      <th>Unemployment_rate95</th>\n",
       "      <th>Unemployment96</th>\n",
       "      <th>A14</th>\n",
       "      <th>Crimesin95-96</th>\n",
       "      <th>type_x</th>\n",
       "      <th>Card_Type</th>\n",
       "      <th>issued</th>\n",
       "      <th>type_y</th>\n",
       "      <th>amount_y</th>\n",
       "      <th>balance</th>\n",
       "    </tr>\n",
       "  </thead>\n",
       "  <tbody>\n",
       "    <tr>\n",
       "      <th>0</th>\n",
       "      <td>80952</td>\n",
       "      <td>24</td>\n",
       "      <td>3373</td>\n",
       "      <td>A</td>\n",
       "      <td>Male</td>\n",
       "      <td>74</td>\n",
       "      <td>Prague</td>\n",
       "      <td>1204953</td>\n",
       "      <td>0</td>\n",
       "      <td>0</td>\n",
       "      <td>...</td>\n",
       "      <td>0.29</td>\n",
       "      <td>0.43</td>\n",
       "      <td>167</td>\n",
       "      <td>184784</td>\n",
       "      <td>OWNER</td>\n",
       "      <td>Notissued</td>\n",
       "      <td>0</td>\n",
       "      <td>Credit</td>\n",
       "      <td>156.7</td>\n",
       "      <td>42628.1</td>\n",
       "    </tr>\n",
       "    <tr>\n",
       "      <th>1</th>\n",
       "      <td>80952</td>\n",
       "      <td>24</td>\n",
       "      <td>3373</td>\n",
       "      <td>A</td>\n",
       "      <td>Female</td>\n",
       "      <td>78</td>\n",
       "      <td>Prague</td>\n",
       "      <td>1204953</td>\n",
       "      <td>0</td>\n",
       "      <td>0</td>\n",
       "      <td>...</td>\n",
       "      <td>0.29</td>\n",
       "      <td>0.43</td>\n",
       "      <td>167</td>\n",
       "      <td>184784</td>\n",
       "      <td>DISPONENT</td>\n",
       "      <td>Notissued</td>\n",
       "      <td>0</td>\n",
       "      <td>Credit</td>\n",
       "      <td>156.7</td>\n",
       "      <td>42628.1</td>\n",
       "    </tr>\n",
       "    <tr>\n",
       "      <th>2</th>\n",
       "      <td>30276</td>\n",
       "      <td>12</td>\n",
       "      <td>2523</td>\n",
       "      <td>B</td>\n",
       "      <td>Female</td>\n",
       "      <td>79</td>\n",
       "      <td>south Bohemia</td>\n",
       "      <td>103347</td>\n",
       "      <td>87</td>\n",
       "      <td>16</td>\n",
       "      <td>...</td>\n",
       "      <td>1.51</td>\n",
       "      <td>2.07</td>\n",
       "      <td>123</td>\n",
       "      <td>4653</td>\n",
       "      <td>OWNER</td>\n",
       "      <td>Notissued</td>\n",
       "      <td>0</td>\n",
       "      <td>Credit</td>\n",
       "      <td>32.9</td>\n",
       "      <td>10873.0</td>\n",
       "    </tr>\n",
       "    <tr>\n",
       "      <th>3</th>\n",
       "      <td>30276</td>\n",
       "      <td>12</td>\n",
       "      <td>2523</td>\n",
       "      <td>A</td>\n",
       "      <td>Male</td>\n",
       "      <td>57</td>\n",
       "      <td>north Moravia</td>\n",
       "      <td>228848</td>\n",
       "      <td>15</td>\n",
       "      <td>40</td>\n",
       "      <td>...</td>\n",
       "      <td>4.09</td>\n",
       "      <td>4.72</td>\n",
       "      <td>96</td>\n",
       "      <td>11510</td>\n",
       "      <td>OWNER</td>\n",
       "      <td>Notissued</td>\n",
       "      <td>0</td>\n",
       "      <td>Credit</td>\n",
       "      <td>197.5</td>\n",
       "      <td>30199.4</td>\n",
       "    </tr>\n",
       "    <tr>\n",
       "      <th>4</th>\n",
       "      <td>318480</td>\n",
       "      <td>60</td>\n",
       "      <td>5308</td>\n",
       "      <td>D</td>\n",
       "      <td>Male</td>\n",
       "      <td>66</td>\n",
       "      <td>south Bohemia</td>\n",
       "      <td>70646</td>\n",
       "      <td>94</td>\n",
       "      <td>14</td>\n",
       "      <td>...</td>\n",
       "      <td>2.65</td>\n",
       "      <td>3.64</td>\n",
       "      <td>120</td>\n",
       "      <td>3105</td>\n",
       "      <td>OWNER</td>\n",
       "      <td>Notissued</td>\n",
       "      <td>0</td>\n",
       "      <td>Credit</td>\n",
       "      <td>102.1</td>\n",
       "      <td>45904.5</td>\n",
       "    </tr>\n",
       "  </tbody>\n",
       "</table>\n",
       "<p>5 rows × 24 columns</p>\n",
       "</div>"
      ],
      "text/plain": [
       "   Loan_Amount  Loan_duration  Monthly_payments status  Gender  Age  \\\n",
       "0        80952             24              3373      A    Male   74   \n",
       "1        80952             24              3373      A  Female   78   \n",
       "2        30276             12              2523      B  Female   79   \n",
       "3        30276             12              2523      A    Male   57   \n",
       "4       318480             60              5308      D    Male   66   \n",
       "\n",
       "          Region       A4  A5  A6   ...     Unemployment_rate95  \\\n",
       "0         Prague  1204953   0   0   ...                    0.29   \n",
       "1         Prague  1204953   0   0   ...                    0.29   \n",
       "2  south Bohemia   103347  87  16   ...                    1.51   \n",
       "3  north Moravia   228848  15  40   ...                    4.09   \n",
       "4  south Bohemia    70646  94  14   ...                    2.65   \n",
       "\n",
       "   Unemployment96  A14  Crimesin95-96     type_x  Card_Type  issued  type_y  \\\n",
       "0            0.43  167         184784      OWNER  Notissued       0  Credit   \n",
       "1            0.43  167         184784  DISPONENT  Notissued       0  Credit   \n",
       "2            2.07  123           4653      OWNER  Notissued       0  Credit   \n",
       "3            4.72   96          11510      OWNER  Notissued       0  Credit   \n",
       "4            3.64  120           3105      OWNER  Notissued       0  Credit   \n",
       "\n",
       "  amount_y  balance  \n",
       "0    156.7  42628.1  \n",
       "1    156.7  42628.1  \n",
       "2     32.9  10873.0  \n",
       "3    197.5  30199.4  \n",
       "4    102.1  45904.5  \n",
       "\n",
       "[5 rows x 24 columns]"
      ]
     },
     "metadata": {},
     "output_type": "display_data"
    }
   ],
   "source": [
    "display(Final.head())"
   ]
  },
  {
   "cell_type": "markdown",
   "metadata": {},
   "source": [
    "Since i am going for binar classification problem.. My Target variable will be Status but i will go for binary classification so first i need to convert it into binary class"
   ]
  },
  {
   "cell_type": "code",
   "execution_count": 173,
   "metadata": {},
   "outputs": [],
   "source": [
    "def Defaulter(x):# The clients whose contracts have finished without issue are non defaulters, or whose contracts are running\n",
    "   #but they are paying their debts are also non defaulters others are considered defaulters\n",
    "    if x == 'A':\n",
    "        return 'Non_Defaulter'\n",
    "    elif x == 'B':\n",
    "        return 'Defaulter'\n",
    "    elif x == 'C':\n",
    "        return 'Non_Defaulter'\n",
    "    elif x == 'D':\n",
    "        return 'Defaulter'\n",
    "    else:\n",
    "        return np.NaN"
   ]
  },
  {
   "cell_type": "code",
   "execution_count": 174,
   "metadata": {},
   "outputs": [],
   "source": [
    "Final['status'] = Final['status'].map(Defaulter)"
   ]
  },
  {
   "cell_type": "code",
   "execution_count": 175,
   "metadata": {},
   "outputs": [
    {
     "data": {
      "text/html": [
       "<div>\n",
       "<style scoped>\n",
       "    .dataframe tbody tr th:only-of-type {\n",
       "        vertical-align: middle;\n",
       "    }\n",
       "\n",
       "    .dataframe tbody tr th {\n",
       "        vertical-align: top;\n",
       "    }\n",
       "\n",
       "    .dataframe thead th {\n",
       "        text-align: right;\n",
       "    }\n",
       "</style>\n",
       "<table border=\"1\" class=\"dataframe\">\n",
       "  <thead>\n",
       "    <tr style=\"text-align: right;\">\n",
       "      <th></th>\n",
       "      <th>Loan_Amount</th>\n",
       "      <th>Loan_duration</th>\n",
       "      <th>Monthly_payments</th>\n",
       "      <th>status</th>\n",
       "      <th>Gender</th>\n",
       "      <th>Age</th>\n",
       "      <th>Region</th>\n",
       "      <th>A4</th>\n",
       "      <th>A5</th>\n",
       "      <th>A6</th>\n",
       "      <th>...</th>\n",
       "      <th>Unemployment_rate95</th>\n",
       "      <th>Unemployment96</th>\n",
       "      <th>A14</th>\n",
       "      <th>Crimesin95-96</th>\n",
       "      <th>type_x</th>\n",
       "      <th>Card_Type</th>\n",
       "      <th>issued</th>\n",
       "      <th>type_y</th>\n",
       "      <th>amount_y</th>\n",
       "      <th>balance</th>\n",
       "    </tr>\n",
       "  </thead>\n",
       "  <tbody>\n",
       "    <tr>\n",
       "      <th>0</th>\n",
       "      <td>80952</td>\n",
       "      <td>24</td>\n",
       "      <td>3373</td>\n",
       "      <td>Non_Defaulter</td>\n",
       "      <td>Male</td>\n",
       "      <td>74</td>\n",
       "      <td>Prague</td>\n",
       "      <td>1204953</td>\n",
       "      <td>0</td>\n",
       "      <td>0</td>\n",
       "      <td>...</td>\n",
       "      <td>0.29</td>\n",
       "      <td>0.43</td>\n",
       "      <td>167</td>\n",
       "      <td>184784</td>\n",
       "      <td>OWNER</td>\n",
       "      <td>Notissued</td>\n",
       "      <td>0</td>\n",
       "      <td>Credit</td>\n",
       "      <td>156.7</td>\n",
       "      <td>42628.1</td>\n",
       "    </tr>\n",
       "    <tr>\n",
       "      <th>1</th>\n",
       "      <td>80952</td>\n",
       "      <td>24</td>\n",
       "      <td>3373</td>\n",
       "      <td>Non_Defaulter</td>\n",
       "      <td>Female</td>\n",
       "      <td>78</td>\n",
       "      <td>Prague</td>\n",
       "      <td>1204953</td>\n",
       "      <td>0</td>\n",
       "      <td>0</td>\n",
       "      <td>...</td>\n",
       "      <td>0.29</td>\n",
       "      <td>0.43</td>\n",
       "      <td>167</td>\n",
       "      <td>184784</td>\n",
       "      <td>DISPONENT</td>\n",
       "      <td>Notissued</td>\n",
       "      <td>0</td>\n",
       "      <td>Credit</td>\n",
       "      <td>156.7</td>\n",
       "      <td>42628.1</td>\n",
       "    </tr>\n",
       "    <tr>\n",
       "      <th>2</th>\n",
       "      <td>30276</td>\n",
       "      <td>12</td>\n",
       "      <td>2523</td>\n",
       "      <td>Defaulter</td>\n",
       "      <td>Female</td>\n",
       "      <td>79</td>\n",
       "      <td>south Bohemia</td>\n",
       "      <td>103347</td>\n",
       "      <td>87</td>\n",
       "      <td>16</td>\n",
       "      <td>...</td>\n",
       "      <td>1.51</td>\n",
       "      <td>2.07</td>\n",
       "      <td>123</td>\n",
       "      <td>4653</td>\n",
       "      <td>OWNER</td>\n",
       "      <td>Notissued</td>\n",
       "      <td>0</td>\n",
       "      <td>Credit</td>\n",
       "      <td>32.9</td>\n",
       "      <td>10873.0</td>\n",
       "    </tr>\n",
       "    <tr>\n",
       "      <th>3</th>\n",
       "      <td>30276</td>\n",
       "      <td>12</td>\n",
       "      <td>2523</td>\n",
       "      <td>Non_Defaulter</td>\n",
       "      <td>Male</td>\n",
       "      <td>57</td>\n",
       "      <td>north Moravia</td>\n",
       "      <td>228848</td>\n",
       "      <td>15</td>\n",
       "      <td>40</td>\n",
       "      <td>...</td>\n",
       "      <td>4.09</td>\n",
       "      <td>4.72</td>\n",
       "      <td>96</td>\n",
       "      <td>11510</td>\n",
       "      <td>OWNER</td>\n",
       "      <td>Notissued</td>\n",
       "      <td>0</td>\n",
       "      <td>Credit</td>\n",
       "      <td>197.5</td>\n",
       "      <td>30199.4</td>\n",
       "    </tr>\n",
       "    <tr>\n",
       "      <th>4</th>\n",
       "      <td>318480</td>\n",
       "      <td>60</td>\n",
       "      <td>5308</td>\n",
       "      <td>Defaulter</td>\n",
       "      <td>Male</td>\n",
       "      <td>66</td>\n",
       "      <td>south Bohemia</td>\n",
       "      <td>70646</td>\n",
       "      <td>94</td>\n",
       "      <td>14</td>\n",
       "      <td>...</td>\n",
       "      <td>2.65</td>\n",
       "      <td>3.64</td>\n",
       "      <td>120</td>\n",
       "      <td>3105</td>\n",
       "      <td>OWNER</td>\n",
       "      <td>Notissued</td>\n",
       "      <td>0</td>\n",
       "      <td>Credit</td>\n",
       "      <td>102.1</td>\n",
       "      <td>45904.5</td>\n",
       "    </tr>\n",
       "  </tbody>\n",
       "</table>\n",
       "<p>5 rows × 24 columns</p>\n",
       "</div>"
      ],
      "text/plain": [
       "   Loan_Amount  Loan_duration  Monthly_payments         status  Gender  Age  \\\n",
       "0        80952             24              3373  Non_Defaulter    Male   74   \n",
       "1        80952             24              3373  Non_Defaulter  Female   78   \n",
       "2        30276             12              2523      Defaulter  Female   79   \n",
       "3        30276             12              2523  Non_Defaulter    Male   57   \n",
       "4       318480             60              5308      Defaulter    Male   66   \n",
       "\n",
       "          Region       A4  A5  A6   ...     Unemployment_rate95  \\\n",
       "0         Prague  1204953   0   0   ...                    0.29   \n",
       "1         Prague  1204953   0   0   ...                    0.29   \n",
       "2  south Bohemia   103347  87  16   ...                    1.51   \n",
       "3  north Moravia   228848  15  40   ...                    4.09   \n",
       "4  south Bohemia    70646  94  14   ...                    2.65   \n",
       "\n",
       "   Unemployment96  A14  Crimesin95-96     type_x  Card_Type  issued  type_y  \\\n",
       "0            0.43  167         184784      OWNER  Notissued       0  Credit   \n",
       "1            0.43  167         184784  DISPONENT  Notissued       0  Credit   \n",
       "2            2.07  123           4653      OWNER  Notissued       0  Credit   \n",
       "3            4.72   96          11510      OWNER  Notissued       0  Credit   \n",
       "4            3.64  120           3105      OWNER  Notissued       0  Credit   \n",
       "\n",
       "  amount_y  balance  \n",
       "0    156.7  42628.1  \n",
       "1    156.7  42628.1  \n",
       "2     32.9  10873.0  \n",
       "3    197.5  30199.4  \n",
       "4    102.1  45904.5  \n",
       "\n",
       "[5 rows x 24 columns]"
      ]
     },
     "metadata": {},
     "output_type": "display_data"
    }
   ],
   "source": [
    "display(Final.head())"
   ]
  },
  {
   "cell_type": "code",
   "execution_count": 176,
   "metadata": {},
   "outputs": [
    {
     "data": {
      "text/plain": [
       "Non_Defaulter    751\n",
       "Defaulter         76\n",
       "Name: status, dtype: int64"
      ]
     },
     "execution_count": 176,
     "metadata": {},
     "output_type": "execute_result"
    }
   ],
   "source": [
    "Final['status'].value_counts()"
   ]
  },
  {
   "cell_type": "code",
   "execution_count": 177,
   "metadata": {},
   "outputs": [
    {
     "data": {
      "text/plain": [
       "Loan_Amount              int32\n",
       "Loan_duration            int64\n",
       "Monthly_payments         int64\n",
       "status                  object\n",
       "Gender                  object\n",
       "Age                      int64\n",
       "Region                  object\n",
       "A4                       int64\n",
       "A5                       int64\n",
       "A6                       int64\n",
       "A7                       int64\n",
       "A8                       int64\n",
       "A10                    float64\n",
       "Average_Salary           int64\n",
       "Unemployment_rate95    float64\n",
       "Unemployment96         float64\n",
       "A14                      int64\n",
       "Crimesin95-96            int64\n",
       "type_x                  object\n",
       "Card_Type               object\n",
       "issued                  object\n",
       "type_y                  object\n",
       "amount_y               float64\n",
       "balance                float64\n",
       "dtype: object"
      ]
     },
     "execution_count": 177,
     "metadata": {},
     "output_type": "execute_result"
    }
   ],
   "source": [
    "Final.dtypes"
   ]
  },
  {
   "cell_type": "markdown",
   "metadata": {},
   "source": [
    "Changing the object types to categories and converting them into numeric form"
   ]
  },
  {
   "cell_type": "code",
   "execution_count": 178,
   "metadata": {},
   "outputs": [],
   "source": [
    "Final['status'] = Final['status'].astype('category')\n",
    "Final['Gender'] = Final['Gender'].astype('category')\n",
    "Final['Region'] = Final['Region'].astype('category')\n",
    "Final['Card_Type'] = Final['Card_Type'].astype('category')\n",
    "Final['type_x'] = Final['type_x'].astype('category')\n",
    "Final['type_y'] = Final['type_y'].astype('category')\n",
    "Final['issued'] = Final['issued'].astype('int')"
   ]
  },
  {
   "cell_type": "code",
   "execution_count": 179,
   "metadata": {},
   "outputs": [],
   "source": [
    "Final['status']= Final['status'].cat.codes\n",
    "Final['Gender'] = Final['Gender'].cat.codes\n",
    "Final['Region'] = Final['Region'].cat.codes\n",
    "Final['Card_Type'] = Final['Card_Type'].cat.codes\n",
    "Final['type_x'] = Final['type_x'].cat.codes\n",
    "Final['type_y'] = Final['type_y'].cat.codes"
   ]
  },
  {
   "cell_type": "code",
   "execution_count": 180,
   "metadata": {},
   "outputs": [
    {
     "data": {
      "text/html": [
       "<div>\n",
       "<style scoped>\n",
       "    .dataframe tbody tr th:only-of-type {\n",
       "        vertical-align: middle;\n",
       "    }\n",
       "\n",
       "    .dataframe tbody tr th {\n",
       "        vertical-align: top;\n",
       "    }\n",
       "\n",
       "    .dataframe thead th {\n",
       "        text-align: right;\n",
       "    }\n",
       "</style>\n",
       "<table border=\"1\" class=\"dataframe\">\n",
       "  <thead>\n",
       "    <tr style=\"text-align: right;\">\n",
       "      <th></th>\n",
       "      <th>Loan_Amount</th>\n",
       "      <th>Loan_duration</th>\n",
       "      <th>Monthly_payments</th>\n",
       "      <th>status</th>\n",
       "      <th>Gender</th>\n",
       "      <th>Age</th>\n",
       "      <th>Region</th>\n",
       "      <th>A4</th>\n",
       "      <th>A5</th>\n",
       "      <th>A6</th>\n",
       "      <th>...</th>\n",
       "      <th>Unemployment_rate95</th>\n",
       "      <th>Unemployment96</th>\n",
       "      <th>A14</th>\n",
       "      <th>Crimesin95-96</th>\n",
       "      <th>type_x</th>\n",
       "      <th>Card_Type</th>\n",
       "      <th>issued</th>\n",
       "      <th>type_y</th>\n",
       "      <th>amount_y</th>\n",
       "      <th>balance</th>\n",
       "    </tr>\n",
       "  </thead>\n",
       "  <tbody>\n",
       "    <tr>\n",
       "      <th>0</th>\n",
       "      <td>80952</td>\n",
       "      <td>24</td>\n",
       "      <td>3373</td>\n",
       "      <td>1</td>\n",
       "      <td>1</td>\n",
       "      <td>74</td>\n",
       "      <td>0</td>\n",
       "      <td>1204953</td>\n",
       "      <td>0</td>\n",
       "      <td>0</td>\n",
       "      <td>...</td>\n",
       "      <td>0.29</td>\n",
       "      <td>0.43</td>\n",
       "      <td>167</td>\n",
       "      <td>184784</td>\n",
       "      <td>1</td>\n",
       "      <td>0</td>\n",
       "      <td>0</td>\n",
       "      <td>0</td>\n",
       "      <td>156.7</td>\n",
       "      <td>42628.1</td>\n",
       "    </tr>\n",
       "    <tr>\n",
       "      <th>1</th>\n",
       "      <td>80952</td>\n",
       "      <td>24</td>\n",
       "      <td>3373</td>\n",
       "      <td>1</td>\n",
       "      <td>0</td>\n",
       "      <td>78</td>\n",
       "      <td>0</td>\n",
       "      <td>1204953</td>\n",
       "      <td>0</td>\n",
       "      <td>0</td>\n",
       "      <td>...</td>\n",
       "      <td>0.29</td>\n",
       "      <td>0.43</td>\n",
       "      <td>167</td>\n",
       "      <td>184784</td>\n",
       "      <td>0</td>\n",
       "      <td>0</td>\n",
       "      <td>0</td>\n",
       "      <td>0</td>\n",
       "      <td>156.7</td>\n",
       "      <td>42628.1</td>\n",
       "    </tr>\n",
       "    <tr>\n",
       "      <th>2</th>\n",
       "      <td>30276</td>\n",
       "      <td>12</td>\n",
       "      <td>2523</td>\n",
       "      <td>0</td>\n",
       "      <td>0</td>\n",
       "      <td>79</td>\n",
       "      <td>5</td>\n",
       "      <td>103347</td>\n",
       "      <td>87</td>\n",
       "      <td>16</td>\n",
       "      <td>...</td>\n",
       "      <td>1.51</td>\n",
       "      <td>2.07</td>\n",
       "      <td>123</td>\n",
       "      <td>4653</td>\n",
       "      <td>1</td>\n",
       "      <td>0</td>\n",
       "      <td>0</td>\n",
       "      <td>0</td>\n",
       "      <td>32.9</td>\n",
       "      <td>10873.0</td>\n",
       "    </tr>\n",
       "    <tr>\n",
       "      <th>3</th>\n",
       "      <td>30276</td>\n",
       "      <td>12</td>\n",
       "      <td>2523</td>\n",
       "      <td>1</td>\n",
       "      <td>1</td>\n",
       "      <td>57</td>\n",
       "      <td>4</td>\n",
       "      <td>228848</td>\n",
       "      <td>15</td>\n",
       "      <td>40</td>\n",
       "      <td>...</td>\n",
       "      <td>4.09</td>\n",
       "      <td>4.72</td>\n",
       "      <td>96</td>\n",
       "      <td>11510</td>\n",
       "      <td>1</td>\n",
       "      <td>0</td>\n",
       "      <td>0</td>\n",
       "      <td>0</td>\n",
       "      <td>197.5</td>\n",
       "      <td>30199.4</td>\n",
       "    </tr>\n",
       "    <tr>\n",
       "      <th>4</th>\n",
       "      <td>318480</td>\n",
       "      <td>60</td>\n",
       "      <td>5308</td>\n",
       "      <td>0</td>\n",
       "      <td>1</td>\n",
       "      <td>66</td>\n",
       "      <td>5</td>\n",
       "      <td>70646</td>\n",
       "      <td>94</td>\n",
       "      <td>14</td>\n",
       "      <td>...</td>\n",
       "      <td>2.65</td>\n",
       "      <td>3.64</td>\n",
       "      <td>120</td>\n",
       "      <td>3105</td>\n",
       "      <td>1</td>\n",
       "      <td>0</td>\n",
       "      <td>0</td>\n",
       "      <td>0</td>\n",
       "      <td>102.1</td>\n",
       "      <td>45904.5</td>\n",
       "    </tr>\n",
       "  </tbody>\n",
       "</table>\n",
       "<p>5 rows × 24 columns</p>\n",
       "</div>"
      ],
      "text/plain": [
       "   Loan_Amount  Loan_duration  Monthly_payments  status  Gender  Age  Region  \\\n",
       "0        80952             24              3373       1       1   74       0   \n",
       "1        80952             24              3373       1       0   78       0   \n",
       "2        30276             12              2523       0       0   79       5   \n",
       "3        30276             12              2523       1       1   57       4   \n",
       "4       318480             60              5308       0       1   66       5   \n",
       "\n",
       "        A4  A5  A6   ...     Unemployment_rate95  Unemployment96  A14  \\\n",
       "0  1204953   0   0   ...                    0.29            0.43  167   \n",
       "1  1204953   0   0   ...                    0.29            0.43  167   \n",
       "2   103347  87  16   ...                    1.51            2.07  123   \n",
       "3   228848  15  40   ...                    4.09            4.72   96   \n",
       "4    70646  94  14   ...                    2.65            3.64  120   \n",
       "\n",
       "   Crimesin95-96  type_x  Card_Type  issued  type_y  amount_y  balance  \n",
       "0         184784       1          0       0       0     156.7  42628.1  \n",
       "1         184784       0          0       0       0     156.7  42628.1  \n",
       "2           4653       1          0       0       0      32.9  10873.0  \n",
       "3          11510       1          0       0       0     197.5  30199.4  \n",
       "4           3105       1          0       0       0     102.1  45904.5  \n",
       "\n",
       "[5 rows x 24 columns]"
      ]
     },
     "metadata": {},
     "output_type": "display_data"
    }
   ],
   "source": [
    "display(Final.head())"
   ]
  },
  {
   "cell_type": "code",
   "execution_count": 181,
   "metadata": {},
   "outputs": [],
   "source": [
    "v= Final.dtypes"
   ]
  },
  {
   "cell_type": "markdown",
   "metadata": {},
   "source": [
    "### Correlation Matrix"
   ]
  },
  {
   "cell_type": "code",
   "execution_count": 182,
   "metadata": {},
   "outputs": [
    {
     "data": {
      "text/plain": [
       "<matplotlib.axes._subplots.AxesSubplot at 0x22c9f0bfda0>"
      ]
     },
     "execution_count": 182,
     "metadata": {},
     "output_type": "execute_result"
    },
    {
     "data": {
      "image/png": "[encoded data removed]",
      "text/plain": [
       "<Figure size 432x288 with 2 Axes>"
      ]
     },
     "metadata": {
      "needs_background": "light"
     },
     "output_type": "display_data"
    }
   ],
   "source": [
    "corr = Final.corr()\n",
    "# Correlation Plot for the independent variables\n",
    "sns.heatmap(corr, \n",
    "        xticklabels=corr.columns,\n",
    "        yticklabels=corr.columns)"
   ]
  },
  {
   "cell_type": "markdown",
   "metadata": {},
   "source": [
    "#### Getting Data ready for modeling"
   ]
  },
  {
   "cell_type": "code",
   "execution_count": 183,
   "metadata": {},
   "outputs": [
    {
     "data": {
      "text/html": [
       "<div>\n",
       "<style scoped>\n",
       "    .dataframe tbody tr th:only-of-type {\n",
       "        vertical-align: middle;\n",
       "    }\n",
       "\n",
       "    .dataframe tbody tr th {\n",
       "        vertical-align: top;\n",
       "    }\n",
       "\n",
       "    .dataframe thead th {\n",
       "        text-align: right;\n",
       "    }\n",
       "</style>\n",
       "<table border=\"1\" class=\"dataframe\">\n",
       "  <thead>\n",
       "    <tr style=\"text-align: right;\">\n",
       "      <th></th>\n",
       "      <th>Loan_Amount</th>\n",
       "      <th>Loan_duration</th>\n",
       "      <th>Monthly_payments</th>\n",
       "      <th>Gender</th>\n",
       "      <th>Age</th>\n",
       "      <th>Region</th>\n",
       "      <th>A4</th>\n",
       "      <th>A5</th>\n",
       "      <th>A6</th>\n",
       "      <th>A7</th>\n",
       "      <th>...</th>\n",
       "      <th>Unemployment_rate95</th>\n",
       "      <th>Unemployment96</th>\n",
       "      <th>A14</th>\n",
       "      <th>Crimesin95-96</th>\n",
       "      <th>type_x</th>\n",
       "      <th>Card_Type</th>\n",
       "      <th>issued</th>\n",
       "      <th>type_y</th>\n",
       "      <th>amount_y</th>\n",
       "      <th>balance</th>\n",
       "    </tr>\n",
       "  </thead>\n",
       "  <tbody>\n",
       "    <tr>\n",
       "      <th>0</th>\n",
       "      <td>80952</td>\n",
       "      <td>24</td>\n",
       "      <td>3373</td>\n",
       "      <td>1</td>\n",
       "      <td>74</td>\n",
       "      <td>0</td>\n",
       "      <td>1204953</td>\n",
       "      <td>0</td>\n",
       "      <td>0</td>\n",
       "      <td>0</td>\n",
       "      <td>...</td>\n",
       "      <td>0.29</td>\n",
       "      <td>0.43</td>\n",
       "      <td>167</td>\n",
       "      <td>184784</td>\n",
       "      <td>1</td>\n",
       "      <td>0</td>\n",
       "      <td>0</td>\n",
       "      <td>0</td>\n",
       "      <td>156.7</td>\n",
       "      <td>42628.1</td>\n",
       "    </tr>\n",
       "    <tr>\n",
       "      <th>1</th>\n",
       "      <td>80952</td>\n",
       "      <td>24</td>\n",
       "      <td>3373</td>\n",
       "      <td>0</td>\n",
       "      <td>78</td>\n",
       "      <td>0</td>\n",
       "      <td>1204953</td>\n",
       "      <td>0</td>\n",
       "      <td>0</td>\n",
       "      <td>0</td>\n",
       "      <td>...</td>\n",
       "      <td>0.29</td>\n",
       "      <td>0.43</td>\n",
       "      <td>167</td>\n",
       "      <td>184784</td>\n",
       "      <td>0</td>\n",
       "      <td>0</td>\n",
       "      <td>0</td>\n",
       "      <td>0</td>\n",
       "      <td>156.7</td>\n",
       "      <td>42628.1</td>\n",
       "    </tr>\n",
       "    <tr>\n",
       "      <th>2</th>\n",
       "      <td>30276</td>\n",
       "      <td>12</td>\n",
       "      <td>2523</td>\n",
       "      <td>0</td>\n",
       "      <td>79</td>\n",
       "      <td>5</td>\n",
       "      <td>103347</td>\n",
       "      <td>87</td>\n",
       "      <td>16</td>\n",
       "      <td>7</td>\n",
       "      <td>...</td>\n",
       "      <td>1.51</td>\n",
       "      <td>2.07</td>\n",
       "      <td>123</td>\n",
       "      <td>4653</td>\n",
       "      <td>1</td>\n",
       "      <td>0</td>\n",
       "      <td>0</td>\n",
       "      <td>0</td>\n",
       "      <td>32.9</td>\n",
       "      <td>10873.0</td>\n",
       "    </tr>\n",
       "    <tr>\n",
       "      <th>3</th>\n",
       "      <td>30276</td>\n",
       "      <td>12</td>\n",
       "      <td>2523</td>\n",
       "      <td>1</td>\n",
       "      <td>57</td>\n",
       "      <td>4</td>\n",
       "      <td>228848</td>\n",
       "      <td>15</td>\n",
       "      <td>40</td>\n",
       "      <td>18</td>\n",
       "      <td>...</td>\n",
       "      <td>4.09</td>\n",
       "      <td>4.72</td>\n",
       "      <td>96</td>\n",
       "      <td>11510</td>\n",
       "      <td>1</td>\n",
       "      <td>0</td>\n",
       "      <td>0</td>\n",
       "      <td>0</td>\n",
       "      <td>197.5</td>\n",
       "      <td>30199.4</td>\n",
       "    </tr>\n",
       "    <tr>\n",
       "      <th>4</th>\n",
       "      <td>318480</td>\n",
       "      <td>60</td>\n",
       "      <td>5308</td>\n",
       "      <td>1</td>\n",
       "      <td>66</td>\n",
       "      <td>5</td>\n",
       "      <td>70646</td>\n",
       "      <td>94</td>\n",
       "      <td>14</td>\n",
       "      <td>3</td>\n",
       "      <td>...</td>\n",
       "      <td>2.65</td>\n",
       "      <td>3.64</td>\n",
       "      <td>120</td>\n",
       "      <td>3105</td>\n",
       "      <td>1</td>\n",
       "      <td>0</td>\n",
       "      <td>0</td>\n",
       "      <td>0</td>\n",
       "      <td>102.1</td>\n",
       "      <td>45904.5</td>\n",
       "    </tr>\n",
       "  </tbody>\n",
       "</table>\n",
       "<p>5 rows × 23 columns</p>\n",
       "</div>"
      ],
      "text/plain": [
       "   Loan_Amount  Loan_duration  Monthly_payments  Gender  Age  Region       A4  \\\n",
       "0        80952             24              3373       1   74       0  1204953   \n",
       "1        80952             24              3373       0   78       0  1204953   \n",
       "2        30276             12              2523       0   79       5   103347   \n",
       "3        30276             12              2523       1   57       4   228848   \n",
       "4       318480             60              5308       1   66       5    70646   \n",
       "\n",
       "   A5  A6  A7   ...     Unemployment_rate95  Unemployment96  A14  \\\n",
       "0   0   0   0   ...                    0.29            0.43  167   \n",
       "1   0   0   0   ...                    0.29            0.43  167   \n",
       "2  87  16   7   ...                    1.51            2.07  123   \n",
       "3  15  40  18   ...                    4.09            4.72   96   \n",
       "4  94  14   3   ...                    2.65            3.64  120   \n",
       "\n",
       "   Crimesin95-96  type_x  Card_Type  issued  type_y  amount_y  balance  \n",
       "0         184784       1          0       0       0     156.7  42628.1  \n",
       "1         184784       0          0       0       0     156.7  42628.1  \n",
       "2           4653       1          0       0       0      32.9  10873.0  \n",
       "3          11510       1          0       0       0     197.5  30199.4  \n",
       "4           3105       1          0       0       0     102.1  45904.5  \n",
       "\n",
       "[5 rows x 23 columns]"
      ]
     },
     "metadata": {},
     "output_type": "display_data"
    },
    {
     "data": {
      "text/html": [
       "<div>\n",
       "<style scoped>\n",
       "    .dataframe tbody tr th:only-of-type {\n",
       "        vertical-align: middle;\n",
       "    }\n",
       "\n",
       "    .dataframe tbody tr th {\n",
       "        vertical-align: top;\n",
       "    }\n",
       "\n",
       "    .dataframe thead th {\n",
       "        text-align: right;\n",
       "    }\n",
       "</style>\n",
       "<table border=\"1\" class=\"dataframe\">\n",
       "  <thead>\n",
       "    <tr style=\"text-align: right;\">\n",
       "      <th></th>\n",
       "      <th>status</th>\n",
       "    </tr>\n",
       "  </thead>\n",
       "  <tbody>\n",
       "    <tr>\n",
       "      <th>0</th>\n",
       "      <td>1</td>\n",
       "    </tr>\n",
       "    <tr>\n",
       "      <th>1</th>\n",
       "      <td>1</td>\n",
       "    </tr>\n",
       "    <tr>\n",
       "      <th>2</th>\n",
       "      <td>0</td>\n",
       "    </tr>\n",
       "    <tr>\n",
       "      <th>3</th>\n",
       "      <td>1</td>\n",
       "    </tr>\n",
       "    <tr>\n",
       "      <th>4</th>\n",
       "      <td>0</td>\n",
       "    </tr>\n",
       "  </tbody>\n",
       "</table>\n",
       "</div>"
      ],
      "text/plain": [
       "   status\n",
       "0       1\n",
       "1       1\n",
       "2       0\n",
       "3       1\n",
       "4       0"
      ]
     },
     "metadata": {},
     "output_type": "display_data"
    }
   ],
   "source": [
    "X= Final.drop(['status'],axis=1)\n",
    "Y= pd.DataFrame(Final['status'])\n",
    "display(X.head())\n",
    "display(Y.head())"
   ]
  },
  {
   "cell_type": "code",
   "execution_count": 184,
   "metadata": {},
   "outputs": [
    {
     "data": {
      "text/plain": [
       "1    751\n",
       "0     76\n",
       "Name: status, dtype: int64"
      ]
     },
     "execution_count": 184,
     "metadata": {},
     "output_type": "execute_result"
    }
   ],
   "source": [
    "Y['status'].value_counts()"
   ]
  },
  {
   "cell_type": "markdown",
   "metadata": {},
   "source": [
    "### Feature Selection\n",
    "##### Due to shortage of time im not using any complex methods for Feature selection.. Simply using Extra trees classifier from sklearn library"
   ]
  },
  {
   "cell_type": "code",
   "execution_count": 185,
   "metadata": {},
   "outputs": [
    {
     "name": "stderr",
     "output_type": "stream",
     "text": [
      "C:\\Users\\uzair\\Anaconda3\\lib\\site-packages\\sklearn\\ensemble\\weight_boosting.py:29: DeprecationWarning: numpy.core.umath_tests is an internal NumPy module and should not be imported. It will be removed in a future NumPy release.\n",
      "  from numpy.core.umath_tests import inner1d\n"
     ]
    },
    {
     "data": {
      "text/plain": [
       "array([0.08390055, 0.05399768, 0.07227961, 0.02899126, 0.06986248,\n",
       "       0.0298344 , 0.02673031, 0.03855175, 0.03372896, 0.01765037,\n",
       "       0.01652956, 0.02382041, 0.02597032, 0.02256672, 0.0206748 ,\n",
       "       0.02443902, 0.02880405, 0.01992671, 0.0052626 , 0.01737   ,\n",
       "       0.10873966, 0.12855757, 0.1018112 ])"
      ]
     },
     "metadata": {},
     "output_type": "display_data"
    }
   ],
   "source": [
    "from sklearn import metrics\n",
    "from sklearn.ensemble import ExtraTreesClassifier\n",
    "# fit an Extra Trees model to the data\n",
    "model = ExtraTreesClassifier()\n",
    "model.fit(X, Y.values.ravel())\n",
    "# display the relative importance of each attribute\n",
    "display(model.feature_importances_)"
   ]
  },
  {
   "cell_type": "markdown",
   "metadata": {},
   "source": [
    " For feature selection i set a manual Threshold for feature importance to 0.02, Anything below it will be discarded and anything above i will keep for my model development.. So far the output show that type_x, Card_Type,A4,A6,A7,A8,A10,Unemployment96,Region,Crimein95-96.. So i will discard these "
   ]
  },
  {
   "cell_type": "code",
   "execution_count": 186,
   "metadata": {},
   "outputs": [],
   "source": [
    "X= X.drop(['type_x', 'Card_Type','A4','A6','A7','A8','A10','Unemployment_rate95','Region','Crimesin95-96'],axis=1)"
   ]
  },
  {
   "cell_type": "code",
   "execution_count": 187,
   "metadata": {},
   "outputs": [
    {
     "data": {
      "text/html": [
       "<div>\n",
       "<style scoped>\n",
       "    .dataframe tbody tr th:only-of-type {\n",
       "        vertical-align: middle;\n",
       "    }\n",
       "\n",
       "    .dataframe tbody tr th {\n",
       "        vertical-align: top;\n",
       "    }\n",
       "\n",
       "    .dataframe thead th {\n",
       "        text-align: right;\n",
       "    }\n",
       "</style>\n",
       "<table border=\"1\" class=\"dataframe\">\n",
       "  <thead>\n",
       "    <tr style=\"text-align: right;\">\n",
       "      <th></th>\n",
       "      <th>Loan_Amount</th>\n",
       "      <th>Loan_duration</th>\n",
       "      <th>Monthly_payments</th>\n",
       "      <th>Gender</th>\n",
       "      <th>Age</th>\n",
       "      <th>A5</th>\n",
       "      <th>Average_Salary</th>\n",
       "      <th>Unemployment96</th>\n",
       "      <th>A14</th>\n",
       "      <th>issued</th>\n",
       "      <th>type_y</th>\n",
       "      <th>amount_y</th>\n",
       "      <th>balance</th>\n",
       "    </tr>\n",
       "  </thead>\n",
       "  <tbody>\n",
       "    <tr>\n",
       "      <th>0</th>\n",
       "      <td>80952</td>\n",
       "      <td>24</td>\n",
       "      <td>3373</td>\n",
       "      <td>1</td>\n",
       "      <td>74</td>\n",
       "      <td>0</td>\n",
       "      <td>12541</td>\n",
       "      <td>0.43</td>\n",
       "      <td>167</td>\n",
       "      <td>0</td>\n",
       "      <td>0</td>\n",
       "      <td>156.7</td>\n",
       "      <td>42628.1</td>\n",
       "    </tr>\n",
       "    <tr>\n",
       "      <th>1</th>\n",
       "      <td>80952</td>\n",
       "      <td>24</td>\n",
       "      <td>3373</td>\n",
       "      <td>0</td>\n",
       "      <td>78</td>\n",
       "      <td>0</td>\n",
       "      <td>12541</td>\n",
       "      <td>0.43</td>\n",
       "      <td>167</td>\n",
       "      <td>0</td>\n",
       "      <td>0</td>\n",
       "      <td>156.7</td>\n",
       "      <td>42628.1</td>\n",
       "    </tr>\n",
       "    <tr>\n",
       "      <th>2</th>\n",
       "      <td>30276</td>\n",
       "      <td>12</td>\n",
       "      <td>2523</td>\n",
       "      <td>0</td>\n",
       "      <td>79</td>\n",
       "      <td>87</td>\n",
       "      <td>9104</td>\n",
       "      <td>2.07</td>\n",
       "      <td>123</td>\n",
       "      <td>0</td>\n",
       "      <td>0</td>\n",
       "      <td>32.9</td>\n",
       "      <td>10873.0</td>\n",
       "    </tr>\n",
       "    <tr>\n",
       "      <th>3</th>\n",
       "      <td>30276</td>\n",
       "      <td>12</td>\n",
       "      <td>2523</td>\n",
       "      <td>1</td>\n",
       "      <td>57</td>\n",
       "      <td>15</td>\n",
       "      <td>9893</td>\n",
       "      <td>4.72</td>\n",
       "      <td>96</td>\n",
       "      <td>0</td>\n",
       "      <td>0</td>\n",
       "      <td>197.5</td>\n",
       "      <td>30199.4</td>\n",
       "    </tr>\n",
       "    <tr>\n",
       "      <th>4</th>\n",
       "      <td>318480</td>\n",
       "      <td>60</td>\n",
       "      <td>5308</td>\n",
       "      <td>1</td>\n",
       "      <td>66</td>\n",
       "      <td>94</td>\n",
       "      <td>8547</td>\n",
       "      <td>3.64</td>\n",
       "      <td>120</td>\n",
       "      <td>0</td>\n",
       "      <td>0</td>\n",
       "      <td>102.1</td>\n",
       "      <td>45904.5</td>\n",
       "    </tr>\n",
       "  </tbody>\n",
       "</table>\n",
       "</div>"
      ],
      "text/plain": [
       "   Loan_Amount  Loan_duration  Monthly_payments  Gender  Age  A5  \\\n",
       "0        80952             24              3373       1   74   0   \n",
       "1        80952             24              3373       0   78   0   \n",
       "2        30276             12              2523       0   79  87   \n",
       "3        30276             12              2523       1   57  15   \n",
       "4       318480             60              5308       1   66  94   \n",
       "\n",
       "   Average_Salary  Unemployment96  A14  issued  type_y  amount_y  balance  \n",
       "0           12541            0.43  167       0       0     156.7  42628.1  \n",
       "1           12541            0.43  167       0       0     156.7  42628.1  \n",
       "2            9104            2.07  123       0       0      32.9  10873.0  \n",
       "3            9893            4.72   96       0       0     197.5  30199.4  \n",
       "4            8547            3.64  120       0       0     102.1  45904.5  "
      ]
     },
     "metadata": {},
     "output_type": "display_data"
    }
   ],
   "source": [
    "display(X.head())"
   ]
  },
  {
   "cell_type": "markdown",
   "metadata": {},
   "source": [
    "### Modelling"
   ]
  },
  {
   "cell_type": "code",
   "execution_count": 188,
   "metadata": {},
   "outputs": [],
   "source": [
    "from sklearn import model_selection\n",
    "from sklearn.linear_model import LogisticRegression\n",
    "from sklearn import metrics\n",
    "from sklearn.metrics import confusion_matrix\n",
    "from sklearn.metrics import classification_report\n",
    "from sklearn.model_selection import cross_val_score\n",
    "from sklearn.model_selection import cross_val_predict\n",
    "from sklearn.ensemble import RandomForestClassifier"
   ]
  },
  {
   "cell_type": "markdown",
   "metadata": {},
   "source": [
    "#### Defiining a function for Model Training and testing which will print out classification report, Confusion Matrix and Accuracy"
   ]
  },
  {
   "cell_type": "markdown",
   "metadata": {},
   "source": [
    "Also im using Cross Validation for checking model Performance"
   ]
  },
  {
   "cell_type": "code",
   "execution_count": 189,
   "metadata": {},
   "outputs": [],
   "source": [
    "\"\"\"\"Defining A function for model evaulatin\"\"\"\n",
    "def model1(mod, model_name, x_train, y_train, x_test, y_test):\n",
    "    mod.fit(x_train, y_train)\n",
    "    print(model_name)\n",
    "    acc = cross_val_score(mod, x_train, y_train, scoring = \"accuracy\", cv = 5)\n",
    "    predictions = cross_val_predict(mod, x_train, y_train, cv = 5)\n",
    "    print(\"Accuracy:\", round(acc.mean(),3))\n",
    "    cm = confusion_matrix(predictions, y_train)\n",
    "    print(\"Confusion Matrix:  \\n\", cm)\n",
    "    print(\"                    Classification Report \\n\",classification_report(predictions, y_train))"
   ]
  },
  {
   "cell_type": "markdown",
   "metadata": {},
   "source": [
    "#### Splitting the data into train and test set"
   ]
  },
  {
   "cell_type": "code",
   "execution_count": 190,
   "metadata": {},
   "outputs": [],
   "source": [
    "x_train, x_test, y_train, y_test = model_selection.train_test_split(X, Y.values.ravel(), test_size=0.2, random_state=0) #80/20 split"
   ]
  },
  {
   "cell_type": "markdown",
   "metadata": {},
   "source": [
    "### Logistic Regression"
   ]
  },
  {
   "cell_type": "code",
   "execution_count": 191,
   "metadata": {},
   "outputs": [],
   "source": [
    "LR=LogisticRegression(penalty='l2', max_iter=1000)"
   ]
  },
  {
   "cell_type": "code",
   "execution_count": 192,
   "metadata": {},
   "outputs": [
    {
     "name": "stdout",
     "output_type": "stream",
     "text": [
      "Logistic Regression\n",
      "Accuracy: 0.92\n",
      "Confusion Matrix:  \n",
      " [[  5   0]\n",
      " [ 53 603]]\n",
      "                    Classification Report \n",
      "              precision    recall  f1-score   support\n",
      "\n",
      "          0       0.09      1.00      0.16         5\n",
      "          1       1.00      0.92      0.96       656\n",
      "\n",
      "avg / total       0.99      0.92      0.95       661\n",
      "\n"
     ]
    }
   ],
   "source": [
    "model1(LR,\"Logistic Regression\",x_train,y_train,x_test,y_test)"
   ]
  },
  {
   "cell_type": "markdown",
   "metadata": {},
   "source": [
    "Our Model is pretty neat As it attained an accuracy of 92% which is pretty good i believe for the test run"
   ]
  },
  {
   "cell_type": "markdown",
   "metadata": {},
   "source": [
    "### Random Forest"
   ]
  },
  {
   "cell_type": "code",
   "execution_count": 193,
   "metadata": {},
   "outputs": [],
   "source": [
    "RF = RandomForestClassifier()"
   ]
  },
  {
   "cell_type": "code",
   "execution_count": 194,
   "metadata": {},
   "outputs": [
    {
     "name": "stdout",
     "output_type": "stream",
     "text": [
      "Random Forest\n",
      "Accuracy: 0.923\n",
      "Confusion Matrix:  \n",
      " [[ 18   6]\n",
      " [ 40 597]]\n",
      "                    Classification Report \n",
      "              precision    recall  f1-score   support\n",
      "\n",
      "          0       0.31      0.75      0.44        24\n",
      "          1       0.99      0.94      0.96       637\n",
      "\n",
      "avg / total       0.97      0.93      0.94       661\n",
      "\n"
     ]
    }
   ],
   "source": [
    "model1(RF,\"Random Forest\",x_train,y_train,x_test,y_test)"
   ]
  },
  {
   "cell_type": "markdown",
   "metadata": {},
   "source": [
    "Random Forest Performed even better ad attained an accuracy of 92.9 %. This is getting exciting"
   ]
  }
 ],
 "metadata": {
  "kernelspec": {
   "display_name": "Python 3",
   "language": "python",
   "name": "python3"
  },
  "language_info": {
   "codemirror_mode": {
    "name": "ipython",
    "version": 3
   },
   "file_extension": ".py",
   "mimetype": "text/x-python",
   "name": "python",
   "nbconvert_exporter": "python",
   "pygments_lexer": "ipython3",
   "version": "3.6.7"
  }
 },
 "nbformat": 4,
 "nbformat_minor": 2
}
